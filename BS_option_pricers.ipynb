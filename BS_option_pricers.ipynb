{
 "cells": [
  {
   "attachments": {},
   "cell_type": "markdown",
   "metadata": {},
   "source": [
    "> The Black-Scholes formula for a call option \n",
    "\n",
    "\\begin{equation}\n",
    "\\begin{split}\n",
    "C(S,K,r,\\sigma,T) &= S_0 \\Phi(d_1) - K e^{-rT} \\Phi(d_2)\\\\\n",
    "            d_1 &= \\frac{\\log \\frac{S_0}{K} +\n",
    "            \\left(r+\\frac{\\sigma^2}{2}\\right)T}{\\sigma\\sqrt{T}}, \\hspace{2cm} d_2 = d_1 - \\sigma\\sqrt{T}\\\\\n",
    "\\end{split}            \n",
    "\\end{equation}\n",
    "\n",
    "\n",
    " > **S×norm.cdf(d1)**</br>\n",
    " > 현재 주식 가격에 이 주식이 미래에 가치가 있을 확률을 곱한 것. </br>\n",
    " > \"현재 주식을 살 수 있는 권리가 얼마나 가치가 있는지\"를 나타내는 것이며, 이는 주식이 미래에 행사 가격보다 더 높게 거래될 확률을 반영.\n",
    "\n",
    " > **Ke^−rT * norm.cdf(d2)** </br>\n",
    " > 옵션이 만기일에 이익을 낼 확률을 고려한 행사 가격의 현재 가치를 나타냄. </br>\n",
    " > 옵션을 실행(사용)하기로 결정했을 때, 실제로 지불해야 할 돈의 현재 가치와 그 확률을 고려함. </br>\n",
    " > 행사 가격을 현재 가치로 할인하고, 옵션이 만기일에 수익을 낼 확률을 고려한 값.\n",
    "\n",
    "> norm.cdf(d1) = 주식 가격이 미래에 옵션의 행사 가격보다 높을 확률\n",
    "\n",
    "> norm.cdf(d2) = 옵션이 만기일에 이익이 될  확률\n",
    "\n"
   ]
  },
  {
   "cell_type": "code",
   "execution_count": 5,
   "metadata": {},
   "outputs": [],
   "source": [
    "import pandas\n",
    "import numpy as np\n",
    "from scipy.stats import norm\n",
    "from scipy.optimize import brentq\n",
    "import matplotlib.pylab as plt\n",
    "\n",
    "def BlackScholesCall(S, K, r, sigma, T):\n",
    "    d1 = (np.log(S/K)+(r+sigma**2/2)*T) / (sigma*np.sqrt(T))\n",
    "    d2 = d1 - sigma*np.sqrt(T)\n",
    "    return S*norm.cdf(d1) - K*np.exp(-r*T)*norm.cdf(d2)"
   ]
  },
  {
   "attachments": {},
   "cell_type": "markdown",
   "metadata": {},
   "source": [
    "> The Black-Scholes formula for a put option \n",
    "\n",
    "\\begin{equation}\n",
    "P(S,K,r,\\sigma,T) = K e^{-rT} \\Phi(-d_2) - S_0 \\Phi(-d_1)\n",
    "\\end{equation}"
   ]
  },
  {
   "cell_type": "code",
   "execution_count": 6,
   "metadata": {},
   "outputs": [],
   "source": [
    "def BlackScholesPut(S, K, r, sigma, T):\n",
    "    d1 = (np.log(S/K)+(r+sigma**2/2)*T) / (sigma*np.sqrt(T))\n",
    "    d2 = d1 - sigma*np.sqrt(T)\n",
    "    return K*np.exp(-r*T)*norm.cdf(-d2) - S*norm.cdf(-d1)\n"
   ]
  },
  {
   "attachments": {},
   "cell_type": "markdown",
   "metadata": {},
   "source": [
    "> put-call parity\n",
    "\n",
    "\\begin{equation}\n",
    "C(S, K, r, \\sigma, T) - P(S, K, r, \\sigma, T) = S - Ke^{-rT},\n",
    "\\end{equation}\n",
    "\n",
    "> call and put option should be worth the same amount when $K=Se^{rT}$."
   ]
  },
  {
   "cell_type": "code",
   "execution_count": 7,
   "metadata": {},
   "outputs": [],
   "source": [
    "S = 100.0\n",
    "r = 0.05\n",
    "T = 2.0\n",
    "K = S * np.exp(r*T)\n",
    "sigma = 0.4"
   ]
  },
  {
   "cell_type": "code",
   "execution_count": 8,
   "metadata": {},
   "outputs": [
    {
     "name": "stdout",
     "output_type": "stream",
     "text": [
      "Call price: 22.2703\n",
      "Put price: 22.2703\n"
     ]
    }
   ],
   "source": [
    "print('Call price: %.4f' % BlackScholesCall(S, K, r, sigma, T))\n",
    "print('Put price: %.4f' % BlackScholesPut(S, K, r, sigma, T))"
   ]
  },
  {
   "cell_type": "code",
   "execution_count": 13,
   "metadata": {},
   "outputs": [],
   "source": [
    "def impliedCallVolatility(S, K, r, price, T):\n",
    "    try:\n",
    "        impliedVol = brentq(lambda x: price -\n",
    "                            BlackScholesCall(S, K, r, x, T),\n",
    "                            1e-6, 1)\n",
    "    except Exception:\n",
    "        impliedVol = np.nan\n",
    "\n",
    "    return impliedVol\n",
    "\n",
    "\n",
    "# def impliedVolatility(S, K, r, price, T, payoff):\n",
    "#     try:\n",
    "#         if (payoff.lower() == 'call'):\n",
    "#             impliedVol = brentq(lambda x: price -\n",
    "#                                 BlackScholesLognormalCall(S, K, r, x, T),\n",
    "#                                 1e-12, 10.0)\n",
    "#         elif (payoff.lower() == 'put'):\n",
    "#             impliedVol = brentq(lambda x: price -\n",
    "#                                 BlackScholesLognormalPut(S, K, r, x, T),\n",
    "#                                 1e-12, 10.0)\n",
    "#         else:\n",
    "#             raise NameError('Payoff type not recognized')\n",
    "#     except Exception:\n",
    "#         impliedVol = np.nan\n",
    "\n",
    "#     return impliedVol"
   ]
  },
  {
   "cell_type": "code",
   "execution_count": 14,
   "metadata": {},
   "outputs": [
    {
     "data": {
      "image/png": "[encoded data removed]",
      "text/plain": [
       "<Figure size 640x480 with 1 Axes>"
      ]
     },
     "metadata": {},
     "output_type": "display_data"
    }
   ],
   "source": [
    "S = 50\n",
    "r = 0.01\n",
    "T = 10.0\n",
    "sigma = 0.5\n",
    "F = S*np.exp(r*T)\n",
    "strikes = np.linspace(50, 150, 100)\n",
    "\n",
    "summary = []\n",
    "for K in strikes:\n",
    "    price = BlackScholesCall(S, K, r, sigma, T)\n",
    "    # price = BachelierCall(S, K, r, sigma_N, T)\n",
    "    impliedvol = impliedCallVolatility(S, K, r, price, T)\n",
    "    summary.append([K, impliedvol])\n",
    "\n",
    "df = pandas.DataFrame(summary, columns=['strike', 'vol'])\n",
    "df.set_index('strike', drop=True, inplace=True)\n",
    "plt.plot(df['vol'], linewidth=2.0, label='Black-Scholes')\n",
    "plt.axis([30, 170, 0.2, 0.6])\n",
    "plt.legend()\n",
    "plt.xlabel('Strikes')\n",
    "plt.ylabel('Implied lognormal volatility')\n",
    "plt.show()\n"
   ]
  },
  {
   "attachments": {},
   "cell_type": "markdown",
   "metadata": {},
   "source": [
    "Clearly, we get a flat surface, because we use the same lognormal volatility to price the options across all strikes. In other words, if the Black-Scholes' assumption that the stock price follows lognormal distribution with a constant variance, then we should expect the implied volatilities to be the same across all strikes."
   ]
  }
 ],
 "metadata": {
  "kernelspec": {
   "display_name": "base",
   "language": "python",
   "name": "python3"
  },
  "language_info": {
   "codemirror_mode": {
    "name": "ipython",
    "version": 3
   },
   "file_extension": ".py",
   "mimetype": "text/x-python",
   "name": "python",
   "nbconvert_exporter": "python",
   "pygments_lexer": "ipython3",
   "version": "3.9.13"
  },
  "vscode": {
   "interpreter": {
    "hash": "40d3a090f54c6569ab1632332b64b2c03c39dcf918b08424e98f38b5ae0af88f"
   }
  }
 },
 "nbformat": 4,
 "nbformat_minor": 2
}
