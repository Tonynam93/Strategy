{
 "cells": [
  {
   "cell_type": "code",
   "execution_count": 1,
   "metadata": {},
   "outputs": [],
   "source": [
    "import numpy as np\n",
    "import pandas as pd\n",
    "\n",
    "import requests\n",
    "import sys\n",
    "import os"
   ]
  },
  {
   "cell_type": "markdown",
   "metadata": {},
   "source": [
    "# looking for extreme values that lie in the top 0.3% or bottom 0.3% of your data\n",
    "# identify potentially significant market movements or anomalies"
   ]
  },
  {
   "cell_type": "code",
   "execution_count": 3,
   "metadata": {},
   "outputs": [],
   "source": [
    "def get_futures_current_price(symbol):\n",
    "    url = f\"https://fapi.binance.com/fapi/v1/ticker/price?symbol={symbol}\"\n",
    "    response = requests.get(url)\n",
    "    data = response.json()\n",
    "    return float(data['price'])\n",
    "\n",
    "def send_telegram_message(message):\n",
    "    bot_token = ''\n",
    "    chat_id = ''\n",
    "    channel_username = '@Crypto_anomalies_alert'\n",
    "    url = f'https://api.telegram.org/bot{bot_token}/sendMessage'\n",
    "    params = {'chat_id': channel_username, 'text': message}\n",
    "    response = requests.post(url, json=params)\n",
    "\n",
    "def fetch_kline_data(symbol): # 4hour\n",
    "    endpoint = f\"https://fapi.binance.com/fapi/v1/klines?symbol={symbol}&limit=240&interval=1m\"\n",
    "    response = requests.get(endpoint)\n",
    "    return response.json() if response.status_code == 200 else None\n",
    "\n",
    "def calculate_returns(close_prices):\n",
    "    returns = np.diff(close_prices) / close_prices[:-1]\n",
    "    absolute_returns = np.abs(returns)\n",
    "    return absolute_returns\n",
    "\n",
    "def check_trigger(returns, std):\n",
    "    mean_return = np.mean(returns)\n",
    "    std_return = np.std(returns)\n",
    "    last_return = returns[-1]\n",
    "    if last_return > mean_return + (std * std_return) or last_return < mean_return - (std * std_return):\n",
    "        return True\n",
    "    else:\n",
    "        return False\n",
    "\n",
    "# BY PRICE_CHANGE\n",
    "# def fetch_top_crypto_close_prices():\n",
    "#     binance_endpoint_24hr = \"https://fapi.binance.com/fapi/v1/ticker/24hr\"\n",
    "#     response = requests.get(binance_endpoint_24hr)\n",
    "#     binance_response_24hr = response.json()\n",
    "#     filtered_response = [item for item in binance_response_24hr if item['symbol']]\n",
    "#     sorted_data = sorted(filtered_response, key=lambda x: float(x['priceChangePercent']), reverse=True)\n",
    "#     symbols_sorted_by_percent_change = [item['symbol'] for item in sorted_data]\n",
    "#     return symbols_sorted_by_percent_change\n",
    "\n",
    "# BY VOLUME\n",
    "def fetch_top_crypto_close_prices():\n",
    "    binance_endpoint_24hr = \"https://fapi.binance.com/fapi/v1/ticker/24hr\"\n",
    "    response = requests.get(binance_endpoint_24hr)\n",
    "    binance_response_24hr = response.json()\n",
    "    filtered_response = [item for item in binance_response_24hr if item['symbol']]\n",
    "    sorted_data = sorted(filtered_response, key=lambda x: float(x['quoteVolume']), reverse=True)\n",
    "    symbols_sorted_by_percent_change = [item['symbol'] for item in sorted_data]\n",
    "    return symbols_sorted_by_percent_change\n",
    "\n",
    "def run_job():\n",
    "    for symbol in fetch_top_crypto_close_prices()[:100]:\n",
    "        kline_data = fetch_kline_data(symbol)\n",
    "        close_prices = [float(candle[4]) for candle in kline_data]  # Extract close prices from the Kline data\n",
    "        returns = calculate_returns(close_prices)\n",
    "        trigger = check_trigger(returns, std = 3)\n",
    "        if trigger:\n",
    "            message = f\"https://www.binance.com/en/futures/{symbol}\"\n",
    "            send_telegram_message(message)\n",
    "\n",
    "def main():\n",
    "    while True:\n",
    "        run_job()\n",
    "\n",
    "# EXECUTION\n",
    "\n",
    "# if __name__ == \"__main__\":\n",
    "#     try:\n",
    "#         main()\n",
    "#     except Exception as e:\n",
    "#         # Log the error\n",
    "#         print(f\"Fatal error: {e}. Restarting script.\")\n",
    "        \n",
    "#         # Restart the script\n",
    "#         os.execl(sys.executable, sys.executable, *sys.argv)"
   ]
  },
  {
   "cell_type": "code",
   "execution_count": null,
   "metadata": {},
   "outputs": [],
   "source": [
    "#마지막이 하락인지 상승인지 확인 필요\n",
    "# 트리거 되자마자 0.3% 먹기\n",
    "#  이거 백테스팅 필요 (오늘할일)\n"
   ]
  },
  {
   "attachments": {},
   "cell_type": "markdown",
   "metadata": {},
   "source": [
    "# BACKTEST "
   ]
  },
  {
   "cell_type": "code",
   "execution_count": 3,
   "metadata": {},
   "outputs": [],
   "source": [
    "import datetime as dt\n",
    "import time\n",
    "from binance.client import Client\n",
    "from binance.enums import *\n",
    "from binance.cm_futures import CMFutures\n",
    "\n",
    "#API\n",
    "api_key = ''\n",
    "api_secret = ''\n",
    "\n",
    "client = Client(api_key,api_secret)\n",
    "\n",
    "\n",
    "#### Setting plotting and display options\n",
    "import matplotlib.pyplot as plt\n",
    "import matplotlib as mpl\n",
    "\n",
    "np.set_printoptions(precision = 3)\n",
    "\n",
    "pd.set_option(\"display.float_format\", lambda x: \"%.3f\" % x)\n",
    "\n",
    "plt.style.use(\"ggplot\")\n",
    "\n",
    "mpl.rcParams[\"axes.grid\"] = True\n",
    "mpl.rcParams[\"grid.color\"] = \"grey\"\n",
    "mpl.rcParams[\"grid.alpha\"] = 0.25\n",
    "\n",
    "mpl.rcParams[\"axes.facecolor\"] = \"white\"\n",
    "\n",
    "mpl.rcParams[\"legend.fontsize\"] = 14\n",
    "\n",
    "%matplotlib inline"
   ]
  },
  {
   "cell_type": "code",
   "execution_count": 4,
   "metadata": {},
   "outputs": [
    {
     "name": "stderr",
     "output_type": "stream",
     "text": [
      "/var/folders/xj/8fm23lb137v05ps150d3h5kr0000gn/T/ipykernel_3864/2071156349.py:22: SettingWithCopyWarning: \n",
      "A value is trying to be set on a copy of a slice from a DataFrame.\n",
      "Try using .loc[row_indexer,col_indexer] = value instead\n",
      "\n",
      "See the caveats in the documentation: https://pandas.pydata.org/pandas-docs/stable/user_guide/indexing.html#returning-a-view-versus-a-copy\n",
      "  data[\"Return\"] = data[coin].pct_change()\n"
     ]
    },
    {
     "data": {
      "text/html": [
       "<div>\n",
       "<style scoped>\n",
       "    .dataframe tbody tr th:only-of-type {\n",
       "        vertical-align: middle;\n",
       "    }\n",
       "\n",
       "    .dataframe tbody tr th {\n",
       "        vertical-align: top;\n",
       "    }\n",
       "\n",
       "    .dataframe thead th {\n",
       "        text-align: right;\n",
       "    }\n",
       "</style>\n",
       "<table border=\"1\" class=\"dataframe\">\n",
       "  <thead>\n",
       "    <tr style=\"text-align: right;\">\n",
       "      <th></th>\n",
       "      <th>1000PEPEUSDT</th>\n",
       "      <th>Return</th>\n",
       "    </tr>\n",
       "    <tr>\n",
       "      <th>date</th>\n",
       "      <th></th>\n",
       "      <th></th>\n",
       "    </tr>\n",
       "  </thead>\n",
       "  <tbody>\n",
       "    <tr>\n",
       "      <th>2024-02-22 00:00:00</th>\n",
       "      <td>0.001</td>\n",
       "      <td>NaN</td>\n",
       "    </tr>\n",
       "    <tr>\n",
       "      <th>2024-02-22 00:01:00</th>\n",
       "      <td>0.001</td>\n",
       "      <td>0.001</td>\n",
       "    </tr>\n",
       "    <tr>\n",
       "      <th>2024-02-22 00:02:00</th>\n",
       "      <td>0.001</td>\n",
       "      <td>-0.003</td>\n",
       "    </tr>\n",
       "    <tr>\n",
       "      <th>2024-02-22 00:03:00</th>\n",
       "      <td>0.001</td>\n",
       "      <td>0.000</td>\n",
       "    </tr>\n",
       "    <tr>\n",
       "      <th>2024-02-22 00:04:00</th>\n",
       "      <td>0.001</td>\n",
       "      <td>-0.002</td>\n",
       "    </tr>\n",
       "    <tr>\n",
       "      <th>...</th>\n",
       "      <td>...</td>\n",
       "      <td>...</td>\n",
       "    </tr>\n",
       "    <tr>\n",
       "      <th>2024-02-23 11:00:00</th>\n",
       "      <td>0.001</td>\n",
       "      <td>-0.003</td>\n",
       "    </tr>\n",
       "    <tr>\n",
       "      <th>2024-02-23 11:01:00</th>\n",
       "      <td>0.001</td>\n",
       "      <td>0.005</td>\n",
       "    </tr>\n",
       "    <tr>\n",
       "      <th>2024-02-23 11:02:00</th>\n",
       "      <td>0.001</td>\n",
       "      <td>0.011</td>\n",
       "    </tr>\n",
       "    <tr>\n",
       "      <th>2024-02-23 11:03:00</th>\n",
       "      <td>0.001</td>\n",
       "      <td>0.005</td>\n",
       "    </tr>\n",
       "    <tr>\n",
       "      <th>2024-02-23 11:04:00</th>\n",
       "      <td>0.001</td>\n",
       "      <td>-0.004</td>\n",
       "    </tr>\n",
       "  </tbody>\n",
       "</table>\n",
       "<p>2105 rows × 2 columns</p>\n",
       "</div>"
      ],
      "text/plain": [
       "                     1000PEPEUSDT  Return\n",
       "date                                     \n",
       "2024-02-22 00:00:00         0.001     NaN\n",
       "2024-02-22 00:01:00         0.001   0.001\n",
       "2024-02-22 00:02:00         0.001  -0.003\n",
       "2024-02-22 00:03:00         0.001   0.000\n",
       "2024-02-22 00:04:00         0.001  -0.002\n",
       "...                           ...     ...\n",
       "2024-02-23 11:00:00         0.001  -0.003\n",
       "2024-02-23 11:01:00         0.001   0.005\n",
       "2024-02-23 11:02:00         0.001   0.011\n",
       "2024-02-23 11:03:00         0.001   0.005\n",
       "2024-02-23 11:04:00         0.001  -0.004\n",
       "\n",
       "[2105 rows x 2 columns]"
      ]
     },
     "execution_count": 4,
     "metadata": {},
     "output_type": "execute_result"
    }
   ],
   "source": [
    "coin = \"1000PEPEUSDT\"\n",
    "\n",
    "date_now = dt.datetime.now()\n",
    "date_start = date_now-dt.timedelta(days=1)\n",
    "now = date_now.strftime(\"%Y-%m-%d %H:%M:%S\")\n",
    "start = date_start.strftime(\"%Y-%m-%d\")\n",
    "\n",
    "df = pd.DataFrame(client.futures_historical_klines(\n",
    "    symbol=coin,\n",
    "    interval=client.KLINE_INTERVAL_1MINUTE, # can play with this e.g. '1h', '4h', '1w', etc.\n",
    "    start_str=start,\n",
    "    end_str=now\n",
    "))\n",
    "df = df.iloc[:, :6]\n",
    "df.columns = ['date', 'open', 'high', 'low', f'{coin}', 'volume']\n",
    "df['date'] = pd.to_datetime(df['date'], unit='ms')\n",
    "for col in df.columns[1:]:\n",
    "    df[col] = pd.to_numeric(df[col])\n",
    "df = df.set_index(\"date\")\n",
    "data = df[[coin]]\n",
    "\n",
    "data[\"Return\"] = data[coin].pct_change()\n",
    "pd.set_option('display.max_rows', 10)\n",
    "\n",
    "data\n"
   ]
  },
  {
   "cell_type": "code",
   "execution_count": 14,
   "metadata": {},
   "outputs": [
    {
     "data": {
      "text/html": [
       "<div>\n",
       "<style scoped>\n",
       "    .dataframe tbody tr th:only-of-type {\n",
       "        vertical-align: middle;\n",
       "    }\n",
       "\n",
       "    .dataframe tbody tr th {\n",
       "        vertical-align: top;\n",
       "    }\n",
       "\n",
       "    .dataframe thead th {\n",
       "        text-align: right;\n",
       "    }\n",
       "</style>\n",
       "<table border=\"1\" class=\"dataframe\">\n",
       "  <thead>\n",
       "    <tr style=\"text-align: right;\">\n",
       "      <th></th>\n",
       "      <th>1000PEPEUSDT</th>\n",
       "      <th>Return</th>\n",
       "      <th>POS</th>\n",
       "    </tr>\n",
       "    <tr>\n",
       "      <th>date</th>\n",
       "      <th></th>\n",
       "      <th></th>\n",
       "      <th></th>\n",
       "    </tr>\n",
       "  </thead>\n",
       "  <tbody>\n",
       "    <tr>\n",
       "      <th>2024-02-22 00:00:00</th>\n",
       "      <td>0.001</td>\n",
       "      <td>NaN</td>\n",
       "      <td>0</td>\n",
       "    </tr>\n",
       "    <tr>\n",
       "      <th>2024-02-22 00:01:00</th>\n",
       "      <td>0.001</td>\n",
       "      <td>0.001</td>\n",
       "      <td>0</td>\n",
       "    </tr>\n",
       "    <tr>\n",
       "      <th>2024-02-22 00:02:00</th>\n",
       "      <td>0.001</td>\n",
       "      <td>-0.003</td>\n",
       "      <td>0</td>\n",
       "    </tr>\n",
       "    <tr>\n",
       "      <th>2024-02-22 00:03:00</th>\n",
       "      <td>0.001</td>\n",
       "      <td>0.000</td>\n",
       "      <td>0</td>\n",
       "    </tr>\n",
       "    <tr>\n",
       "      <th>2024-02-22 00:04:00</th>\n",
       "      <td>0.001</td>\n",
       "      <td>-0.002</td>\n",
       "      <td>0</td>\n",
       "    </tr>\n",
       "    <tr>\n",
       "      <th>...</th>\n",
       "      <td>...</td>\n",
       "      <td>...</td>\n",
       "      <td>...</td>\n",
       "    </tr>\n",
       "    <tr>\n",
       "      <th>2024-02-23 11:00:00</th>\n",
       "      <td>0.001</td>\n",
       "      <td>-0.003</td>\n",
       "      <td>0</td>\n",
       "    </tr>\n",
       "    <tr>\n",
       "      <th>2024-02-23 11:01:00</th>\n",
       "      <td>0.001</td>\n",
       "      <td>0.005</td>\n",
       "      <td>0</td>\n",
       "    </tr>\n",
       "    <tr>\n",
       "      <th>2024-02-23 11:02:00</th>\n",
       "      <td>0.001</td>\n",
       "      <td>0.011</td>\n",
       "      <td>0</td>\n",
       "    </tr>\n",
       "    <tr>\n",
       "      <th>2024-02-23 11:03:00</th>\n",
       "      <td>0.001</td>\n",
       "      <td>0.005</td>\n",
       "      <td>0</td>\n",
       "    </tr>\n",
       "    <tr>\n",
       "      <th>2024-02-23 11:04:00</th>\n",
       "      <td>0.001</td>\n",
       "      <td>-0.004</td>\n",
       "      <td>0</td>\n",
       "    </tr>\n",
       "  </tbody>\n",
       "</table>\n",
       "<p>2105 rows × 3 columns</p>\n",
       "</div>"
      ],
      "text/plain": [
       "                     1000PEPEUSDT  Return  POS\n",
       "date                                          \n",
       "2024-02-22 00:00:00         0.001     NaN    0\n",
       "2024-02-22 00:01:00         0.001   0.001    0\n",
       "2024-02-22 00:02:00         0.001  -0.003    0\n",
       "2024-02-22 00:03:00         0.001   0.000    0\n",
       "2024-02-22 00:04:00         0.001  -0.002    0\n",
       "...                           ...     ...  ...\n",
       "2024-02-23 11:00:00         0.001  -0.003    0\n",
       "2024-02-23 11:01:00         0.001   0.005    0\n",
       "2024-02-23 11:02:00         0.001   0.011    0\n",
       "2024-02-23 11:03:00         0.001   0.005    0\n",
       "2024-02-23 11:04:00         0.001  -0.004    0\n",
       "\n",
       "[2105 rows x 3 columns]"
      ]
     },
     "execution_count": 14,
     "metadata": {},
     "output_type": "execute_result"
    }
   ],
   "source": [
    "df = data.copy()\n",
    "sigma = 5\n",
    "window_size = 400  # Assuming you're using a rolling window of 400 observations\n",
    "\n",
    "df.sort_index(inplace=True)\n",
    "\n",
    "df['POS'] = 0\n",
    "\n",
    "rolling_mean = df['Return'].abs().rolling(window=window_size).mean()\n",
    "rolling_std = df['Return'].abs().rolling(window=window_size).std()\n",
    "\n",
    "for n in range(window_size, len(df)):\n",
    "    current_return = df.iloc[n]['Return']\n",
    "    mean_return = rolling_mean.iloc[n]\n",
    "    std_return = rolling_std.iloc[n]\n",
    "\n",
    "    if abs(current_return) > mean_return + (sigma * std_return):\n",
    "        df.at[df.index[n], 'POS'] = 1 if current_return > 0 else -1\n",
    "pd.set_option('display.max_rows', 10)\n",
    "\n",
    "df"
   ]
  },
  {
   "cell_type": "code",
   "execution_count": 62,
   "metadata": {},
   "outputs": [
    {
     "data": {
      "text/plain": [
       "0.06536359097253197"
      ]
     },
     "execution_count": 62,
     "metadata": {},
     "output_type": "execute_result"
    }
   ],
   "source": [
    "df['stratReturn'].iloc[-1]"
   ]
  },
  {
   "cell_type": "code",
   "execution_count": 32,
   "metadata": {},
   "outputs": [
    {
     "data": {
      "image/png": "[encoded data removed]",
      "text/plain": [
       "<Figure size 1000x600 with 1 Axes>"
      ]
     },
     "metadata": {},
     "output_type": "display_data"
    }
   ],
   "source": [
    "import pandas as pd\n",
    "import numpy as np\n",
    "\n",
    "df['Action'] = 0\n",
    "\n",
    "# Initialize variables to track the state\n",
    "in_position = False\n",
    "long_position = False\n",
    "short_position = False\n",
    "cumulative_return = 0.0\n",
    "\n",
    "for i in range(len(df) - 1):  # Adjust loop to stop before the last row\n",
    "    if not in_position:\n",
    "        if df.iloc[i]['POS'] != 0:\n",
    "            in_position = True\n",
    "            cumulative_return = 0.0  # Reset cumulative return\n",
    "            if df.iloc[i]['POS'] == 1:\n",
    "                long_position = True\n",
    "            elif df.iloc[i]['POS'] == -1:\n",
    "                short_position = True\n",
    "            continue  # Skip the rest of the loop to avoid adding return on the entry row\n",
    "    else:\n",
    "        # Safely update cumulative return with the next row's return\n",
    "        if long_position:\n",
    "            cumulative_return += df.iloc[i]['Return']\n",
    "        if short_position:\n",
    "            cumulative_return += df.iloc[i]['Return'] * -1\n",
    "\n",
    "        df.at[df.index[i], 'Action'] = 1 if long_position else -1\n",
    "        \n",
    "        # Check for take profit or stop loss conditions\n",
    "        if cumulative_return > 0.003 or cumulative_return < -0.01:  # TP/SL\n",
    "            in_position = long_position = short_position = False # Exit position\n",
    "\n",
    "pd.set_option('display.max_rows', 10)\n",
    "\n",
    "df['stratReturn'] = (df['Return'] * df['Action']).cumsum()\n",
    "df['stratReturn'].plot(figsize=(10, 6), title='Strategy Return Over Time')\n",
    "df['Return'].cumsum().plot(label='Cumulative Strategy Return')\n",
    "\n",
    "plt.legend()\n",
    "plt.title('Cumulative Market vs. Strategy Returns')\n",
    "plt.xlabel('Date')\n",
    "plt.ylabel('Cumulative Return')\n",
    "\n",
    "plt.show()\n",
    "\n"
   ]
  },
  {
   "attachments": {},
   "cell_type": "markdown",
   "metadata": {},
   "source": [
    "# BACKTEST FINAL"
   ]
  },
  {
   "cell_type": "code",
   "execution_count": null,
   "metadata": {},
   "outputs": [],
   "source": []
  },
  {
   "cell_type": "code",
   "execution_count": 111,
   "metadata": {},
   "outputs": [],
   "source": [
    "def backtestSpike(coin, days, sigma, window_size, TP, SL, plot = False):\n",
    "\n",
    "    #coin = \"1000PEPEUSDT\"\n",
    "\n",
    "    date_now = dt.datetime.now()\n",
    "    date_start = date_now-dt.timedelta(days) #(days = 1)\n",
    "    now = date_now.strftime(\"%Y-%m-%d %H:%M:%S\")\n",
    "    start = date_start.strftime(\"%Y-%m-%d\")\n",
    "\n",
    "    df = pd.DataFrame(client.futures_historical_klines(\n",
    "        symbol=coin,\n",
    "        interval=client.KLINE_INTERVAL_1MINUTE, # can play with this e.g. '1h', '4h', '1w', etc.\n",
    "        start_str=start,\n",
    "        end_str=now\n",
    "    ))\n",
    "    df = df.iloc[:, :6]\n",
    "    df.columns = ['date', 'open', 'high', 'low', f'{coin}', 'volume']\n",
    "    df['date'] = pd.to_datetime(df['date'], unit='ms')\n",
    "    for col in df.columns[1:]:\n",
    "        df[col] = pd.to_numeric(df[col])\n",
    "    df = df.set_index(\"date\")\n",
    "    data = df[[coin]]\n",
    "\n",
    "    data[\"Return\"] = data[coin].pct_change()\n",
    "    pd.set_option('display.max_rows', 10)\n",
    "\n",
    "    df = data.copy()\n",
    "    # sigma = 5\n",
    "    # window_size = 400  # Assuming you're using a rolling window of 400 observations\n",
    "\n",
    "    df.sort_index(inplace=True)\n",
    "\n",
    "    df['POS'] = 0\n",
    "\n",
    "    rolling_mean = df['Return'].abs().rolling(window=window_size).mean()\n",
    "    rolling_std = df['Return'].abs().rolling(window=window_size).std()\n",
    "\n",
    "    for n in range(window_size, len(df)):\n",
    "        current_return = df.iloc[n]['Return']\n",
    "        mean_return = rolling_mean.iloc[n]\n",
    "        std_return = rolling_std.iloc[n]\n",
    "\n",
    "        if abs(current_return) > mean_return + (sigma * std_return):\n",
    "            df.at[df.index[n], 'POS'] = 1 if current_return > 0 else -1\n",
    "\n",
    "    df['Action'] = 0\n",
    "\n",
    "    # Initialize variables to track the state\n",
    "    in_position = False\n",
    "    long_position = False\n",
    "    short_position = False\n",
    "    cumulative_return = 0.0\n",
    "\n",
    "    for i in range(len(df) - 1):  \n",
    "        if not in_position:\n",
    "            if df.iloc[i]['POS'] != 0:\n",
    "                in_position = True\n",
    "                cumulative_return = 0.0  \n",
    "                if df.iloc[i]['POS'] == 1:\n",
    "                    long_position = True\n",
    "                elif df.iloc[i]['POS'] == -1:\n",
    "                    short_position = True\n",
    "                continue  \n",
    "        else:\n",
    "            if long_position:\n",
    "                cumulative_return += df.iloc[i]['Return']\n",
    "            if short_position:\n",
    "                cumulative_return += df.iloc[i]['Return'] * -1\n",
    "\n",
    "            df.at[df.index[i], 'Action'] = 1 if long_position else -1\n",
    "            \n",
    "            if cumulative_return > TP or cumulative_return < SL:  # TP/SL\n",
    "                in_position = long_position = short_position = False # Exit position\n",
    "\n",
    "    df['stratReturn'] = (df['Return'] * df['Action']).cumsum()\n",
    "    finalReturn = df['stratReturn'].iloc[-1]\n",
    "    trade_count = (df['POS'] != 0).sum()\n",
    "\n",
    "    if plot:         \n",
    "        pd.set_option('display.max_rows', 10)\n",
    "        df['stratReturn'].plot(figsize=(10, 6), title='Strategy Return Over Time')\n",
    "        df['Return'].cumsum().plot(label='Market Return')\n",
    "\n",
    "        # Adding legend to distinguish the lines\n",
    "        plt.legend()\n",
    "\n",
    "        # Adding title and labels\n",
    "        plt.title('Cumulative Market vs. Strategy Returns')\n",
    "        plt.xlabel('Date')\n",
    "        plt.ylabel('Cumulative Return')\n",
    "\n",
    "        # Show plot\n",
    "        return plt.show()\n",
    "    \n",
    "    return finalReturn, trade_count*0.001"
   ]
  },
  {
   "cell_type": "code",
   "execution_count": 115,
   "metadata": {},
   "outputs": [
    {
     "name": "stderr",
     "output_type": "stream",
     "text": [
      "/var/folders/xj/8fm23lb137v05ps150d3h5kr0000gn/T/ipykernel_3864/4226046630.py:24: SettingWithCopyWarning: \n",
      "A value is trying to be set on a copy of a slice from a DataFrame.\n",
      "Try using .loc[row_indexer,col_indexer] = value instead\n",
      "\n",
      "See the caveats in the documentation: https://pandas.pydata.org/pandas-docs/stable/user_guide/indexing.html#returning-a-view-versus-a-copy\n",
      "  data[\"Return\"] = data[coin].pct_change()\n"
     ]
    },
    {
     "data": {
      "text/plain": [
       "(0.006218195171765362, 0.264)"
      ]
     },
     "execution_count": 115,
     "metadata": {},
     "output_type": "execute_result"
    }
   ],
   "source": [
    "backtestSpike(coin= 'INJUSDT', days= 30, sigma= 4, window_size= 240, TP= 0.005, SL= -0.01, plot= False)"
   ]
  },
  {
   "cell_type": "code",
   "execution_count": 79,
   "metadata": {},
   "outputs": [],
   "source": [
    "TP_list = [0.002, 0.003, 0.005, 0.01, 0.02]\n",
    "SL_list = [-0.002, -0.003, -0.005, -0.01, -0.02]\n",
    "sigma_list = np.arange(2,6, 1)\n",
    "window_size_list = np.arange(240, 1500, 240)\n",
    "coin_list = ['INJUSDT', 'ONDOUSDT']"
   ]
  },
  {
   "cell_type": "code",
   "execution_count": 77,
   "metadata": {},
   "outputs": [
    {
     "name": "stderr",
     "output_type": "stream",
     "text": [
      "/var/folders/xj/8fm23lb137v05ps150d3h5kr0000gn/T/ipykernel_3864/91862772.py:24: SettingWithCopyWarning: \n",
      "A value is trying to be set on a copy of a slice from a DataFrame.\n",
      "Try using .loc[row_indexer,col_indexer] = value instead\n",
      "\n",
      "See the caveats in the documentation: https://pandas.pydata.org/pandas-docs/stable/user_guide/indexing.html#returning-a-view-versus-a-copy\n",
      "  data[\"Return\"] = data[coin].pct_change()\n"
     ]
    },
    {
     "data": {
      "text/plain": [
       "-0.04529252419458385"
      ]
     },
     "execution_count": 77,
     "metadata": {},
     "output_type": "execute_result"
    }
   ],
   "source": [
    "backtestSpike(coin= 'INJUSDT', days= 5, sigma= 5, window_size= 240, TP= 0.003, SL= -0.01, plot= False)"
   ]
  },
  {
   "cell_type": "code",
   "execution_count": 83,
   "metadata": {},
   "outputs": [
    {
     "name": "stderr",
     "output_type": "stream",
     "text": [
      "/var/folders/xj/8fm23lb137v05ps150d3h5kr0000gn/T/ipykernel_3864/91862772.py:24: SettingWithCopyWarning: \n",
      "A value is trying to be set on a copy of a slice from a DataFrame.\n",
      "Try using .loc[row_indexer,col_indexer] = value instead\n",
      "\n",
      "See the caveats in the documentation: https://pandas.pydata.org/pandas-docs/stable/user_guide/indexing.html#returning-a-view-versus-a-copy\n",
      "  data[\"Return\"] = data[coin].pct_change()\n"
     ]
    },
    {
     "name": "stdout",
     "output_type": "stream",
     "text": [
      "Coin: INJUSDT, TP: 0.002, SL: -0.002, Sigma: 2, Window Size: 240, Output: -0.029726359230012767\n"
     ]
    },
    {
     "name": "stderr",
     "output_type": "stream",
     "text": [
      "/var/folders/xj/8fm23lb137v05ps150d3h5kr0000gn/T/ipykernel_3864/91862772.py:24: SettingWithCopyWarning: \n",
      "A value is trying to be set on a copy of a slice from a DataFrame.\n",
      "Try using .loc[row_indexer,col_indexer] = value instead\n",
      "\n",
      "See the caveats in the documentation: https://pandas.pydata.org/pandas-docs/stable/user_guide/indexing.html#returning-a-view-versus-a-copy\n",
      "  data[\"Return\"] = data[coin].pct_change()\n"
     ]
    },
    {
     "name": "stdout",
     "output_type": "stream",
     "text": [
      "Coin: INJUSDT, TP: 0.002, SL: -0.002, Sigma: 2, Window Size: 480, Output: 0.0008193865566380465\n"
     ]
    },
    {
     "name": "stderr",
     "output_type": "stream",
     "text": [
      "/var/folders/xj/8fm23lb137v05ps150d3h5kr0000gn/T/ipykernel_3864/91862772.py:24: SettingWithCopyWarning: \n",
      "A value is trying to be set on a copy of a slice from a DataFrame.\n",
      "Try using .loc[row_indexer,col_indexer] = value instead\n",
      "\n",
      "See the caveats in the documentation: https://pandas.pydata.org/pandas-docs/stable/user_guide/indexing.html#returning-a-view-versus-a-copy\n",
      "  data[\"Return\"] = data[coin].pct_change()\n"
     ]
    },
    {
     "name": "stdout",
     "output_type": "stream",
     "text": [
      "Coin: INJUSDT, TP: 0.002, SL: -0.002, Sigma: 2, Window Size: 720, Output: -0.04882745107660358\n"
     ]
    },
    {
     "name": "stderr",
     "output_type": "stream",
     "text": [
      "/var/folders/xj/8fm23lb137v05ps150d3h5kr0000gn/T/ipykernel_3864/91862772.py:24: SettingWithCopyWarning: \n",
      "A value is trying to be set on a copy of a slice from a DataFrame.\n",
      "Try using .loc[row_indexer,col_indexer] = value instead\n",
      "\n",
      "See the caveats in the documentation: https://pandas.pydata.org/pandas-docs/stable/user_guide/indexing.html#returning-a-view-versus-a-copy\n",
      "  data[\"Return\"] = data[coin].pct_change()\n"
     ]
    },
    {
     "name": "stdout",
     "output_type": "stream",
     "text": [
      "Coin: INJUSDT, TP: 0.002, SL: -0.002, Sigma: 2, Window Size: 960, Output: -0.05104949364525291\n"
     ]
    },
    {
     "name": "stderr",
     "output_type": "stream",
     "text": [
      "/var/folders/xj/8fm23lb137v05ps150d3h5kr0000gn/T/ipykernel_3864/91862772.py:24: SettingWithCopyWarning: \n",
      "A value is trying to be set on a copy of a slice from a DataFrame.\n",
      "Try using .loc[row_indexer,col_indexer] = value instead\n",
      "\n",
      "See the caveats in the documentation: https://pandas.pydata.org/pandas-docs/stable/user_guide/indexing.html#returning-a-view-versus-a-copy\n",
      "  data[\"Return\"] = data[coin].pct_change()\n"
     ]
    },
    {
     "name": "stdout",
     "output_type": "stream",
     "text": [
      "Coin: INJUSDT, TP: 0.002, SL: -0.002, Sigma: 2, Window Size: 1200, Output: -0.032459997696699605\n"
     ]
    },
    {
     "name": "stderr",
     "output_type": "stream",
     "text": [
      "/var/folders/xj/8fm23lb137v05ps150d3h5kr0000gn/T/ipykernel_3864/91862772.py:24: SettingWithCopyWarning: \n",
      "A value is trying to be set on a copy of a slice from a DataFrame.\n",
      "Try using .loc[row_indexer,col_indexer] = value instead\n",
      "\n",
      "See the caveats in the documentation: https://pandas.pydata.org/pandas-docs/stable/user_guide/indexing.html#returning-a-view-versus-a-copy\n",
      "  data[\"Return\"] = data[coin].pct_change()\n"
     ]
    },
    {
     "name": "stdout",
     "output_type": "stream",
     "text": [
      "Coin: INJUSDT, TP: 0.002, SL: -0.002, Sigma: 2, Window Size: 1440, Output: -0.038780893114881754\n"
     ]
    },
    {
     "name": "stderr",
     "output_type": "stream",
     "text": [
      "/var/folders/xj/8fm23lb137v05ps150d3h5kr0000gn/T/ipykernel_3864/91862772.py:24: SettingWithCopyWarning: \n",
      "A value is trying to be set on a copy of a slice from a DataFrame.\n",
      "Try using .loc[row_indexer,col_indexer] = value instead\n",
      "\n",
      "See the caveats in the documentation: https://pandas.pydata.org/pandas-docs/stable/user_guide/indexing.html#returning-a-view-versus-a-copy\n",
      "  data[\"Return\"] = data[coin].pct_change()\n"
     ]
    },
    {
     "name": "stdout",
     "output_type": "stream",
     "text": [
      "Coin: INJUSDT, TP: 0.002, SL: -0.002, Sigma: 3, Window Size: 240, Output: -0.015125684605629464\n"
     ]
    },
    {
     "name": "stderr",
     "output_type": "stream",
     "text": [
      "/var/folders/xj/8fm23lb137v05ps150d3h5kr0000gn/T/ipykernel_3864/91862772.py:24: SettingWithCopyWarning: \n",
      "A value is trying to be set on a copy of a slice from a DataFrame.\n",
      "Try using .loc[row_indexer,col_indexer] = value instead\n",
      "\n",
      "See the caveats in the documentation: https://pandas.pydata.org/pandas-docs/stable/user_guide/indexing.html#returning-a-view-versus-a-copy\n",
      "  data[\"Return\"] = data[coin].pct_change()\n"
     ]
    },
    {
     "name": "stdout",
     "output_type": "stream",
     "text": [
      "Coin: INJUSDT, TP: 0.002, SL: -0.002, Sigma: 3, Window Size: 480, Output: 0.03512836656566787\n"
     ]
    },
    {
     "name": "stderr",
     "output_type": "stream",
     "text": [
      "/var/folders/xj/8fm23lb137v05ps150d3h5kr0000gn/T/ipykernel_3864/91862772.py:24: SettingWithCopyWarning: \n",
      "A value is trying to be set on a copy of a slice from a DataFrame.\n",
      "Try using .loc[row_indexer,col_indexer] = value instead\n",
      "\n",
      "See the caveats in the documentation: https://pandas.pydata.org/pandas-docs/stable/user_guide/indexing.html#returning-a-view-versus-a-copy\n",
      "  data[\"Return\"] = data[coin].pct_change()\n"
     ]
    },
    {
     "name": "stdout",
     "output_type": "stream",
     "text": [
      "Coin: INJUSDT, TP: 0.002, SL: -0.002, Sigma: 3, Window Size: 720, Output: 0.038474668739334916\n"
     ]
    },
    {
     "name": "stderr",
     "output_type": "stream",
     "text": [
      "/var/folders/xj/8fm23lb137v05ps150d3h5kr0000gn/T/ipykernel_3864/91862772.py:24: SettingWithCopyWarning: \n",
      "A value is trying to be set on a copy of a slice from a DataFrame.\n",
      "Try using .loc[row_indexer,col_indexer] = value instead\n",
      "\n",
      "See the caveats in the documentation: https://pandas.pydata.org/pandas-docs/stable/user_guide/indexing.html#returning-a-view-versus-a-copy\n",
      "  data[\"Return\"] = data[coin].pct_change()\n"
     ]
    },
    {
     "name": "stdout",
     "output_type": "stream",
     "text": [
      "Coin: INJUSDT, TP: 0.002, SL: -0.002, Sigma: 3, Window Size: 960, Output: 0.04436935315249402\n"
     ]
    },
    {
     "name": "stderr",
     "output_type": "stream",
     "text": [
      "/var/folders/xj/8fm23lb137v05ps150d3h5kr0000gn/T/ipykernel_3864/91862772.py:24: SettingWithCopyWarning: \n",
      "A value is trying to be set on a copy of a slice from a DataFrame.\n",
      "Try using .loc[row_indexer,col_indexer] = value instead\n",
      "\n",
      "See the caveats in the documentation: https://pandas.pydata.org/pandas-docs/stable/user_guide/indexing.html#returning-a-view-versus-a-copy\n",
      "  data[\"Return\"] = data[coin].pct_change()\n"
     ]
    },
    {
     "name": "stdout",
     "output_type": "stream",
     "text": [
      "Coin: INJUSDT, TP: 0.002, SL: -0.002, Sigma: 3, Window Size: 1200, Output: 0.025959015816528708\n"
     ]
    },
    {
     "name": "stderr",
     "output_type": "stream",
     "text": [
      "/var/folders/xj/8fm23lb137v05ps150d3h5kr0000gn/T/ipykernel_3864/91862772.py:24: SettingWithCopyWarning: \n",
      "A value is trying to be set on a copy of a slice from a DataFrame.\n",
      "Try using .loc[row_indexer,col_indexer] = value instead\n",
      "\n",
      "See the caveats in the documentation: https://pandas.pydata.org/pandas-docs/stable/user_guide/indexing.html#returning-a-view-versus-a-copy\n",
      "  data[\"Return\"] = data[coin].pct_change()\n"
     ]
    },
    {
     "name": "stdout",
     "output_type": "stream",
     "text": [
      "Coin: INJUSDT, TP: 0.002, SL: -0.002, Sigma: 3, Window Size: 1440, Output: 0.02537117699228686\n"
     ]
    },
    {
     "name": "stderr",
     "output_type": "stream",
     "text": [
      "/var/folders/xj/8fm23lb137v05ps150d3h5kr0000gn/T/ipykernel_3864/91862772.py:24: SettingWithCopyWarning: \n",
      "A value is trying to be set on a copy of a slice from a DataFrame.\n",
      "Try using .loc[row_indexer,col_indexer] = value instead\n",
      "\n",
      "See the caveats in the documentation: https://pandas.pydata.org/pandas-docs/stable/user_guide/indexing.html#returning-a-view-versus-a-copy\n",
      "  data[\"Return\"] = data[coin].pct_change()\n"
     ]
    },
    {
     "name": "stdout",
     "output_type": "stream",
     "text": [
      "Coin: INJUSDT, TP: 0.002, SL: -0.002, Sigma: 4, Window Size: 240, Output: 0.02869274885634121\n"
     ]
    },
    {
     "name": "stderr",
     "output_type": "stream",
     "text": [
      "/var/folders/xj/8fm23lb137v05ps150d3h5kr0000gn/T/ipykernel_3864/91862772.py:24: SettingWithCopyWarning: \n",
      "A value is trying to be set on a copy of a slice from a DataFrame.\n",
      "Try using .loc[row_indexer,col_indexer] = value instead\n",
      "\n",
      "See the caveats in the documentation: https://pandas.pydata.org/pandas-docs/stable/user_guide/indexing.html#returning-a-view-versus-a-copy\n",
      "  data[\"Return\"] = data[coin].pct_change()\n"
     ]
    },
    {
     "name": "stdout",
     "output_type": "stream",
     "text": [
      "Coin: INJUSDT, TP: 0.002, SL: -0.002, Sigma: 4, Window Size: 480, Output: 0.010658273990720057\n"
     ]
    },
    {
     "name": "stderr",
     "output_type": "stream",
     "text": [
      "/var/folders/xj/8fm23lb137v05ps150d3h5kr0000gn/T/ipykernel_3864/91862772.py:24: SettingWithCopyWarning: \n",
      "A value is trying to be set on a copy of a slice from a DataFrame.\n",
      "Try using .loc[row_indexer,col_indexer] = value instead\n",
      "\n",
      "See the caveats in the documentation: https://pandas.pydata.org/pandas-docs/stable/user_guide/indexing.html#returning-a-view-versus-a-copy\n",
      "  data[\"Return\"] = data[coin].pct_change()\n"
     ]
    },
    {
     "name": "stdout",
     "output_type": "stream",
     "text": [
      "Coin: INJUSDT, TP: 0.002, SL: -0.002, Sigma: 4, Window Size: 720, Output: -0.011028165304306392\n"
     ]
    },
    {
     "name": "stderr",
     "output_type": "stream",
     "text": [
      "/var/folders/xj/8fm23lb137v05ps150d3h5kr0000gn/T/ipykernel_3864/91862772.py:24: SettingWithCopyWarning: \n",
      "A value is trying to be set on a copy of a slice from a DataFrame.\n",
      "Try using .loc[row_indexer,col_indexer] = value instead\n",
      "\n",
      "See the caveats in the documentation: https://pandas.pydata.org/pandas-docs/stable/user_guide/indexing.html#returning-a-view-versus-a-copy\n",
      "  data[\"Return\"] = data[coin].pct_change()\n"
     ]
    },
    {
     "name": "stdout",
     "output_type": "stream",
     "text": [
      "Coin: INJUSDT, TP: 0.002, SL: -0.002, Sigma: 4, Window Size: 960, Output: -0.016571746324557046\n"
     ]
    },
    {
     "name": "stderr",
     "output_type": "stream",
     "text": [
      "/var/folders/xj/8fm23lb137v05ps150d3h5kr0000gn/T/ipykernel_3864/91862772.py:24: SettingWithCopyWarning: \n",
      "A value is trying to be set on a copy of a slice from a DataFrame.\n",
      "Try using .loc[row_indexer,col_indexer] = value instead\n",
      "\n",
      "See the caveats in the documentation: https://pandas.pydata.org/pandas-docs/stable/user_guide/indexing.html#returning-a-view-versus-a-copy\n",
      "  data[\"Return\"] = data[coin].pct_change()\n"
     ]
    },
    {
     "name": "stdout",
     "output_type": "stream",
     "text": [
      "Coin: INJUSDT, TP: 0.002, SL: -0.002, Sigma: 4, Window Size: 1200, Output: 0.029741407229840644\n"
     ]
    },
    {
     "name": "stderr",
     "output_type": "stream",
     "text": [
      "/var/folders/xj/8fm23lb137v05ps150d3h5kr0000gn/T/ipykernel_3864/91862772.py:24: SettingWithCopyWarning: \n",
      "A value is trying to be set on a copy of a slice from a DataFrame.\n",
      "Try using .loc[row_indexer,col_indexer] = value instead\n",
      "\n",
      "See the caveats in the documentation: https://pandas.pydata.org/pandas-docs/stable/user_guide/indexing.html#returning-a-view-versus-a-copy\n",
      "  data[\"Return\"] = data[coin].pct_change()\n"
     ]
    },
    {
     "name": "stdout",
     "output_type": "stream",
     "text": [
      "Coin: INJUSDT, TP: 0.002, SL: -0.002, Sigma: 4, Window Size: 1440, Output: 0.03676065825601749\n"
     ]
    },
    {
     "name": "stderr",
     "output_type": "stream",
     "text": [
      "/var/folders/xj/8fm23lb137v05ps150d3h5kr0000gn/T/ipykernel_3864/91862772.py:24: SettingWithCopyWarning: \n",
      "A value is trying to be set on a copy of a slice from a DataFrame.\n",
      "Try using .loc[row_indexer,col_indexer] = value instead\n",
      "\n",
      "See the caveats in the documentation: https://pandas.pydata.org/pandas-docs/stable/user_guide/indexing.html#returning-a-view-versus-a-copy\n",
      "  data[\"Return\"] = data[coin].pct_change()\n"
     ]
    },
    {
     "name": "stdout",
     "output_type": "stream",
     "text": [
      "Coin: INJUSDT, TP: 0.002, SL: -0.002, Sigma: 5, Window Size: 240, Output: 0.0035545144302078224\n"
     ]
    },
    {
     "name": "stderr",
     "output_type": "stream",
     "text": [
      "/var/folders/xj/8fm23lb137v05ps150d3h5kr0000gn/T/ipykernel_3864/91862772.py:24: SettingWithCopyWarning: \n",
      "A value is trying to be set on a copy of a slice from a DataFrame.\n",
      "Try using .loc[row_indexer,col_indexer] = value instead\n",
      "\n",
      "See the caveats in the documentation: https://pandas.pydata.org/pandas-docs/stable/user_guide/indexing.html#returning-a-view-versus-a-copy\n",
      "  data[\"Return\"] = data[coin].pct_change()\n"
     ]
    },
    {
     "name": "stdout",
     "output_type": "stream",
     "text": [
      "Coin: INJUSDT, TP: 0.002, SL: -0.002, Sigma: 5, Window Size: 480, Output: 0.013238941032053808\n"
     ]
    },
    {
     "name": "stderr",
     "output_type": "stream",
     "text": [
      "/var/folders/xj/8fm23lb137v05ps150d3h5kr0000gn/T/ipykernel_3864/91862772.py:24: SettingWithCopyWarning: \n",
      "A value is trying to be set on a copy of a slice from a DataFrame.\n",
      "Try using .loc[row_indexer,col_indexer] = value instead\n",
      "\n",
      "See the caveats in the documentation: https://pandas.pydata.org/pandas-docs/stable/user_guide/indexing.html#returning-a-view-versus-a-copy\n",
      "  data[\"Return\"] = data[coin].pct_change()\n"
     ]
    },
    {
     "name": "stdout",
     "output_type": "stream",
     "text": [
      "Coin: INJUSDT, TP: 0.002, SL: -0.002, Sigma: 5, Window Size: 720, Output: 0.010205901932326622\n"
     ]
    },
    {
     "name": "stderr",
     "output_type": "stream",
     "text": [
      "/var/folders/xj/8fm23lb137v05ps150d3h5kr0000gn/T/ipykernel_3864/91862772.py:24: SettingWithCopyWarning: \n",
      "A value is trying to be set on a copy of a slice from a DataFrame.\n",
      "Try using .loc[row_indexer,col_indexer] = value instead\n",
      "\n",
      "See the caveats in the documentation: https://pandas.pydata.org/pandas-docs/stable/user_guide/indexing.html#returning-a-view-versus-a-copy\n",
      "  data[\"Return\"] = data[coin].pct_change()\n"
     ]
    },
    {
     "name": "stdout",
     "output_type": "stream",
     "text": [
      "Coin: INJUSDT, TP: 0.002, SL: -0.002, Sigma: 5, Window Size: 960, Output: 0.004693036087881963\n"
     ]
    },
    {
     "name": "stderr",
     "output_type": "stream",
     "text": [
      "/var/folders/xj/8fm23lb137v05ps150d3h5kr0000gn/T/ipykernel_3864/91862772.py:24: SettingWithCopyWarning: \n",
      "A value is trying to be set on a copy of a slice from a DataFrame.\n",
      "Try using .loc[row_indexer,col_indexer] = value instead\n",
      "\n",
      "See the caveats in the documentation: https://pandas.pydata.org/pandas-docs/stable/user_guide/indexing.html#returning-a-view-versus-a-copy\n",
      "  data[\"Return\"] = data[coin].pct_change()\n"
     ]
    },
    {
     "name": "stdout",
     "output_type": "stream",
     "text": [
      "Coin: INJUSDT, TP: 0.002, SL: -0.002, Sigma: 5, Window Size: 1200, Output: -0.006672270760265664\n"
     ]
    },
    {
     "name": "stderr",
     "output_type": "stream",
     "text": [
      "/var/folders/xj/8fm23lb137v05ps150d3h5kr0000gn/T/ipykernel_3864/91862772.py:24: SettingWithCopyWarning: \n",
      "A value is trying to be set on a copy of a slice from a DataFrame.\n",
      "Try using .loc[row_indexer,col_indexer] = value instead\n",
      "\n",
      "See the caveats in the documentation: https://pandas.pydata.org/pandas-docs/stable/user_guide/indexing.html#returning-a-view-versus-a-copy\n",
      "  data[\"Return\"] = data[coin].pct_change()\n"
     ]
    },
    {
     "name": "stdout",
     "output_type": "stream",
     "text": [
      "Coin: INJUSDT, TP: 0.002, SL: -0.002, Sigma: 5, Window Size: 1440, Output: -0.01621765303116296\n"
     ]
    },
    {
     "name": "stderr",
     "output_type": "stream",
     "text": [
      "/var/folders/xj/8fm23lb137v05ps150d3h5kr0000gn/T/ipykernel_3864/91862772.py:24: SettingWithCopyWarning: \n",
      "A value is trying to be set on a copy of a slice from a DataFrame.\n",
      "Try using .loc[row_indexer,col_indexer] = value instead\n",
      "\n",
      "See the caveats in the documentation: https://pandas.pydata.org/pandas-docs/stable/user_guide/indexing.html#returning-a-view-versus-a-copy\n",
      "  data[\"Return\"] = data[coin].pct_change()\n"
     ]
    },
    {
     "name": "stdout",
     "output_type": "stream",
     "text": [
      "Coin: INJUSDT, TP: 0.002, SL: -0.003, Sigma: 2, Window Size: 240, Output: -0.07528812749505465\n"
     ]
    },
    {
     "name": "stderr",
     "output_type": "stream",
     "text": [
      "/var/folders/xj/8fm23lb137v05ps150d3h5kr0000gn/T/ipykernel_3864/91862772.py:24: SettingWithCopyWarning: \n",
      "A value is trying to be set on a copy of a slice from a DataFrame.\n",
      "Try using .loc[row_indexer,col_indexer] = value instead\n",
      "\n",
      "See the caveats in the documentation: https://pandas.pydata.org/pandas-docs/stable/user_guide/indexing.html#returning-a-view-versus-a-copy\n",
      "  data[\"Return\"] = data[coin].pct_change()\n"
     ]
    },
    {
     "name": "stdout",
     "output_type": "stream",
     "text": [
      "Coin: INJUSDT, TP: 0.002, SL: -0.003, Sigma: 2, Window Size: 480, Output: -0.08820040960724063\n"
     ]
    },
    {
     "name": "stderr",
     "output_type": "stream",
     "text": [
      "/var/folders/xj/8fm23lb137v05ps150d3h5kr0000gn/T/ipykernel_3864/91862772.py:24: SettingWithCopyWarning: \n",
      "A value is trying to be set on a copy of a slice from a DataFrame.\n",
      "Try using .loc[row_indexer,col_indexer] = value instead\n",
      "\n",
      "See the caveats in the documentation: https://pandas.pydata.org/pandas-docs/stable/user_guide/indexing.html#returning-a-view-versus-a-copy\n",
      "  data[\"Return\"] = data[coin].pct_change()\n"
     ]
    },
    {
     "name": "stdout",
     "output_type": "stream",
     "text": [
      "Coin: INJUSDT, TP: 0.002, SL: -0.003, Sigma: 2, Window Size: 720, Output: -0.12380101860510906\n"
     ]
    },
    {
     "name": "stderr",
     "output_type": "stream",
     "text": [
      "/var/folders/xj/8fm23lb137v05ps150d3h5kr0000gn/T/ipykernel_3864/91862772.py:24: SettingWithCopyWarning: \n",
      "A value is trying to be set on a copy of a slice from a DataFrame.\n",
      "Try using .loc[row_indexer,col_indexer] = value instead\n",
      "\n",
      "See the caveats in the documentation: https://pandas.pydata.org/pandas-docs/stable/user_guide/indexing.html#returning-a-view-versus-a-copy\n",
      "  data[\"Return\"] = data[coin].pct_change()\n"
     ]
    },
    {
     "name": "stdout",
     "output_type": "stream",
     "text": [
      "Coin: INJUSDT, TP: 0.002, SL: -0.003, Sigma: 2, Window Size: 960, Output: -0.11935575514601304\n"
     ]
    },
    {
     "name": "stderr",
     "output_type": "stream",
     "text": [
      "/var/folders/xj/8fm23lb137v05ps150d3h5kr0000gn/T/ipykernel_3864/91862772.py:24: SettingWithCopyWarning: \n",
      "A value is trying to be set on a copy of a slice from a DataFrame.\n",
      "Try using .loc[row_indexer,col_indexer] = value instead\n",
      "\n",
      "See the caveats in the documentation: https://pandas.pydata.org/pandas-docs/stable/user_guide/indexing.html#returning-a-view-versus-a-copy\n",
      "  data[\"Return\"] = data[coin].pct_change()\n"
     ]
    },
    {
     "name": "stdout",
     "output_type": "stream",
     "text": [
      "Coin: INJUSDT, TP: 0.002, SL: -0.003, Sigma: 2, Window Size: 1200, Output: -0.09251970421270017\n"
     ]
    },
    {
     "name": "stderr",
     "output_type": "stream",
     "text": [
      "/var/folders/xj/8fm23lb137v05ps150d3h5kr0000gn/T/ipykernel_3864/91862772.py:24: SettingWithCopyWarning: \n",
      "A value is trying to be set on a copy of a slice from a DataFrame.\n",
      "Try using .loc[row_indexer,col_indexer] = value instead\n",
      "\n",
      "See the caveats in the documentation: https://pandas.pydata.org/pandas-docs/stable/user_guide/indexing.html#returning-a-view-versus-a-copy\n",
      "  data[\"Return\"] = data[coin].pct_change()\n"
     ]
    },
    {
     "name": "stdout",
     "output_type": "stream",
     "text": [
      "Coin: INJUSDT, TP: 0.002, SL: -0.003, Sigma: 2, Window Size: 1440, Output: -0.10245448754976916\n"
     ]
    },
    {
     "name": "stderr",
     "output_type": "stream",
     "text": [
      "/var/folders/xj/8fm23lb137v05ps150d3h5kr0000gn/T/ipykernel_3864/91862772.py:24: SettingWithCopyWarning: \n",
      "A value is trying to be set on a copy of a slice from a DataFrame.\n",
      "Try using .loc[row_indexer,col_indexer] = value instead\n",
      "\n",
      "See the caveats in the documentation: https://pandas.pydata.org/pandas-docs/stable/user_guide/indexing.html#returning-a-view-versus-a-copy\n",
      "  data[\"Return\"] = data[coin].pct_change()\n"
     ]
    },
    {
     "name": "stdout",
     "output_type": "stream",
     "text": [
      "Coin: INJUSDT, TP: 0.002, SL: -0.003, Sigma: 3, Window Size: 240, Output: -0.023681412240197708\n"
     ]
    },
    {
     "name": "stderr",
     "output_type": "stream",
     "text": [
      "/var/folders/xj/8fm23lb137v05ps150d3h5kr0000gn/T/ipykernel_3864/91862772.py:24: SettingWithCopyWarning: \n",
      "A value is trying to be set on a copy of a slice from a DataFrame.\n",
      "Try using .loc[row_indexer,col_indexer] = value instead\n",
      "\n",
      "See the caveats in the documentation: https://pandas.pydata.org/pandas-docs/stable/user_guide/indexing.html#returning-a-view-versus-a-copy\n",
      "  data[\"Return\"] = data[coin].pct_change()\n"
     ]
    },
    {
     "name": "stdout",
     "output_type": "stream",
     "text": [
      "Coin: INJUSDT, TP: 0.002, SL: -0.003, Sigma: 3, Window Size: 480, Output: -0.02658024787547353\n"
     ]
    },
    {
     "name": "stderr",
     "output_type": "stream",
     "text": [
      "/var/folders/xj/8fm23lb137v05ps150d3h5kr0000gn/T/ipykernel_3864/91862772.py:24: SettingWithCopyWarning: \n",
      "A value is trying to be set on a copy of a slice from a DataFrame.\n",
      "Try using .loc[row_indexer,col_indexer] = value instead\n",
      "\n",
      "See the caveats in the documentation: https://pandas.pydata.org/pandas-docs/stable/user_guide/indexing.html#returning-a-view-versus-a-copy\n",
      "  data[\"Return\"] = data[coin].pct_change()\n"
     ]
    },
    {
     "name": "stdout",
     "output_type": "stream",
     "text": [
      "Coin: INJUSDT, TP: 0.002, SL: -0.003, Sigma: 3, Window Size: 720, Output: -0.026199022775231895\n"
     ]
    },
    {
     "name": "stderr",
     "output_type": "stream",
     "text": [
      "/var/folders/xj/8fm23lb137v05ps150d3h5kr0000gn/T/ipykernel_3864/91862772.py:24: SettingWithCopyWarning: \n",
      "A value is trying to be set on a copy of a slice from a DataFrame.\n",
      "Try using .loc[row_indexer,col_indexer] = value instead\n",
      "\n",
      "See the caveats in the documentation: https://pandas.pydata.org/pandas-docs/stable/user_guide/indexing.html#returning-a-view-versus-a-copy\n",
      "  data[\"Return\"] = data[coin].pct_change()\n"
     ]
    },
    {
     "name": "stdout",
     "output_type": "stream",
     "text": [
      "Coin: INJUSDT, TP: 0.002, SL: -0.003, Sigma: 3, Window Size: 960, Output: -0.019606584863209986\n"
     ]
    },
    {
     "name": "stderr",
     "output_type": "stream",
     "text": [
      "/var/folders/xj/8fm23lb137v05ps150d3h5kr0000gn/T/ipykernel_3864/91862772.py:24: SettingWithCopyWarning: \n",
      "A value is trying to be set on a copy of a slice from a DataFrame.\n",
      "Try using .loc[row_indexer,col_indexer] = value instead\n",
      "\n",
      "See the caveats in the documentation: https://pandas.pydata.org/pandas-docs/stable/user_guide/indexing.html#returning-a-view-versus-a-copy\n",
      "  data[\"Return\"] = data[coin].pct_change()\n"
     ]
    },
    {
     "name": "stdout",
     "output_type": "stream",
     "text": [
      "Coin: INJUSDT, TP: 0.002, SL: -0.003, Sigma: 3, Window Size: 1200, Output: -0.032752395684304325\n"
     ]
    },
    {
     "name": "stderr",
     "output_type": "stream",
     "text": [
      "/var/folders/xj/8fm23lb137v05ps150d3h5kr0000gn/T/ipykernel_3864/91862772.py:24: SettingWithCopyWarning: \n",
      "A value is trying to be set on a copy of a slice from a DataFrame.\n",
      "Try using .loc[row_indexer,col_indexer] = value instead\n",
      "\n",
      "See the caveats in the documentation: https://pandas.pydata.org/pandas-docs/stable/user_guide/indexing.html#returning-a-view-versus-a-copy\n",
      "  data[\"Return\"] = data[coin].pct_change()\n"
     ]
    },
    {
     "name": "stdout",
     "output_type": "stream",
     "text": [
      "Coin: INJUSDT, TP: 0.002, SL: -0.003, Sigma: 3, Window Size: 1440, Output: -0.026407791004414594\n"
     ]
    },
    {
     "name": "stderr",
     "output_type": "stream",
     "text": [
      "/var/folders/xj/8fm23lb137v05ps150d3h5kr0000gn/T/ipykernel_3864/91862772.py:24: SettingWithCopyWarning: \n",
      "A value is trying to be set on a copy of a slice from a DataFrame.\n",
      "Try using .loc[row_indexer,col_indexer] = value instead\n",
      "\n",
      "See the caveats in the documentation: https://pandas.pydata.org/pandas-docs/stable/user_guide/indexing.html#returning-a-view-versus-a-copy\n",
      "  data[\"Return\"] = data[coin].pct_change()\n"
     ]
    },
    {
     "name": "stdout",
     "output_type": "stream",
     "text": [
      "Coin: INJUSDT, TP: 0.002, SL: -0.003, Sigma: 4, Window Size: 240, Output: 0.04217785271615637\n"
     ]
    },
    {
     "name": "stderr",
     "output_type": "stream",
     "text": [
      "/var/folders/xj/8fm23lb137v05ps150d3h5kr0000gn/T/ipykernel_3864/91862772.py:24: SettingWithCopyWarning: \n",
      "A value is trying to be set on a copy of a slice from a DataFrame.\n",
      "Try using .loc[row_indexer,col_indexer] = value instead\n",
      "\n",
      "See the caveats in the documentation: https://pandas.pydata.org/pandas-docs/stable/user_guide/indexing.html#returning-a-view-versus-a-copy\n",
      "  data[\"Return\"] = data[coin].pct_change()\n"
     ]
    },
    {
     "name": "stdout",
     "output_type": "stream",
     "text": [
      "Coin: INJUSDT, TP: 0.002, SL: -0.003, Sigma: 4, Window Size: 480, Output: 0.026889167351545007\n"
     ]
    },
    {
     "name": "stderr",
     "output_type": "stream",
     "text": [
      "/var/folders/xj/8fm23lb137v05ps150d3h5kr0000gn/T/ipykernel_3864/91862772.py:24: SettingWithCopyWarning: \n",
      "A value is trying to be set on a copy of a slice from a DataFrame.\n",
      "Try using .loc[row_indexer,col_indexer] = value instead\n",
      "\n",
      "See the caveats in the documentation: https://pandas.pydata.org/pandas-docs/stable/user_guide/indexing.html#returning-a-view-versus-a-copy\n",
      "  data[\"Return\"] = data[coin].pct_change()\n"
     ]
    },
    {
     "name": "stdout",
     "output_type": "stream",
     "text": [
      "Coin: INJUSDT, TP: 0.002, SL: -0.003, Sigma: 4, Window Size: 720, Output: 0.002105626165854746\n"
     ]
    },
    {
     "name": "stderr",
     "output_type": "stream",
     "text": [
      "/var/folders/xj/8fm23lb137v05ps150d3h5kr0000gn/T/ipykernel_3864/91862772.py:24: SettingWithCopyWarning: \n",
      "A value is trying to be set on a copy of a slice from a DataFrame.\n",
      "Try using .loc[row_indexer,col_indexer] = value instead\n",
      "\n",
      "See the caveats in the documentation: https://pandas.pydata.org/pandas-docs/stable/user_guide/indexing.html#returning-a-view-versus-a-copy\n",
      "  data[\"Return\"] = data[coin].pct_change()\n"
     ]
    },
    {
     "name": "stdout",
     "output_type": "stream",
     "text": [
      "Coin: INJUSDT, TP: 0.002, SL: -0.003, Sigma: 4, Window Size: 960, Output: -0.007828023061457134\n"
     ]
    },
    {
     "name": "stderr",
     "output_type": "stream",
     "text": [
      "/var/folders/xj/8fm23lb137v05ps150d3h5kr0000gn/T/ipykernel_3864/91862772.py:24: SettingWithCopyWarning: \n",
      "A value is trying to be set on a copy of a slice from a DataFrame.\n",
      "Try using .loc[row_indexer,col_indexer] = value instead\n",
      "\n",
      "See the caveats in the documentation: https://pandas.pydata.org/pandas-docs/stable/user_guide/indexing.html#returning-a-view-versus-a-copy\n",
      "  data[\"Return\"] = data[coin].pct_change()\n"
     ]
    },
    {
     "name": "stdout",
     "output_type": "stream",
     "text": [
      "Coin: INJUSDT, TP: 0.002, SL: -0.003, Sigma: 4, Window Size: 1200, Output: 0.002206778638102036\n"
     ]
    },
    {
     "name": "stderr",
     "output_type": "stream",
     "text": [
      "/var/folders/xj/8fm23lb137v05ps150d3h5kr0000gn/T/ipykernel_3864/91862772.py:24: SettingWithCopyWarning: \n",
      "A value is trying to be set on a copy of a slice from a DataFrame.\n",
      "Try using .loc[row_indexer,col_indexer] = value instead\n",
      "\n",
      "See the caveats in the documentation: https://pandas.pydata.org/pandas-docs/stable/user_guide/indexing.html#returning-a-view-versus-a-copy\n",
      "  data[\"Return\"] = data[coin].pct_change()\n"
     ]
    },
    {
     "name": "stdout",
     "output_type": "stream",
     "text": [
      "Coin: INJUSDT, TP: 0.002, SL: -0.003, Sigma: 4, Window Size: 1440, Output: 0.006682109326740959\n"
     ]
    },
    {
     "name": "stderr",
     "output_type": "stream",
     "text": [
      "/var/folders/xj/8fm23lb137v05ps150d3h5kr0000gn/T/ipykernel_3864/91862772.py:24: SettingWithCopyWarning: \n",
      "A value is trying to be set on a copy of a slice from a DataFrame.\n",
      "Try using .loc[row_indexer,col_indexer] = value instead\n",
      "\n",
      "See the caveats in the documentation: https://pandas.pydata.org/pandas-docs/stable/user_guide/indexing.html#returning-a-view-versus-a-copy\n",
      "  data[\"Return\"] = data[coin].pct_change()\n"
     ]
    },
    {
     "name": "stdout",
     "output_type": "stream",
     "text": [
      "Coin: INJUSDT, TP: 0.002, SL: -0.003, Sigma: 5, Window Size: 240, Output: -0.0003033629007394012\n"
     ]
    },
    {
     "name": "stderr",
     "output_type": "stream",
     "text": [
      "/var/folders/xj/8fm23lb137v05ps150d3h5kr0000gn/T/ipykernel_3864/91862772.py:24: SettingWithCopyWarning: \n",
      "A value is trying to be set on a copy of a slice from a DataFrame.\n",
      "Try using .loc[row_indexer,col_indexer] = value instead\n",
      "\n",
      "See the caveats in the documentation: https://pandas.pydata.org/pandas-docs/stable/user_guide/indexing.html#returning-a-view-versus-a-copy\n",
      "  data[\"Return\"] = data[coin].pct_change()\n"
     ]
    },
    {
     "name": "stdout",
     "output_type": "stream",
     "text": [
      "Coin: INJUSDT, TP: 0.002, SL: -0.003, Sigma: 5, Window Size: 480, Output: 0.01933246700536373\n"
     ]
    },
    {
     "name": "stderr",
     "output_type": "stream",
     "text": [
      "/var/folders/xj/8fm23lb137v05ps150d3h5kr0000gn/T/ipykernel_3864/91862772.py:24: SettingWithCopyWarning: \n",
      "A value is trying to be set on a copy of a slice from a DataFrame.\n",
      "Try using .loc[row_indexer,col_indexer] = value instead\n",
      "\n",
      "See the caveats in the documentation: https://pandas.pydata.org/pandas-docs/stable/user_guide/indexing.html#returning-a-view-versus-a-copy\n",
      "  data[\"Return\"] = data[coin].pct_change()\n"
     ]
    },
    {
     "name": "stdout",
     "output_type": "stream",
     "text": [
      "Coin: INJUSDT, TP: 0.002, SL: -0.003, Sigma: 5, Window Size: 720, Output: 0.015370159906423542\n"
     ]
    },
    {
     "name": "stderr",
     "output_type": "stream",
     "text": [
      "/var/folders/xj/8fm23lb137v05ps150d3h5kr0000gn/T/ipykernel_3864/91862772.py:24: SettingWithCopyWarning: \n",
      "A value is trying to be set on a copy of a slice from a DataFrame.\n",
      "Try using .loc[row_indexer,col_indexer] = value instead\n",
      "\n",
      "See the caveats in the documentation: https://pandas.pydata.org/pandas-docs/stable/user_guide/indexing.html#returning-a-view-versus-a-copy\n",
      "  data[\"Return\"] = data[coin].pct_change()\n"
     ]
    },
    {
     "name": "stdout",
     "output_type": "stream",
     "text": [
      "Coin: INJUSDT, TP: 0.002, SL: -0.003, Sigma: 5, Window Size: 960, Output: 0.00846997809368899\n"
     ]
    },
    {
     "name": "stderr",
     "output_type": "stream",
     "text": [
      "/var/folders/xj/8fm23lb137v05ps150d3h5kr0000gn/T/ipykernel_3864/91862772.py:24: SettingWithCopyWarning: \n",
      "A value is trying to be set on a copy of a slice from a DataFrame.\n",
      "Try using .loc[row_indexer,col_indexer] = value instead\n",
      "\n",
      "See the caveats in the documentation: https://pandas.pydata.org/pandas-docs/stable/user_guide/indexing.html#returning-a-view-versus-a-copy\n",
      "  data[\"Return\"] = data[coin].pct_change()\n"
     ]
    },
    {
     "name": "stdout",
     "output_type": "stream",
     "text": [
      "Coin: INJUSDT, TP: 0.002, SL: -0.003, Sigma: 5, Window Size: 1200, Output: -0.002895328754458637\n"
     ]
    },
    {
     "name": "stderr",
     "output_type": "stream",
     "text": [
      "/var/folders/xj/8fm23lb137v05ps150d3h5kr0000gn/T/ipykernel_3864/91862772.py:24: SettingWithCopyWarning: \n",
      "A value is trying to be set on a copy of a slice from a DataFrame.\n",
      "Try using .loc[row_indexer,col_indexer] = value instead\n",
      "\n",
      "See the caveats in the documentation: https://pandas.pydata.org/pandas-docs/stable/user_guide/indexing.html#returning-a-view-versus-a-copy\n",
      "  data[\"Return\"] = data[coin].pct_change()\n"
     ]
    },
    {
     "name": "stdout",
     "output_type": "stream",
     "text": [
      "Coin: INJUSDT, TP: 0.002, SL: -0.003, Sigma: 5, Window Size: 1440, Output: -0.007313463668935594\n"
     ]
    },
    {
     "name": "stderr",
     "output_type": "stream",
     "text": [
      "/var/folders/xj/8fm23lb137v05ps150d3h5kr0000gn/T/ipykernel_3864/91862772.py:24: SettingWithCopyWarning: \n",
      "A value is trying to be set on a copy of a slice from a DataFrame.\n",
      "Try using .loc[row_indexer,col_indexer] = value instead\n",
      "\n",
      "See the caveats in the documentation: https://pandas.pydata.org/pandas-docs/stable/user_guide/indexing.html#returning-a-view-versus-a-copy\n",
      "  data[\"Return\"] = data[coin].pct_change()\n"
     ]
    },
    {
     "name": "stdout",
     "output_type": "stream",
     "text": [
      "Coin: INJUSDT, TP: 0.002, SL: -0.005, Sigma: 2, Window Size: 240, Output: 0.015395474862037517\n"
     ]
    },
    {
     "name": "stderr",
     "output_type": "stream",
     "text": [
      "/var/folders/xj/8fm23lb137v05ps150d3h5kr0000gn/T/ipykernel_3864/91862772.py:24: SettingWithCopyWarning: \n",
      "A value is trying to be set on a copy of a slice from a DataFrame.\n",
      "Try using .loc[row_indexer,col_indexer] = value instead\n",
      "\n",
      "See the caveats in the documentation: https://pandas.pydata.org/pandas-docs/stable/user_guide/indexing.html#returning-a-view-versus-a-copy\n",
      "  data[\"Return\"] = data[coin].pct_change()\n"
     ]
    },
    {
     "name": "stdout",
     "output_type": "stream",
     "text": [
      "Coin: INJUSDT, TP: 0.002, SL: -0.005, Sigma: 2, Window Size: 480, Output: -0.012077756509107584\n"
     ]
    },
    {
     "name": "stderr",
     "output_type": "stream",
     "text": [
      "/var/folders/xj/8fm23lb137v05ps150d3h5kr0000gn/T/ipykernel_3864/91862772.py:24: SettingWithCopyWarning: \n",
      "A value is trying to be set on a copy of a slice from a DataFrame.\n",
      "Try using .loc[row_indexer,col_indexer] = value instead\n",
      "\n",
      "See the caveats in the documentation: https://pandas.pydata.org/pandas-docs/stable/user_guide/indexing.html#returning-a-view-versus-a-copy\n",
      "  data[\"Return\"] = data[coin].pct_change()\n"
     ]
    },
    {
     "name": "stdout",
     "output_type": "stream",
     "text": [
      "Coin: INJUSDT, TP: 0.002, SL: -0.005, Sigma: 2, Window Size: 720, Output: -0.03356270843468012\n"
     ]
    },
    {
     "name": "stderr",
     "output_type": "stream",
     "text": [
      "/var/folders/xj/8fm23lb137v05ps150d3h5kr0000gn/T/ipykernel_3864/91862772.py:24: SettingWithCopyWarning: \n",
      "A value is trying to be set on a copy of a slice from a DataFrame.\n",
      "Try using .loc[row_indexer,col_indexer] = value instead\n",
      "\n",
      "See the caveats in the documentation: https://pandas.pydata.org/pandas-docs/stable/user_guide/indexing.html#returning-a-view-versus-a-copy\n",
      "  data[\"Return\"] = data[coin].pct_change()\n"
     ]
    },
    {
     "name": "stdout",
     "output_type": "stream",
     "text": [
      "Coin: INJUSDT, TP: 0.002, SL: -0.005, Sigma: 2, Window Size: 960, Output: -0.05891734860149622\n"
     ]
    },
    {
     "name": "stderr",
     "output_type": "stream",
     "text": [
      "/var/folders/xj/8fm23lb137v05ps150d3h5kr0000gn/T/ipykernel_3864/91862772.py:24: SettingWithCopyWarning: \n",
      "A value is trying to be set on a copy of a slice from a DataFrame.\n",
      "Try using .loc[row_indexer,col_indexer] = value instead\n",
      "\n",
      "See the caveats in the documentation: https://pandas.pydata.org/pandas-docs/stable/user_guide/indexing.html#returning-a-view-versus-a-copy\n",
      "  data[\"Return\"] = data[coin].pct_change()\n"
     ]
    },
    {
     "name": "stdout",
     "output_type": "stream",
     "text": [
      "Coin: INJUSDT, TP: 0.002, SL: -0.005, Sigma: 2, Window Size: 1200, Output: -0.028149751050958183\n"
     ]
    },
    {
     "name": "stderr",
     "output_type": "stream",
     "text": [
      "/var/folders/xj/8fm23lb137v05ps150d3h5kr0000gn/T/ipykernel_3864/91862772.py:24: SettingWithCopyWarning: \n",
      "A value is trying to be set on a copy of a slice from a DataFrame.\n",
      "Try using .loc[row_indexer,col_indexer] = value instead\n",
      "\n",
      "See the caveats in the documentation: https://pandas.pydata.org/pandas-docs/stable/user_guide/indexing.html#returning-a-view-versus-a-copy\n",
      "  data[\"Return\"] = data[coin].pct_change()\n"
     ]
    },
    {
     "name": "stdout",
     "output_type": "stream",
     "text": [
      "Coin: INJUSDT, TP: 0.002, SL: -0.005, Sigma: 2, Window Size: 1440, Output: -0.0620767794707765\n"
     ]
    },
    {
     "name": "stderr",
     "output_type": "stream",
     "text": [
      "/var/folders/xj/8fm23lb137v05ps150d3h5kr0000gn/T/ipykernel_3864/91862772.py:24: SettingWithCopyWarning: \n",
      "A value is trying to be set on a copy of a slice from a DataFrame.\n",
      "Try using .loc[row_indexer,col_indexer] = value instead\n",
      "\n",
      "See the caveats in the documentation: https://pandas.pydata.org/pandas-docs/stable/user_guide/indexing.html#returning-a-view-versus-a-copy\n",
      "  data[\"Return\"] = data[coin].pct_change()\n"
     ]
    },
    {
     "name": "stdout",
     "output_type": "stream",
     "text": [
      "Coin: INJUSDT, TP: 0.002, SL: -0.005, Sigma: 3, Window Size: 240, Output: -0.012636364258725385\n"
     ]
    },
    {
     "name": "stderr",
     "output_type": "stream",
     "text": [
      "/var/folders/xj/8fm23lb137v05ps150d3h5kr0000gn/T/ipykernel_3864/91862772.py:24: SettingWithCopyWarning: \n",
      "A value is trying to be set on a copy of a slice from a DataFrame.\n",
      "Try using .loc[row_indexer,col_indexer] = value instead\n",
      "\n",
      "See the caveats in the documentation: https://pandas.pydata.org/pandas-docs/stable/user_guide/indexing.html#returning-a-view-versus-a-copy\n",
      "  data[\"Return\"] = data[coin].pct_change()\n"
     ]
    },
    {
     "name": "stdout",
     "output_type": "stream",
     "text": [
      "Coin: INJUSDT, TP: 0.002, SL: -0.005, Sigma: 3, Window Size: 480, Output: -0.04359905972841038\n"
     ]
    },
    {
     "name": "stderr",
     "output_type": "stream",
     "text": [
      "/var/folders/xj/8fm23lb137v05ps150d3h5kr0000gn/T/ipykernel_3864/91862772.py:24: SettingWithCopyWarning: \n",
      "A value is trying to be set on a copy of a slice from a DataFrame.\n",
      "Try using .loc[row_indexer,col_indexer] = value instead\n",
      "\n",
      "See the caveats in the documentation: https://pandas.pydata.org/pandas-docs/stable/user_guide/indexing.html#returning-a-view-versus-a-copy\n",
      "  data[\"Return\"] = data[coin].pct_change()\n"
     ]
    },
    {
     "name": "stdout",
     "output_type": "stream",
     "text": [
      "Coin: INJUSDT, TP: 0.002, SL: -0.005, Sigma: 3, Window Size: 720, Output: -0.03943508630961956\n"
     ]
    },
    {
     "name": "stderr",
     "output_type": "stream",
     "text": [
      "/var/folders/xj/8fm23lb137v05ps150d3h5kr0000gn/T/ipykernel_3864/91862772.py:24: SettingWithCopyWarning: \n",
      "A value is trying to be set on a copy of a slice from a DataFrame.\n",
      "Try using .loc[row_indexer,col_indexer] = value instead\n",
      "\n",
      "See the caveats in the documentation: https://pandas.pydata.org/pandas-docs/stable/user_guide/indexing.html#returning-a-view-versus-a-copy\n",
      "  data[\"Return\"] = data[coin].pct_change()\n"
     ]
    },
    {
     "name": "stdout",
     "output_type": "stream",
     "text": [
      "Coin: INJUSDT, TP: 0.002, SL: -0.005, Sigma: 3, Window Size: 960, Output: -0.009453698435134661\n"
     ]
    },
    {
     "name": "stderr",
     "output_type": "stream",
     "text": [
      "/var/folders/xj/8fm23lb137v05ps150d3h5kr0000gn/T/ipykernel_3864/91862772.py:24: SettingWithCopyWarning: \n",
      "A value is trying to be set on a copy of a slice from a DataFrame.\n",
      "Try using .loc[row_indexer,col_indexer] = value instead\n",
      "\n",
      "See the caveats in the documentation: https://pandas.pydata.org/pandas-docs/stable/user_guide/indexing.html#returning-a-view-versus-a-copy\n",
      "  data[\"Return\"] = data[coin].pct_change()\n"
     ]
    },
    {
     "name": "stdout",
     "output_type": "stream",
     "text": [
      "Coin: INJUSDT, TP: 0.002, SL: -0.005, Sigma: 3, Window Size: 1200, Output: -0.03078738042906848\n"
     ]
    },
    {
     "name": "stderr",
     "output_type": "stream",
     "text": [
      "/var/folders/xj/8fm23lb137v05ps150d3h5kr0000gn/T/ipykernel_3864/91862772.py:24: SettingWithCopyWarning: \n",
      "A value is trying to be set on a copy of a slice from a DataFrame.\n",
      "Try using .loc[row_indexer,col_indexer] = value instead\n",
      "\n",
      "See the caveats in the documentation: https://pandas.pydata.org/pandas-docs/stable/user_guide/indexing.html#returning-a-view-versus-a-copy\n",
      "  data[\"Return\"] = data[coin].pct_change()\n"
     ]
    },
    {
     "name": "stdout",
     "output_type": "stream",
     "text": [
      "Coin: INJUSDT, TP: 0.002, SL: -0.005, Sigma: 3, Window Size: 1440, Output: -0.03767526328167503\n"
     ]
    },
    {
     "name": "stderr",
     "output_type": "stream",
     "text": [
      "/var/folders/xj/8fm23lb137v05ps150d3h5kr0000gn/T/ipykernel_3864/91862772.py:24: SettingWithCopyWarning: \n",
      "A value is trying to be set on a copy of a slice from a DataFrame.\n",
      "Try using .loc[row_indexer,col_indexer] = value instead\n",
      "\n",
      "See the caveats in the documentation: https://pandas.pydata.org/pandas-docs/stable/user_guide/indexing.html#returning-a-view-versus-a-copy\n",
      "  data[\"Return\"] = data[coin].pct_change()\n"
     ]
    },
    {
     "name": "stdout",
     "output_type": "stream",
     "text": [
      "Coin: INJUSDT, TP: 0.002, SL: -0.005, Sigma: 4, Window Size: 240, Output: 0.05856872525739798\n"
     ]
    },
    {
     "name": "stderr",
     "output_type": "stream",
     "text": [
      "/var/folders/xj/8fm23lb137v05ps150d3h5kr0000gn/T/ipykernel_3864/91862772.py:24: SettingWithCopyWarning: \n",
      "A value is trying to be set on a copy of a slice from a DataFrame.\n",
      "Try using .loc[row_indexer,col_indexer] = value instead\n",
      "\n",
      "See the caveats in the documentation: https://pandas.pydata.org/pandas-docs/stable/user_guide/indexing.html#returning-a-view-versus-a-copy\n",
      "  data[\"Return\"] = data[coin].pct_change()\n"
     ]
    },
    {
     "name": "stdout",
     "output_type": "stream",
     "text": [
      "Coin: INJUSDT, TP: 0.002, SL: -0.005, Sigma: 4, Window Size: 480, Output: 0.02441954899033605\n"
     ]
    },
    {
     "name": "stderr",
     "output_type": "stream",
     "text": [
      "/var/folders/xj/8fm23lb137v05ps150d3h5kr0000gn/T/ipykernel_3864/91862772.py:24: SettingWithCopyWarning: \n",
      "A value is trying to be set on a copy of a slice from a DataFrame.\n",
      "Try using .loc[row_indexer,col_indexer] = value instead\n",
      "\n",
      "See the caveats in the documentation: https://pandas.pydata.org/pandas-docs/stable/user_guide/indexing.html#returning-a-view-versus-a-copy\n",
      "  data[\"Return\"] = data[coin].pct_change()\n"
     ]
    },
    {
     "name": "stdout",
     "output_type": "stream",
     "text": [
      "Coin: INJUSDT, TP: 0.002, SL: -0.005, Sigma: 4, Window Size: 720, Output: 0.0007879341105253568\n"
     ]
    },
    {
     "name": "stderr",
     "output_type": "stream",
     "text": [
      "/var/folders/xj/8fm23lb137v05ps150d3h5kr0000gn/T/ipykernel_3864/91862772.py:24: SettingWithCopyWarning: \n",
      "A value is trying to be set on a copy of a slice from a DataFrame.\n",
      "Try using .loc[row_indexer,col_indexer] = value instead\n",
      "\n",
      "See the caveats in the documentation: https://pandas.pydata.org/pandas-docs/stable/user_guide/indexing.html#returning-a-view-versus-a-copy\n",
      "  data[\"Return\"] = data[coin].pct_change()\n"
     ]
    },
    {
     "name": "stdout",
     "output_type": "stream",
     "text": [
      "Coin: INJUSDT, TP: 0.002, SL: -0.005, Sigma: 4, Window Size: 960, Output: -0.005554876857446378\n"
     ]
    },
    {
     "name": "stderr",
     "output_type": "stream",
     "text": [
      "/var/folders/xj/8fm23lb137v05ps150d3h5kr0000gn/T/ipykernel_3864/91862772.py:24: SettingWithCopyWarning: \n",
      "A value is trying to be set on a copy of a slice from a DataFrame.\n",
      "Try using .loc[row_indexer,col_indexer] = value instead\n",
      "\n",
      "See the caveats in the documentation: https://pandas.pydata.org/pandas-docs/stable/user_guide/indexing.html#returning-a-view-versus-a-copy\n",
      "  data[\"Return\"] = data[coin].pct_change()\n"
     ]
    },
    {
     "name": "stdout",
     "output_type": "stream",
     "text": [
      "Coin: INJUSDT, TP: 0.002, SL: -0.005, Sigma: 4, Window Size: 1200, Output: 0.004479924842112792\n"
     ]
    },
    {
     "name": "stderr",
     "output_type": "stream",
     "text": [
      "/var/folders/xj/8fm23lb137v05ps150d3h5kr0000gn/T/ipykernel_3864/91862772.py:24: SettingWithCopyWarning: \n",
      "A value is trying to be set on a copy of a slice from a DataFrame.\n",
      "Try using .loc[row_indexer,col_indexer] = value instead\n",
      "\n",
      "See the caveats in the documentation: https://pandas.pydata.org/pandas-docs/stable/user_guide/indexing.html#returning-a-view-versus-a-copy\n",
      "  data[\"Return\"] = data[coin].pct_change()\n"
     ]
    },
    {
     "name": "stdout",
     "output_type": "stream",
     "text": [
      "Coin: INJUSDT, TP: 0.002, SL: -0.005, Sigma: 4, Window Size: 1440, Output: 0.014981535402341262\n"
     ]
    },
    {
     "name": "stderr",
     "output_type": "stream",
     "text": [
      "/var/folders/xj/8fm23lb137v05ps150d3h5kr0000gn/T/ipykernel_3864/91862772.py:24: SettingWithCopyWarning: \n",
      "A value is trying to be set on a copy of a slice from a DataFrame.\n",
      "Try using .loc[row_indexer,col_indexer] = value instead\n",
      "\n",
      "See the caveats in the documentation: https://pandas.pydata.org/pandas-docs/stable/user_guide/indexing.html#returning-a-view-versus-a-copy\n",
      "  data[\"Return\"] = data[coin].pct_change()\n"
     ]
    },
    {
     "name": "stdout",
     "output_type": "stream",
     "text": [
      "Coin: INJUSDT, TP: 0.002, SL: -0.005, Sigma: 5, Window Size: 240, Output: -0.005470220885410049\n"
     ]
    },
    {
     "name": "stderr",
     "output_type": "stream",
     "text": [
      "/var/folders/xj/8fm23lb137v05ps150d3h5kr0000gn/T/ipykernel_3864/91862772.py:24: SettingWithCopyWarning: \n",
      "A value is trying to be set on a copy of a slice from a DataFrame.\n",
      "Try using .loc[row_indexer,col_indexer] = value instead\n",
      "\n",
      "See the caveats in the documentation: https://pandas.pydata.org/pandas-docs/stable/user_guide/indexing.html#returning-a-view-versus-a-copy\n",
      "  data[\"Return\"] = data[coin].pct_change()\n"
     ]
    },
    {
     "name": "stdout",
     "output_type": "stream",
     "text": [
      "Coin: INJUSDT, TP: 0.002, SL: -0.005, Sigma: 5, Window Size: 480, Output: 0.012241243314744188\n"
     ]
    },
    {
     "name": "stderr",
     "output_type": "stream",
     "text": [
      "/var/folders/xj/8fm23lb137v05ps150d3h5kr0000gn/T/ipykernel_3864/91862772.py:24: SettingWithCopyWarning: \n",
      "A value is trying to be set on a copy of a slice from a DataFrame.\n",
      "Try using .loc[row_indexer,col_indexer] = value instead\n",
      "\n",
      "See the caveats in the documentation: https://pandas.pydata.org/pandas-docs/stable/user_guide/indexing.html#returning-a-view-versus-a-copy\n",
      "  data[\"Return\"] = data[coin].pct_change()\n"
     ]
    },
    {
     "name": "stdout",
     "output_type": "stream",
     "text": [
      "Coin: INJUSDT, TP: 0.002, SL: -0.005, Sigma: 5, Window Size: 720, Output: -0.0002758122739940916\n"
     ]
    },
    {
     "name": "stderr",
     "output_type": "stream",
     "text": [
      "/var/folders/xj/8fm23lb137v05ps150d3h5kr0000gn/T/ipykernel_3864/91862772.py:24: SettingWithCopyWarning: \n",
      "A value is trying to be set on a copy of a slice from a DataFrame.\n",
      "Try using .loc[row_indexer,col_indexer] = value instead\n",
      "\n",
      "See the caveats in the documentation: https://pandas.pydata.org/pandas-docs/stable/user_guide/indexing.html#returning-a-view-versus-a-copy\n",
      "  data[\"Return\"] = data[coin].pct_change()\n"
     ]
    },
    {
     "name": "stdout",
     "output_type": "stream",
     "text": [
      "Coin: INJUSDT, TP: 0.002, SL: -0.005, Sigma: 5, Window Size: 960, Output: -0.009010243009239804\n"
     ]
    },
    {
     "name": "stderr",
     "output_type": "stream",
     "text": [
      "/var/folders/xj/8fm23lb137v05ps150d3h5kr0000gn/T/ipykernel_3864/91862772.py:24: SettingWithCopyWarning: \n",
      "A value is trying to be set on a copy of a slice from a DataFrame.\n",
      "Try using .loc[row_indexer,col_indexer] = value instead\n",
      "\n",
      "See the caveats in the documentation: https://pandas.pydata.org/pandas-docs/stable/user_guide/indexing.html#returning-a-view-versus-a-copy\n",
      "  data[\"Return\"] = data[coin].pct_change()\n"
     ]
    },
    {
     "name": "stdout",
     "output_type": "stream",
     "text": [
      "Coin: INJUSDT, TP: 0.002, SL: -0.005, Sigma: 5, Window Size: 1200, Output: -0.02037554985738743\n"
     ]
    },
    {
     "name": "stderr",
     "output_type": "stream",
     "text": [
      "/var/folders/xj/8fm23lb137v05ps150d3h5kr0000gn/T/ipykernel_3864/91862772.py:24: SettingWithCopyWarning: \n",
      "A value is trying to be set on a copy of a slice from a DataFrame.\n",
      "Try using .loc[row_indexer,col_indexer] = value instead\n",
      "\n",
      "See the caveats in the documentation: https://pandas.pydata.org/pandas-docs/stable/user_guide/indexing.html#returning-a-view-versus-a-copy\n",
      "  data[\"Return\"] = data[coin].pct_change()\n"
     ]
    },
    {
     "name": "stdout",
     "output_type": "stream",
     "text": [
      "Coin: INJUSDT, TP: 0.002, SL: -0.005, Sigma: 5, Window Size: 1440, Output: -0.014218399809426518\n"
     ]
    },
    {
     "name": "stderr",
     "output_type": "stream",
     "text": [
      "/var/folders/xj/8fm23lb137v05ps150d3h5kr0000gn/T/ipykernel_3864/91862772.py:24: SettingWithCopyWarning: \n",
      "A value is trying to be set on a copy of a slice from a DataFrame.\n",
      "Try using .loc[row_indexer,col_indexer] = value instead\n",
      "\n",
      "See the caveats in the documentation: https://pandas.pydata.org/pandas-docs/stable/user_guide/indexing.html#returning-a-view-versus-a-copy\n",
      "  data[\"Return\"] = data[coin].pct_change()\n"
     ]
    },
    {
     "name": "stdout",
     "output_type": "stream",
     "text": [
      "Coin: INJUSDT, TP: 0.002, SL: -0.01, Sigma: 2, Window Size: 240, Output: 0.09814001647349868\n"
     ]
    },
    {
     "name": "stderr",
     "output_type": "stream",
     "text": [
      "/var/folders/xj/8fm23lb137v05ps150d3h5kr0000gn/T/ipykernel_3864/91862772.py:24: SettingWithCopyWarning: \n",
      "A value is trying to be set on a copy of a slice from a DataFrame.\n",
      "Try using .loc[row_indexer,col_indexer] = value instead\n",
      "\n",
      "See the caveats in the documentation: https://pandas.pydata.org/pandas-docs/stable/user_guide/indexing.html#returning-a-view-versus-a-copy\n",
      "  data[\"Return\"] = data[coin].pct_change()\n"
     ]
    },
    {
     "name": "stdout",
     "output_type": "stream",
     "text": [
      "Coin: INJUSDT, TP: 0.002, SL: -0.01, Sigma: 2, Window Size: 480, Output: 0.039624679712198185\n"
     ]
    },
    {
     "name": "stderr",
     "output_type": "stream",
     "text": [
      "/var/folders/xj/8fm23lb137v05ps150d3h5kr0000gn/T/ipykernel_3864/91862772.py:24: SettingWithCopyWarning: \n",
      "A value is trying to be set on a copy of a slice from a DataFrame.\n",
      "Try using .loc[row_indexer,col_indexer] = value instead\n",
      "\n",
      "See the caveats in the documentation: https://pandas.pydata.org/pandas-docs/stable/user_guide/indexing.html#returning-a-view-versus-a-copy\n",
      "  data[\"Return\"] = data[coin].pct_change()\n"
     ]
    },
    {
     "name": "stdout",
     "output_type": "stream",
     "text": [
      "Coin: INJUSDT, TP: 0.002, SL: -0.01, Sigma: 2, Window Size: 720, Output: 0.05000800881076928\n"
     ]
    },
    {
     "name": "stderr",
     "output_type": "stream",
     "text": [
      "/var/folders/xj/8fm23lb137v05ps150d3h5kr0000gn/T/ipykernel_3864/91862772.py:24: SettingWithCopyWarning: \n",
      "A value is trying to be set on a copy of a slice from a DataFrame.\n",
      "Try using .loc[row_indexer,col_indexer] = value instead\n",
      "\n",
      "See the caveats in the documentation: https://pandas.pydata.org/pandas-docs/stable/user_guide/indexing.html#returning-a-view-versus-a-copy\n",
      "  data[\"Return\"] = data[coin].pct_change()\n"
     ]
    },
    {
     "name": "stdout",
     "output_type": "stream",
     "text": [
      "Coin: INJUSDT, TP: 0.002, SL: -0.01, Sigma: 2, Window Size: 960, Output: 0.061452772277865386\n"
     ]
    },
    {
     "name": "stderr",
     "output_type": "stream",
     "text": [
      "/var/folders/xj/8fm23lb137v05ps150d3h5kr0000gn/T/ipykernel_3864/91862772.py:24: SettingWithCopyWarning: \n",
      "A value is trying to be set on a copy of a slice from a DataFrame.\n",
      "Try using .loc[row_indexer,col_indexer] = value instead\n",
      "\n",
      "See the caveats in the documentation: https://pandas.pydata.org/pandas-docs/stable/user_guide/indexing.html#returning-a-view-versus-a-copy\n",
      "  data[\"Return\"] = data[coin].pct_change()\n"
     ]
    },
    {
     "name": "stdout",
     "output_type": "stream",
     "text": [
      "Coin: INJUSDT, TP: 0.002, SL: -0.01, Sigma: 2, Window Size: 1200, Output: 0.09375488496488216\n"
     ]
    },
    {
     "name": "stderr",
     "output_type": "stream",
     "text": [
      "/var/folders/xj/8fm23lb137v05ps150d3h5kr0000gn/T/ipykernel_3864/91862772.py:24: SettingWithCopyWarning: \n",
      "A value is trying to be set on a copy of a slice from a DataFrame.\n",
      "Try using .loc[row_indexer,col_indexer] = value instead\n",
      "\n",
      "See the caveats in the documentation: https://pandas.pydata.org/pandas-docs/stable/user_guide/indexing.html#returning-a-view-versus-a-copy\n",
      "  data[\"Return\"] = data[coin].pct_change()\n"
     ]
    },
    {
     "name": "stdout",
     "output_type": "stream",
     "text": [
      "Coin: INJUSDT, TP: 0.002, SL: -0.01, Sigma: 2, Window Size: 1440, Output: 0.1143309638728518\n"
     ]
    },
    {
     "name": "stderr",
     "output_type": "stream",
     "text": [
      "/var/folders/xj/8fm23lb137v05ps150d3h5kr0000gn/T/ipykernel_3864/91862772.py:24: SettingWithCopyWarning: \n",
      "A value is trying to be set on a copy of a slice from a DataFrame.\n",
      "Try using .loc[row_indexer,col_indexer] = value instead\n",
      "\n",
      "See the caveats in the documentation: https://pandas.pydata.org/pandas-docs/stable/user_guide/indexing.html#returning-a-view-versus-a-copy\n",
      "  data[\"Return\"] = data[coin].pct_change()\n"
     ]
    },
    {
     "name": "stdout",
     "output_type": "stream",
     "text": [
      "Coin: INJUSDT, TP: 0.002, SL: -0.01, Sigma: 3, Window Size: 240, Output: 0.10624788448647748\n"
     ]
    },
    {
     "name": "stderr",
     "output_type": "stream",
     "text": [
      "/var/folders/xj/8fm23lb137v05ps150d3h5kr0000gn/T/ipykernel_3864/91862772.py:24: SettingWithCopyWarning: \n",
      "A value is trying to be set on a copy of a slice from a DataFrame.\n",
      "Try using .loc[row_indexer,col_indexer] = value instead\n",
      "\n",
      "See the caveats in the documentation: https://pandas.pydata.org/pandas-docs/stable/user_guide/indexing.html#returning-a-view-versus-a-copy\n",
      "  data[\"Return\"] = data[coin].pct_change()\n"
     ]
    },
    {
     "name": "stdout",
     "output_type": "stream",
     "text": [
      "Coin: INJUSDT, TP: 0.002, SL: -0.01, Sigma: 3, Window Size: 480, Output: 0.0410510218776291\n"
     ]
    },
    {
     "name": "stderr",
     "output_type": "stream",
     "text": [
      "/var/folders/xj/8fm23lb137v05ps150d3h5kr0000gn/T/ipykernel_3864/91862772.py:24: SettingWithCopyWarning: \n",
      "A value is trying to be set on a copy of a slice from a DataFrame.\n",
      "Try using .loc[row_indexer,col_indexer] = value instead\n",
      "\n",
      "See the caveats in the documentation: https://pandas.pydata.org/pandas-docs/stable/user_guide/indexing.html#returning-a-view-versus-a-copy\n",
      "  data[\"Return\"] = data[coin].pct_change()\n"
     ]
    },
    {
     "name": "stdout",
     "output_type": "stream",
     "text": [
      "Coin: INJUSDT, TP: 0.002, SL: -0.01, Sigma: 3, Window Size: 720, Output: 0.06184714216582832\n"
     ]
    },
    {
     "name": "stderr",
     "output_type": "stream",
     "text": [
      "/var/folders/xj/8fm23lb137v05ps150d3h5kr0000gn/T/ipykernel_3864/91862772.py:24: SettingWithCopyWarning: \n",
      "A value is trying to be set on a copy of a slice from a DataFrame.\n",
      "Try using .loc[row_indexer,col_indexer] = value instead\n",
      "\n",
      "See the caveats in the documentation: https://pandas.pydata.org/pandas-docs/stable/user_guide/indexing.html#returning-a-view-versus-a-copy\n",
      "  data[\"Return\"] = data[coin].pct_change()\n"
     ]
    },
    {
     "name": "stdout",
     "output_type": "stream",
     "text": [
      "Coin: INJUSDT, TP: 0.002, SL: -0.01, Sigma: 3, Window Size: 960, Output: 0.08567722753371143\n"
     ]
    },
    {
     "name": "stderr",
     "output_type": "stream",
     "text": [
      "/var/folders/xj/8fm23lb137v05ps150d3h5kr0000gn/T/ipykernel_3864/91862772.py:24: SettingWithCopyWarning: \n",
      "A value is trying to be set on a copy of a slice from a DataFrame.\n",
      "Try using .loc[row_indexer,col_indexer] = value instead\n",
      "\n",
      "See the caveats in the documentation: https://pandas.pydata.org/pandas-docs/stable/user_guide/indexing.html#returning-a-view-versus-a-copy\n",
      "  data[\"Return\"] = data[coin].pct_change()\n"
     ]
    },
    {
     "name": "stdout",
     "output_type": "stream",
     "text": [
      "Coin: INJUSDT, TP: 0.002, SL: -0.01, Sigma: 3, Window Size: 1200, Output: 0.0801591647588652\n"
     ]
    },
    {
     "name": "stderr",
     "output_type": "stream",
     "text": [
      "/var/folders/xj/8fm23lb137v05ps150d3h5kr0000gn/T/ipykernel_3864/91862772.py:24: SettingWithCopyWarning: \n",
      "A value is trying to be set on a copy of a slice from a DataFrame.\n",
      "Try using .loc[row_indexer,col_indexer] = value instead\n",
      "\n",
      "See the caveats in the documentation: https://pandas.pydata.org/pandas-docs/stable/user_guide/indexing.html#returning-a-view-versus-a-copy\n",
      "  data[\"Return\"] = data[coin].pct_change()\n"
     ]
    },
    {
     "name": "stdout",
     "output_type": "stream",
     "text": [
      "Coin: INJUSDT, TP: 0.002, SL: -0.01, Sigma: 3, Window Size: 1440, Output: 0.053842912290263945\n"
     ]
    },
    {
     "name": "stderr",
     "output_type": "stream",
     "text": [
      "/var/folders/xj/8fm23lb137v05ps150d3h5kr0000gn/T/ipykernel_3864/91862772.py:24: SettingWithCopyWarning: \n",
      "A value is trying to be set on a copy of a slice from a DataFrame.\n",
      "Try using .loc[row_indexer,col_indexer] = value instead\n",
      "\n",
      "See the caveats in the documentation: https://pandas.pydata.org/pandas-docs/stable/user_guide/indexing.html#returning-a-view-versus-a-copy\n",
      "  data[\"Return\"] = data[coin].pct_change()\n"
     ]
    },
    {
     "name": "stdout",
     "output_type": "stream",
     "text": [
      "Coin: INJUSDT, TP: 0.002, SL: -0.01, Sigma: 4, Window Size: 240, Output: 0.07309442669453059\n"
     ]
    },
    {
     "ename": "KeyboardInterrupt",
     "evalue": "",
     "output_type": "error",
     "traceback": [
      "\u001b[0;31m---------------------------------------------------------------------------\u001b[0m",
      "\u001b[0;31mKeyboardInterrupt\u001b[0m                         Traceback (most recent call last)",
      "Cell \u001b[0;32mIn [83], line 11\u001b[0m\n\u001b[1;32m      8\u001b[0m \u001b[39mfor\u001b[39;00m sigma \u001b[39min\u001b[39;00m sigma_list:\n\u001b[1;32m      9\u001b[0m     \u001b[39mfor\u001b[39;00m window_size \u001b[39min\u001b[39;00m window_size_list:\n\u001b[1;32m     10\u001b[0m         \u001b[39m# Call the backtestSpike function with current combination of parameters\u001b[39;00m\n\u001b[0;32m---> 11\u001b[0m         output \u001b[39m=\u001b[39m backtestSpike(coin\u001b[39m=\u001b[39;49mcoin, days\u001b[39m=\u001b[39;49m\u001b[39m5\u001b[39;49m, sigma\u001b[39m=\u001b[39;49msigma, window_size\u001b[39m=\u001b[39;49mwindow_size, TP\u001b[39m=\u001b[39;49mTP, SL\u001b[39m=\u001b[39;49mSL, plot\u001b[39m=\u001b[39;49m\u001b[39mFalse\u001b[39;49;00m)\n\u001b[1;32m     13\u001b[0m         \u001b[39m# Store the output and the parameters used in the results list\u001b[39;00m\n\u001b[1;32m     14\u001b[0m         results\u001b[39m.\u001b[39mappend({\n\u001b[1;32m     15\u001b[0m             \u001b[39m'\u001b[39m\u001b[39mCoin\u001b[39m\u001b[39m'\u001b[39m: coin,\n\u001b[1;32m     16\u001b[0m             \u001b[39m'\u001b[39m\u001b[39mTP\u001b[39m\u001b[39m'\u001b[39m: TP,\n\u001b[0;32m   (...)\u001b[0m\n\u001b[1;32m     20\u001b[0m             \u001b[39m'\u001b[39m\u001b[39mOutput\u001b[39m\u001b[39m'\u001b[39m: output\n\u001b[1;32m     21\u001b[0m         })\n",
      "Cell \u001b[0;32mIn [68], line 10\u001b[0m, in \u001b[0;36mbacktestSpike\u001b[0;34m(coin, days, sigma, window_size, TP, SL, plot)\u001b[0m\n\u001b[1;32m      7\u001b[0m now \u001b[39m=\u001b[39m date_now\u001b[39m.\u001b[39mstrftime(\u001b[39m\"\u001b[39m\u001b[39m%\u001b[39m\u001b[39mY-\u001b[39m\u001b[39m%\u001b[39m\u001b[39mm-\u001b[39m\u001b[39m%d\u001b[39;00m\u001b[39m \u001b[39m\u001b[39m%\u001b[39m\u001b[39mH:\u001b[39m\u001b[39m%\u001b[39m\u001b[39mM:\u001b[39m\u001b[39m%\u001b[39m\u001b[39mS\u001b[39m\u001b[39m\"\u001b[39m)\n\u001b[1;32m      8\u001b[0m start \u001b[39m=\u001b[39m date_start\u001b[39m.\u001b[39mstrftime(\u001b[39m\"\u001b[39m\u001b[39m%\u001b[39m\u001b[39mY-\u001b[39m\u001b[39m%\u001b[39m\u001b[39mm-\u001b[39m\u001b[39m%d\u001b[39;00m\u001b[39m\"\u001b[39m)\n\u001b[0;32m---> 10\u001b[0m df \u001b[39m=\u001b[39m pd\u001b[39m.\u001b[39mDataFrame(client\u001b[39m.\u001b[39;49mfutures_historical_klines(\n\u001b[1;32m     11\u001b[0m     symbol\u001b[39m=\u001b[39;49mcoin,\n\u001b[1;32m     12\u001b[0m     interval\u001b[39m=\u001b[39;49mclient\u001b[39m.\u001b[39;49mKLINE_INTERVAL_1MINUTE, \u001b[39m# can play with this e.g. '1h', '4h', '1w', etc.\u001b[39;49;00m\n\u001b[1;32m     13\u001b[0m     start_str\u001b[39m=\u001b[39;49mstart,\n\u001b[1;32m     14\u001b[0m     end_str\u001b[39m=\u001b[39;49mnow\n\u001b[1;32m     15\u001b[0m ))\n\u001b[1;32m     16\u001b[0m df \u001b[39m=\u001b[39m df\u001b[39m.\u001b[39miloc[:, :\u001b[39m6\u001b[39m]\n\u001b[1;32m     17\u001b[0m df\u001b[39m.\u001b[39mcolumns \u001b[39m=\u001b[39m [\u001b[39m'\u001b[39m\u001b[39mdate\u001b[39m\u001b[39m'\u001b[39m, \u001b[39m'\u001b[39m\u001b[39mopen\u001b[39m\u001b[39m'\u001b[39m, \u001b[39m'\u001b[39m\u001b[39mhigh\u001b[39m\u001b[39m'\u001b[39m, \u001b[39m'\u001b[39m\u001b[39mlow\u001b[39m\u001b[39m'\u001b[39m, \u001b[39mf\u001b[39m\u001b[39m'\u001b[39m\u001b[39m{\u001b[39;00mcoin\u001b[39m}\u001b[39;00m\u001b[39m'\u001b[39m, \u001b[39m'\u001b[39m\u001b[39mvolume\u001b[39m\u001b[39m'\u001b[39m]\n",
      "File \u001b[0;32m/opt/anaconda3/lib/python3.9/site-packages/binance/client.py:5842\u001b[0m, in \u001b[0;36mClient.futures_historical_klines\u001b[0;34m(self, symbol, interval, start_str, end_str, limit)\u001b[0m\n\u001b[1;32m   5825\u001b[0m \u001b[39mdef\u001b[39;00m \u001b[39mfutures_historical_klines\u001b[39m(\u001b[39mself\u001b[39m, symbol, interval, start_str, end_str\u001b[39m=\u001b[39m\u001b[39mNone\u001b[39;00m, limit\u001b[39m=\u001b[39m\u001b[39m500\u001b[39m):\n\u001b[1;32m   5826\u001b[0m     \u001b[39m\"\"\"Get historical futures klines from Binance\u001b[39;00m\n\u001b[1;32m   5827\u001b[0m \n\u001b[1;32m   5828\u001b[0m \u001b[39m    :param symbol: Name of symbol pair e.g BNBBTC\u001b[39;00m\n\u001b[0;32m   (...)\u001b[0m\n\u001b[1;32m   5840\u001b[0m \n\u001b[1;32m   5841\u001b[0m \u001b[39m    \"\"\"\u001b[39;00m\n\u001b[0;32m-> 5842\u001b[0m     \u001b[39mreturn\u001b[39;00m \u001b[39mself\u001b[39;49m\u001b[39m.\u001b[39;49m_historical_klines(symbol, interval, start_str, end_str\u001b[39m=\u001b[39;49mend_str, limit\u001b[39m=\u001b[39;49mlimit, klines_type\u001b[39m=\u001b[39;49mHistoricalKlinesType\u001b[39m.\u001b[39;49mFUTURES)\n",
      "File \u001b[0;32m/opt/anaconda3/lib/python3.9/site-packages/binance/client.py:1013\u001b[0m, in \u001b[0;36mClient._historical_klines\u001b[0;34m(self, symbol, interval, start_str, end_str, limit, klines_type)\u001b[0m\n\u001b[1;32m   1011\u001b[0m     idx \u001b[39m+\u001b[39m\u001b[39m=\u001b[39m \u001b[39m1\u001b[39m\n\u001b[1;32m   1012\u001b[0m     \u001b[39mif\u001b[39;00m idx \u001b[39m%\u001b[39m \u001b[39m3\u001b[39m \u001b[39m==\u001b[39m \u001b[39m0\u001b[39m:\n\u001b[0;32m-> 1013\u001b[0m         time\u001b[39m.\u001b[39;49msleep(\u001b[39m1\u001b[39;49m)\n\u001b[1;32m   1015\u001b[0m \u001b[39mreturn\u001b[39;00m output_data\n",
      "\u001b[0;31mKeyboardInterrupt\u001b[0m: "
     ]
    }
   ],
   "source": [
    "results = []\n",
    "\n",
    "for coin in coin_list:\n",
    "    for TP in TP_list:\n",
    "        for SL in SL_list:\n",
    "            for sigma in sigma_list:\n",
    "                for window_size in window_size_list:\n",
    "                    output = backtestSpike(coin=coin, days=5, sigma=sigma, window_size=window_size, TP=TP, SL=SL, plot=False)\n",
    "                    \n",
    "                    results.append({\n",
    "                        'Coin': coin,\n",
    "                        'TP': TP,\n",
    "                        'SL': SL,\n",
    "                        'Sigma': sigma,\n",
    "                        'Window Size': window_size,\n",
    "                        'Output': output\n",
    "                    })\n",
    "                    print(f'Coin: {coin}, TP: {TP}, SL: {SL}, Sigma: {sigma}, Window Size: {window_size}, Output: {output}')\n",
    "\n",
    "df_results = pd.DataFrame(results)\n",
    "\n",
    "df_sorted = df_results.sort_values(by='Output', ascending=False)\n",
    "\n",
    "df_sorted.to_csv('backtest_results.csv', index=False)\n",
    "\n",
    "print(df_sorted)\n"
   ]
  },
  {
   "attachments": {},
   "cell_type": "markdown",
   "metadata": {},
   "source": [
    "# 여기부터 제대로"
   ]
  },
  {
   "cell_type": "code",
   "execution_count": 87,
   "metadata": {},
   "outputs": [
    {
     "name": "stderr",
     "output_type": "stream",
     "text": [
      "/var/folders/xj/8fm23lb137v05ps150d3h5kr0000gn/T/ipykernel_3864/3295486202.py:24: SettingWithCopyWarning: \n",
      "A value is trying to be set on a copy of a slice from a DataFrame.\n",
      "Try using .loc[row_indexer,col_indexer] = value instead\n",
      "\n",
      "See the caveats in the documentation: https://pandas.pydata.org/pandas-docs/stable/user_guide/indexing.html#returning-a-view-versus-a-copy\n",
      "  data[\"Return\"] = data[coin].pct_change()\n"
     ]
    }
   ],
   "source": [
    "coin_list = ['INJUSDT', 'ONDOUSDT']\n",
    "coin = 'ONDOUSDT'\n",
    "days = 5\n",
    "\n",
    "date_now = dt.datetime.now()\n",
    "date_start = date_now-dt.timedelta(days) #(days = 1)\n",
    "now = date_now.strftime(\"%Y-%m-%d %H:%M:%S\")\n",
    "start = date_start.strftime(\"%Y-%m-%d\")\n",
    "\n",
    "df = pd.DataFrame(client.futures_historical_klines(\n",
    "    symbol=coin,\n",
    "    interval=client.KLINE_INTERVAL_1MINUTE, # can play with this e.g. '1h', '4h', '1w', etc.\n",
    "    start_str=start,\n",
    "    end_str=now\n",
    "))\n",
    "df = df.iloc[:, :6]\n",
    "df.columns = ['date', 'open', 'high', 'low', f'{coin}', 'volume']\n",
    "df['date'] = pd.to_datetime(df['date'], unit='ms')\n",
    "for col in df.columns[1:]:\n",
    "    df[col] = pd.to_numeric(df[col])\n",
    "df = df.set_index(\"date\")\n",
    "data = df[[coin]]\n",
    "\n",
    "data[\"Return\"] = data[coin].pct_change()\n",
    "pd.set_option('display.max_rows', 10)\n",
    "\n",
    "df = data.copy()"
   ]
  },
  {
   "cell_type": "code",
   "execution_count": 88,
   "metadata": {},
   "outputs": [],
   "source": [
    "def backtestDEMO(df, sigma, window_size, TP, SL, plot = False):\n",
    "    df.sort_index(inplace=True)\n",
    "\n",
    "    df['POS'] = 0\n",
    "\n",
    "    rolling_mean = df['Return'].abs().rolling(window=window_size).mean()\n",
    "    rolling_std = df['Return'].abs().rolling(window=window_size).std()\n",
    "\n",
    "    for n in range(window_size, len(df)):\n",
    "        current_return = df.iloc[n]['Return']\n",
    "        mean_return = rolling_mean.iloc[n]\n",
    "        std_return = rolling_std.iloc[n]\n",
    "\n",
    "        if abs(current_return) > mean_return + (sigma * std_return):\n",
    "            df.at[df.index[n], 'POS'] = 1 if current_return > 0 else -1\n",
    "\n",
    "    df['Action'] = 0\n",
    "\n",
    "    in_position = False\n",
    "    long_position = False\n",
    "    short_position = False\n",
    "    cumulative_return = 0.0\n",
    "\n",
    "    for i in range(len(df) - 1):  \n",
    "        if not in_position:\n",
    "            if df.iloc[i]['POS'] != 0:\n",
    "                in_position = True\n",
    "                cumulative_return = 0.0  \n",
    "                if df.iloc[i]['POS'] == 1:\n",
    "                    long_position = True\n",
    "                elif df.iloc[i]['POS'] == -1:\n",
    "                    short_position = True\n",
    "                continue  \n",
    "        else:\n",
    "            if long_position:\n",
    "                cumulative_return += df.iloc[i]['Return']\n",
    "            if short_position:\n",
    "                cumulative_return += df.iloc[i]['Return'] * -1\n",
    "\n",
    "            df.at[df.index[i], 'Action'] = 1 if long_position else -1\n",
    "            \n",
    "            if cumulative_return > TP or cumulative_return < SL:  # TP/SL\n",
    "                in_position = long_position = short_position = False # Exit position\n",
    "\n",
    "    df['stratReturn'] = (df['Return'] * df['Action']).cumsum()\n",
    "    finalReturn = df['stratReturn'].iloc[-1]\n",
    "    \n",
    "    \n",
    "    if plot:         \n",
    "        pd.set_option('display.max_rows', 10)\n",
    "        df['stratReturn'].plot(figsize=(10, 6), title='Strategy Return Over Time')\n",
    "        df['Return'].cumsum().plot(label='Market Return')\n",
    "\n",
    "        plt.legend()\n",
    "\n",
    "        plt.title('Cumulative Market vs. Strategy Returns')\n",
    "        plt.xlabel('Date')\n",
    "        plt.ylabel('Cumulative Return')\n",
    "\n",
    "        return plt.show()\n",
    "    \n",
    "    return finalReturn"
   ]
  },
  {
   "cell_type": "code",
   "execution_count": 89,
   "metadata": {},
   "outputs": [
    {
     "name": "stdout",
     "output_type": "stream",
     "text": [
      "Coin: ONDOUSDT, TP: 0.002, SL: -0.002, Sigma: 2, Window Size: 240, Output: 0.030282567578156616\n",
      "Coin: ONDOUSDT, TP: 0.002, SL: -0.002, Sigma: 2, Window Size: 480, Output: 0.0021587881194461422\n",
      "Coin: ONDOUSDT, TP: 0.002, SL: -0.002, Sigma: 2, Window Size: 720, Output: 0.14991811015780843\n",
      "Coin: ONDOUSDT, TP: 0.002, SL: -0.002, Sigma: 2, Window Size: 960, Output: 0.1409430889280474\n",
      "Coin: ONDOUSDT, TP: 0.002, SL: -0.002, Sigma: 2, Window Size: 1200, Output: 0.05944649852986439\n",
      "Coin: ONDOUSDT, TP: 0.002, SL: -0.002, Sigma: 2, Window Size: 1440, Output: 0.04525959207795227\n",
      "Coin: ONDOUSDT, TP: 0.002, SL: -0.002, Sigma: 3, Window Size: 240, Output: -0.03431986144929533\n",
      "Coin: ONDOUSDT, TP: 0.002, SL: -0.002, Sigma: 3, Window Size: 480, Output: 0.0945449047113921\n",
      "Coin: ONDOUSDT, TP: 0.002, SL: -0.002, Sigma: 3, Window Size: 720, Output: 0.09075498699465501\n",
      "Coin: ONDOUSDT, TP: 0.002, SL: -0.002, Sigma: 3, Window Size: 960, Output: 0.09321106348827723\n",
      "Coin: ONDOUSDT, TP: 0.002, SL: -0.002, Sigma: 3, Window Size: 1200, Output: 0.049937017153567576\n",
      "Coin: ONDOUSDT, TP: 0.002, SL: -0.002, Sigma: 3, Window Size: 1440, Output: 0.07410300787799828\n",
      "Coin: ONDOUSDT, TP: 0.002, SL: -0.002, Sigma: 4, Window Size: 240, Output: -0.04071473680098647\n",
      "Coin: ONDOUSDT, TP: 0.002, SL: -0.002, Sigma: 4, Window Size: 480, Output: 0.00820188188233495\n",
      "Coin: ONDOUSDT, TP: 0.002, SL: -0.002, Sigma: 4, Window Size: 720, Output: 0.006307820021050459\n",
      "Coin: ONDOUSDT, TP: 0.002, SL: -0.002, Sigma: 4, Window Size: 960, Output: 0.0360973907311567\n",
      "Coin: ONDOUSDT, TP: 0.002, SL: -0.002, Sigma: 4, Window Size: 1200, Output: 0.02800656828493564\n",
      "Coin: ONDOUSDT, TP: 0.002, SL: -0.002, Sigma: 4, Window Size: 1440, Output: 0.026278641459672736\n",
      "Coin: ONDOUSDT, TP: 0.002, SL: -0.002, Sigma: 5, Window Size: 240, Output: -0.009940440540689655\n",
      "Coin: ONDOUSDT, TP: 0.002, SL: -0.002, Sigma: 5, Window Size: 480, Output: -0.009560801474917557\n",
      "Coin: ONDOUSDT, TP: 0.002, SL: -0.002, Sigma: 5, Window Size: 720, Output: -0.01744688861525978\n",
      "Coin: ONDOUSDT, TP: 0.002, SL: -0.002, Sigma: 5, Window Size: 960, Output: -0.016375358562683906\n",
      "Coin: ONDOUSDT, TP: 0.002, SL: -0.002, Sigma: 5, Window Size: 1200, Output: -0.022023486720346597\n",
      "Coin: ONDOUSDT, TP: 0.002, SL: -0.002, Sigma: 5, Window Size: 1440, Output: 0.01698429535903523\n",
      "Coin: ONDOUSDT, TP: 0.002, SL: -0.003, Sigma: 2, Window Size: 240, Output: 0.04760040683514155\n",
      "Coin: ONDOUSDT, TP: 0.002, SL: -0.003, Sigma: 2, Window Size: 480, Output: -0.027219900558735577\n",
      "Coin: ONDOUSDT, TP: 0.002, SL: -0.003, Sigma: 2, Window Size: 720, Output: 0.14695093399490833\n",
      "Coin: ONDOUSDT, TP: 0.002, SL: -0.003, Sigma: 2, Window Size: 960, Output: 0.14156732970622854\n",
      "Coin: ONDOUSDT, TP: 0.002, SL: -0.003, Sigma: 2, Window Size: 1200, Output: 0.031089423847169284\n",
      "Coin: ONDOUSDT, TP: 0.002, SL: -0.003, Sigma: 2, Window Size: 1440, Output: 0.033716781549024244\n",
      "Coin: ONDOUSDT, TP: 0.002, SL: -0.003, Sigma: 3, Window Size: 240, Output: -0.008619163112355444\n",
      "Coin: ONDOUSDT, TP: 0.002, SL: -0.003, Sigma: 3, Window Size: 480, Output: 0.07850047449946485\n",
      "Coin: ONDOUSDT, TP: 0.002, SL: -0.003, Sigma: 3, Window Size: 720, Output: 0.07085440691905642\n",
      "Coin: ONDOUSDT, TP: 0.002, SL: -0.003, Sigma: 3, Window Size: 960, Output: 0.07221389163947889\n",
      "Coin: ONDOUSDT, TP: 0.002, SL: -0.003, Sigma: 3, Window Size: 1200, Output: 0.03283385814448425\n",
      "Coin: ONDOUSDT, TP: 0.002, SL: -0.003, Sigma: 3, Window Size: 1440, Output: 0.05961578139608936\n",
      "Coin: ONDOUSDT, TP: 0.002, SL: -0.003, Sigma: 4, Window Size: 240, Output: -0.027427757517133\n",
      "Coin: ONDOUSDT, TP: 0.002, SL: -0.003, Sigma: 4, Window Size: 480, Output: 0.013888625843870961\n",
      "Coin: ONDOUSDT, TP: 0.002, SL: -0.003, Sigma: 4, Window Size: 720, Output: 0.023147002218761425\n",
      "Coin: ONDOUSDT, TP: 0.002, SL: -0.003, Sigma: 4, Window Size: 960, Output: 0.019727254733114097\n",
      "Coin: ONDOUSDT, TP: 0.002, SL: -0.003, Sigma: 4, Window Size: 1200, Output: 0.01578089646688119\n",
      "Coin: ONDOUSDT, TP: 0.002, SL: -0.003, Sigma: 4, Window Size: 1440, Output: 0.012858226511391235\n",
      "Coin: ONDOUSDT, TP: 0.002, SL: -0.003, Sigma: 5, Window Size: 240, Output: 0.003918991341027578\n",
      "Coin: ONDOUSDT, TP: 0.002, SL: -0.003, Sigma: 5, Window Size: 480, Output: -0.0010619442937180867\n",
      "Coin: ONDOUSDT, TP: 0.002, SL: -0.003, Sigma: 5, Window Size: 720, Output: -0.00894803143406031\n",
      "Coin: ONDOUSDT, TP: 0.002, SL: -0.003, Sigma: 5, Window Size: 960, Output: -0.005770772340099595\n",
      "Coin: ONDOUSDT, TP: 0.002, SL: -0.003, Sigma: 5, Window Size: 1200, Output: -0.011418900497762285\n",
      "Coin: ONDOUSDT, TP: 0.002, SL: -0.003, Sigma: 5, Window Size: 1440, Output: -0.014072883498775113\n",
      "Coin: ONDOUSDT, TP: 0.002, SL: -0.005, Sigma: 2, Window Size: 240, Output: 0.09442792749252704\n",
      "Coin: ONDOUSDT, TP: 0.002, SL: -0.005, Sigma: 2, Window Size: 480, Output: 0.045690381951282166\n",
      "Coin: ONDOUSDT, TP: 0.002, SL: -0.005, Sigma: 2, Window Size: 720, Output: 0.1828778583118862\n",
      "Coin: ONDOUSDT, TP: 0.002, SL: -0.005, Sigma: 2, Window Size: 960, Output: 0.14158949553132893\n",
      "Coin: ONDOUSDT, TP: 0.002, SL: -0.005, Sigma: 2, Window Size: 1200, Output: 0.10446432920759074\n",
      "Coin: ONDOUSDT, TP: 0.002, SL: -0.005, Sigma: 2, Window Size: 1440, Output: 0.09496974403237257\n",
      "Coin: ONDOUSDT, TP: 0.002, SL: -0.005, Sigma: 3, Window Size: 240, Output: 0.044589021467086654\n",
      "Coin: ONDOUSDT, TP: 0.002, SL: -0.005, Sigma: 3, Window Size: 480, Output: 0.13849562339071775\n",
      "Coin: ONDOUSDT, TP: 0.002, SL: -0.005, Sigma: 3, Window Size: 720, Output: 0.14284921530920291\n",
      "Coin: ONDOUSDT, TP: 0.002, SL: -0.005, Sigma: 3, Window Size: 960, Output: 0.15137249573773703\n",
      "Coin: ONDOUSDT, TP: 0.002, SL: -0.005, Sigma: 3, Window Size: 1200, Output: 0.05269754071877342\n",
      "Coin: ONDOUSDT, TP: 0.002, SL: -0.005, Sigma: 3, Window Size: 1440, Output: 0.09267768389401443\n",
      "Coin: ONDOUSDT, TP: 0.002, SL: -0.005, Sigma: 4, Window Size: 240, Output: 0.030029969540012802\n",
      "Coin: ONDOUSDT, TP: 0.002, SL: -0.005, Sigma: 4, Window Size: 480, Output: 0.039413975977689364\n",
      "Coin: ONDOUSDT, TP: 0.002, SL: -0.005, Sigma: 4, Window Size: 720, Output: 0.046422998359512135\n",
      "Coin: ONDOUSDT, TP: 0.002, SL: -0.005, Sigma: 4, Window Size: 960, Output: 0.048833195564750076\n",
      "Coin: ONDOUSDT, TP: 0.002, SL: -0.005, Sigma: 4, Window Size: 1200, Output: 0.037669716182781476\n",
      "Coin: ONDOUSDT, TP: 0.002, SL: -0.005, Sigma: 4, Window Size: 1440, Output: 0.03066433768431931\n",
      "Coin: ONDOUSDT, TP: 0.002, SL: -0.005, Sigma: 5, Window Size: 240, Output: 0.016734425876077985\n",
      "Coin: ONDOUSDT, TP: 0.002, SL: -0.005, Sigma: 5, Window Size: 480, Output: 0.014821657637357655\n",
      "Coin: ONDOUSDT, TP: 0.002, SL: -0.005, Sigma: 5, Window Size: 720, Output: 0.012572921698520423\n",
      "Coin: ONDOUSDT, TP: 0.002, SL: -0.005, Sigma: 5, Window Size: 960, Output: 0.014556409314251617\n",
      "Coin: ONDOUSDT, TP: 0.002, SL: -0.005, Sigma: 5, Window Size: 1200, Output: 0.007381889425025823\n",
      "Coin: ONDOUSDT, TP: 0.002, SL: -0.005, Sigma: 5, Window Size: 1440, Output: 0.006254298155576099\n",
      "Coin: ONDOUSDT, TP: 0.002, SL: -0.01, Sigma: 2, Window Size: 240, Output: 0.1705836443062857\n",
      "Coin: ONDOUSDT, TP: 0.002, SL: -0.01, Sigma: 2, Window Size: 480, Output: 0.06423067870215537\n",
      "Coin: ONDOUSDT, TP: 0.002, SL: -0.01, Sigma: 2, Window Size: 720, Output: 0.19498655830269884\n",
      "Coin: ONDOUSDT, TP: 0.002, SL: -0.01, Sigma: 2, Window Size: 960, Output: 0.10854766354601597\n",
      "Coin: ONDOUSDT, TP: 0.002, SL: -0.01, Sigma: 2, Window Size: 1200, Output: 0.07505949702523373\n",
      "Coin: ONDOUSDT, TP: 0.002, SL: -0.01, Sigma: 2, Window Size: 1440, Output: 0.10630290713522716\n",
      "Coin: ONDOUSDT, TP: 0.002, SL: -0.01, Sigma: 3, Window Size: 240, Output: 0.057586791555443106\n",
      "Coin: ONDOUSDT, TP: 0.002, SL: -0.01, Sigma: 3, Window Size: 480, Output: 0.18407822531929352\n",
      "Coin: ONDOUSDT, TP: 0.002, SL: -0.01, Sigma: 3, Window Size: 720, Output: 0.16251083253477128\n",
      "Coin: ONDOUSDT, TP: 0.002, SL: -0.01, Sigma: 3, Window Size: 960, Output: 0.23100181254887464\n",
      "Coin: ONDOUSDT, TP: 0.002, SL: -0.01, Sigma: 3, Window Size: 1200, Output: 0.1294199655937729\n",
      "Coin: ONDOUSDT, TP: 0.002, SL: -0.01, Sigma: 3, Window Size: 1440, Output: 0.14485732139197682\n",
      "Coin: ONDOUSDT, TP: 0.002, SL: -0.01, Sigma: 4, Window Size: 240, Output: 0.04329745073883695\n",
      "Coin: ONDOUSDT, TP: 0.002, SL: -0.01, Sigma: 4, Window Size: 480, Output: 0.05128669100086669\n",
      "Coin: ONDOUSDT, TP: 0.002, SL: -0.01, Sigma: 4, Window Size: 720, Output: 0.05200097377000201\n",
      "Coin: ONDOUSDT, TP: 0.002, SL: -0.01, Sigma: 4, Window Size: 960, Output: 0.04314156184873097\n",
      "Coin: ONDOUSDT, TP: 0.002, SL: -0.01, Sigma: 4, Window Size: 1200, Output: 0.04756977286425457\n",
      "Coin: ONDOUSDT, TP: 0.002, SL: -0.01, Sigma: 4, Window Size: 1440, Output: 0.06547015252572552\n",
      "Coin: ONDOUSDT, TP: 0.002, SL: -0.01, Sigma: 5, Window Size: 240, Output: 0.012702555884611999\n",
      "Coin: ONDOUSDT, TP: 0.002, SL: -0.01, Sigma: 5, Window Size: 480, Output: 0.02234004545043755\n",
      "Coin: ONDOUSDT, TP: 0.002, SL: -0.01, Sigma: 5, Window Size: 720, Output: 0.00616404779888724\n",
      "Coin: ONDOUSDT, TP: 0.002, SL: -0.01, Sigma: 5, Window Size: 960, Output: 0.01681348530691762\n",
      "Coin: ONDOUSDT, TP: 0.002, SL: -0.01, Sigma: 5, Window Size: 1200, Output: -0.0047916504630780565\n",
      "Coin: ONDOUSDT, TP: 0.002, SL: -0.01, Sigma: 5, Window Size: 1440, Output: 0.019778520418603285\n",
      "Coin: ONDOUSDT, TP: 0.002, SL: -0.02, Sigma: 2, Window Size: 240, Output: 0.09810742141280715\n",
      "Coin: ONDOUSDT, TP: 0.002, SL: -0.02, Sigma: 2, Window Size: 480, Output: 0.10396215817700516\n",
      "Coin: ONDOUSDT, TP: 0.002, SL: -0.02, Sigma: 2, Window Size: 720, Output: 0.23835456055134352\n",
      "Coin: ONDOUSDT, TP: 0.002, SL: -0.02, Sigma: 2, Window Size: 960, Output: 0.07281642732315341\n",
      "Coin: ONDOUSDT, TP: 0.002, SL: -0.02, Sigma: 2, Window Size: 1200, Output: -0.012031647282327196\n",
      "Coin: ONDOUSDT, TP: 0.002, SL: -0.02, Sigma: 2, Window Size: 1440, Output: -0.048351258114890605\n",
      "Coin: ONDOUSDT, TP: 0.002, SL: -0.02, Sigma: 3, Window Size: 240, Output: 0.1073016834901358\n",
      "Coin: ONDOUSDT, TP: 0.002, SL: -0.02, Sigma: 3, Window Size: 480, Output: 0.2540397193548093\n",
      "Coin: ONDOUSDT, TP: 0.002, SL: -0.02, Sigma: 3, Window Size: 720, Output: 0.14234961296620252\n",
      "Coin: ONDOUSDT, TP: 0.002, SL: -0.02, Sigma: 3, Window Size: 960, Output: 0.23380634638544728\n",
      "Coin: ONDOUSDT, TP: 0.002, SL: -0.02, Sigma: 3, Window Size: 1200, Output: 0.09225930373445768\n",
      "Coin: ONDOUSDT, TP: 0.002, SL: -0.02, Sigma: 3, Window Size: 1440, Output: 0.13952150643691985\n",
      "Coin: ONDOUSDT, TP: 0.002, SL: -0.02, Sigma: 4, Window Size: 240, Output: 0.12872742651886881\n",
      "Coin: ONDOUSDT, TP: 0.002, SL: -0.02, Sigma: 4, Window Size: 480, Output: 0.12800365925246826\n",
      "Coin: ONDOUSDT, TP: 0.002, SL: -0.02, Sigma: 4, Window Size: 720, Output: 0.13594712829429145\n",
      "Coin: ONDOUSDT, TP: 0.002, SL: -0.02, Sigma: 4, Window Size: 960, Output: 0.08927399029192784\n",
      "Coin: ONDOUSDT, TP: 0.002, SL: -0.02, Sigma: 4, Window Size: 1200, Output: 0.07772460276987392\n",
      "Coin: ONDOUSDT, TP: 0.002, SL: -0.02, Sigma: 4, Window Size: 1440, Output: 0.0797648832395621\n",
      "Coin: ONDOUSDT, TP: 0.002, SL: -0.02, Sigma: 5, Window Size: 240, Output: 0.017702349848476517\n",
      "Coin: ONDOUSDT, TP: 0.002, SL: -0.02, Sigma: 5, Window Size: 480, Output: 0.03011651510971658\n",
      "Coin: ONDOUSDT, TP: 0.002, SL: -0.02, Sigma: 5, Window Size: 720, Output: 0.028740643117575404\n",
      "Coin: ONDOUSDT, TP: 0.002, SL: -0.02, Sigma: 5, Window Size: 960, Output: 0.03939008062560578\n",
      "Coin: ONDOUSDT, TP: 0.002, SL: -0.02, Sigma: 5, Window Size: 1200, Output: 0.03295608793325999\n",
      "Coin: ONDOUSDT, TP: 0.002, SL: -0.02, Sigma: 5, Window Size: 1440, Output: 0.04235511573729145\n",
      "Coin: ONDOUSDT, TP: 0.003, SL: -0.002, Sigma: 2, Window Size: 240, Output: 0.008657261068305111\n",
      "Coin: ONDOUSDT, TP: 0.003, SL: -0.002, Sigma: 2, Window Size: 480, Output: -0.0012002549111090888\n",
      "Coin: ONDOUSDT, TP: 0.003, SL: -0.002, Sigma: 2, Window Size: 720, Output: 0.1533578506526967\n",
      "Coin: ONDOUSDT, TP: 0.003, SL: -0.002, Sigma: 2, Window Size: 960, Output: 0.1287814506611017\n",
      "Coin: ONDOUSDT, TP: 0.003, SL: -0.002, Sigma: 2, Window Size: 1200, Output: 0.06282653775386626\n",
      "Coin: ONDOUSDT, TP: 0.003, SL: -0.002, Sigma: 2, Window Size: 1440, Output: 0.051276978215947566\n",
      "Coin: ONDOUSDT, TP: 0.003, SL: -0.002, Sigma: 3, Window Size: 240, Output: -0.019911497799640854\n",
      "Coin: ONDOUSDT, TP: 0.003, SL: -0.002, Sigma: 3, Window Size: 480, Output: 0.11031692146041827\n",
      "Coin: ONDOUSDT, TP: 0.003, SL: -0.002, Sigma: 3, Window Size: 720, Output: 0.10784702410065172\n",
      "Coin: ONDOUSDT, TP: 0.003, SL: -0.002, Sigma: 3, Window Size: 960, Output: 0.10919248046299967\n",
      "Coin: ONDOUSDT, TP: 0.003, SL: -0.002, Sigma: 3, Window Size: 1200, Output: 0.06971010374420783\n",
      "Coin: ONDOUSDT, TP: 0.003, SL: -0.002, Sigma: 3, Window Size: 1440, Output: 0.08109077852508406\n",
      "Coin: ONDOUSDT, TP: 0.003, SL: -0.002, Sigma: 4, Window Size: 240, Output: -0.031033936744861323\n",
      "Coin: ONDOUSDT, TP: 0.003, SL: -0.002, Sigma: 4, Window Size: 480, Output: 0.016312998778202692\n",
      "Coin: ONDOUSDT, TP: 0.003, SL: -0.002, Sigma: 4, Window Size: 720, Output: 0.02179819611250633\n",
      "Coin: ONDOUSDT, TP: 0.003, SL: -0.002, Sigma: 4, Window Size: 960, Output: 0.05158776682261257\n",
      "Coin: ONDOUSDT, TP: 0.003, SL: -0.002, Sigma: 4, Window Size: 1200, Output: 0.0360017851489306\n",
      "Coin: ONDOUSDT, TP: 0.003, SL: -0.002, Sigma: 4, Window Size: 1440, Output: 0.024393516986559227\n",
      "Coin: ONDOUSDT, TP: 0.003, SL: -0.002, Sigma: 5, Window Size: 240, Output: -0.012802549839492805\n",
      "Coin: ONDOUSDT, TP: 0.003, SL: -0.002, Sigma: 5, Window Size: 480, Output: -0.01170141080177034\n",
      "Coin: ONDOUSDT, TP: 0.003, SL: -0.002, Sigma: 5, Window Size: 720, Output: -0.01358021798476372\n",
      "Coin: ONDOUSDT, TP: 0.003, SL: -0.002, Sigma: 5, Window Size: 960, Output: -0.012508687932187845\n",
      "Coin: ONDOUSDT, TP: 0.003, SL: -0.002, Sigma: 5, Window Size: 1200, Output: -0.020323962587103894\n",
      "Coin: ONDOUSDT, TP: 0.003, SL: -0.002, Sigma: 5, Window Size: 1440, Output: 0.021578212118953388\n",
      "Coin: ONDOUSDT, TP: 0.003, SL: -0.003, Sigma: 2, Window Size: 240, Output: 0.02953266552632905\n",
      "Coin: ONDOUSDT, TP: 0.003, SL: -0.003, Sigma: 2, Window Size: 480, Output: -0.03405736358394296\n",
      "Coin: ONDOUSDT, TP: 0.003, SL: -0.003, Sigma: 2, Window Size: 720, Output: 0.14529000564881622\n",
      "Coin: ONDOUSDT, TP: 0.003, SL: -0.003, Sigma: 2, Window Size: 960, Output: 0.14241216449512972\n",
      "Coin: ONDOUSDT, TP: 0.003, SL: -0.003, Sigma: 2, Window Size: 1200, Output: 0.04076146750692444\n",
      "Coin: ONDOUSDT, TP: 0.003, SL: -0.003, Sigma: 2, Window Size: 1440, Output: 0.0648278973194899\n",
      "Coin: ONDOUSDT, TP: 0.003, SL: -0.003, Sigma: 3, Window Size: 240, Output: 0.014712931040930188\n",
      "Coin: ONDOUSDT, TP: 0.003, SL: -0.003, Sigma: 3, Window Size: 480, Output: 0.1023068058019293\n",
      "Coin: ONDOUSDT, TP: 0.003, SL: -0.003, Sigma: 3, Window Size: 720, Output: 0.09742376002149289\n",
      "Coin: ONDOUSDT, TP: 0.003, SL: -0.003, Sigma: 3, Window Size: 960, Output: 0.09767262461064108\n",
      "Coin: ONDOUSDT, TP: 0.003, SL: -0.003, Sigma: 3, Window Size: 1200, Output: 0.062084260731564256\n",
      "Coin: ONDOUSDT, TP: 0.003, SL: -0.003, Sigma: 3, Window Size: 1440, Output: 0.08370671457639378\n",
      "Coin: ONDOUSDT, TP: 0.003, SL: -0.003, Sigma: 4, Window Size: 240, Output: 0.0022365870735637783\n",
      "Coin: ONDOUSDT, TP: 0.003, SL: -0.003, Sigma: 4, Window Size: 480, Output: 0.03183158457504198\n",
      "Coin: ONDOUSDT, TP: 0.003, SL: -0.003, Sigma: 4, Window Size: 720, Output: 0.038637378310217296\n",
      "Coin: ONDOUSDT, TP: 0.003, SL: -0.003, Sigma: 4, Window Size: 960, Output: 0.025065928125301618\n",
      "Coin: ONDOUSDT, TP: 0.003, SL: -0.003, Sigma: 4, Window Size: 1200, Output: 0.035050956609180894\n",
      "Coin: ONDOUSDT, TP: 0.003, SL: -0.003, Sigma: 4, Window Size: 1440, Output: 0.022247945316582474\n",
      "Coin: ONDOUSDT, TP: 0.003, SL: -0.003, Sigma: 5, Window Size: 240, Output: -0.00038611940077704077\n",
      "Coin: ONDOUSDT, TP: 0.003, SL: -0.003, Sigma: 5, Window Size: 480, Output: -0.0046455550635723375\n",
      "Coin: ONDOUSDT, TP: 0.003, SL: -0.003, Sigma: 5, Window Size: 720, Output: -0.00508136080356425\n",
      "Coin: ONDOUSDT, TP: 0.003, SL: -0.003, Sigma: 5, Window Size: 960, Output: -0.001904101709603534\n",
      "Coin: ONDOUSDT, TP: 0.003, SL: -0.003, Sigma: 5, Window Size: 1200, Output: -0.009719376364519583\n",
      "Coin: ONDOUSDT, TP: 0.003, SL: -0.003, Sigma: 5, Window Size: 1440, Output: -0.009478966738856953\n",
      "Coin: ONDOUSDT, TP: 0.003, SL: -0.005, Sigma: 2, Window Size: 240, Output: 0.09225447264119957\n",
      "Coin: ONDOUSDT, TP: 0.003, SL: -0.005, Sigma: 2, Window Size: 480, Output: 0.023967639903490268\n",
      "Coin: ONDOUSDT, TP: 0.003, SL: -0.005, Sigma: 2, Window Size: 720, Output: 0.17167529455361485\n",
      "Coin: ONDOUSDT, TP: 0.003, SL: -0.005, Sigma: 2, Window Size: 960, Output: 0.12535883887689192\n",
      "Coin: ONDOUSDT, TP: 0.003, SL: -0.005, Sigma: 2, Window Size: 1200, Output: 0.1135387017651931\n",
      "Coin: ONDOUSDT, TP: 0.003, SL: -0.005, Sigma: 2, Window Size: 1440, Output: 0.12548318870068542\n",
      "Coin: ONDOUSDT, TP: 0.003, SL: -0.005, Sigma: 3, Window Size: 240, Output: 0.08051543491996238\n",
      "Coin: ONDOUSDT, TP: 0.003, SL: -0.005, Sigma: 3, Window Size: 480, Output: 0.17844197210931823\n",
      "Coin: ONDOUSDT, TP: 0.003, SL: -0.005, Sigma: 3, Window Size: 720, Output: 0.18132478020021836\n",
      "Coin: ONDOUSDT, TP: 0.003, SL: -0.005, Sigma: 3, Window Size: 960, Output: 0.19191204367208137\n",
      "Coin: ONDOUSDT, TP: 0.003, SL: -0.005, Sigma: 3, Window Size: 1200, Output: 0.09140873170151786\n",
      "Coin: ONDOUSDT, TP: 0.003, SL: -0.005, Sigma: 3, Window Size: 1440, Output: 0.1262294054699833\n",
      "Coin: ONDOUSDT, TP: 0.003, SL: -0.005, Sigma: 4, Window Size: 240, Output: 0.06861905646792221\n",
      "Coin: ONDOUSDT, TP: 0.003, SL: -0.005, Sigma: 4, Window Size: 480, Output: 0.060557249056615525\n",
      "Coin: ONDOUSDT, TP: 0.003, SL: -0.005, Sigma: 4, Window Size: 720, Output: 0.06655877550392553\n",
      "Coin: ONDOUSDT, TP: 0.003, SL: -0.005, Sigma: 4, Window Size: 960, Output: 0.060657622708046866\n",
      "Coin: ONDOUSDT, TP: 0.003, SL: -0.005, Sigma: 4, Window Size: 1200, Output: 0.06342553007619045\n",
      "Coin: ONDOUSDT, TP: 0.003, SL: -0.005, Sigma: 4, Window Size: 1440, Output: 0.04653981024061982\n",
      "Coin: ONDOUSDT, TP: 0.003, SL: -0.005, Sigma: 5, Window Size: 240, Output: 0.015629629482028506\n",
      "Coin: ONDOUSDT, TP: 0.003, SL: -0.005, Sigma: 5, Window Size: 480, Output: 0.009792960162301023\n",
      "Coin: ONDOUSDT, TP: 0.003, SL: -0.005, Sigma: 5, Window Size: 720, Output: 0.016439592329016484\n",
      "Coin: ONDOUSDT, TP: 0.003, SL: -0.005, Sigma: 5, Window Size: 960, Output: 0.018423079944747678\n",
      "Coin: ONDOUSDT, TP: 0.003, SL: -0.005, Sigma: 5, Window Size: 1200, Output: 0.009081413558268525\n",
      "Coin: ONDOUSDT, TP: 0.003, SL: -0.005, Sigma: 5, Window Size: 1440, Output: 0.010848214915494259\n",
      "Coin: ONDOUSDT, TP: 0.003, SL: -0.01, Sigma: 2, Window Size: 240, Output: 0.10855494562207535\n",
      "Coin: ONDOUSDT, TP: 0.003, SL: -0.01, Sigma: 2, Window Size: 480, Output: 0.05060021696350214\n",
      "Coin: ONDOUSDT, TP: 0.003, SL: -0.01, Sigma: 2, Window Size: 720, Output: 0.13323443284187797\n",
      "Coin: ONDOUSDT, TP: 0.003, SL: -0.01, Sigma: 2, Window Size: 960, Output: 0.04224338525340432\n",
      "Coin: ONDOUSDT, TP: 0.003, SL: -0.01, Sigma: 2, Window Size: 1200, Output: 0.022802945710501787\n",
      "Coin: ONDOUSDT, TP: 0.003, SL: -0.01, Sigma: 2, Window Size: 1440, Output: 0.0710961165092362\n",
      "Coin: ONDOUSDT, TP: 0.003, SL: -0.01, Sigma: 3, Window Size: 240, Output: 0.055376014892837055\n",
      "Coin: ONDOUSDT, TP: 0.003, SL: -0.01, Sigma: 3, Window Size: 480, Output: 0.19373016205999327\n",
      "Coin: ONDOUSDT, TP: 0.003, SL: -0.01, Sigma: 3, Window Size: 720, Output: 0.14934049801953386\n",
      "Coin: ONDOUSDT, TP: 0.003, SL: -0.01, Sigma: 3, Window Size: 960, Output: 0.22588445388946476\n",
      "Coin: ONDOUSDT, TP: 0.003, SL: -0.01, Sigma: 3, Window Size: 1200, Output: 0.10936830682485499\n",
      "Coin: ONDOUSDT, TP: 0.003, SL: -0.01, Sigma: 3, Window Size: 1440, Output: 0.15668090338926488\n",
      "Coin: ONDOUSDT, TP: 0.003, SL: -0.01, Sigma: 4, Window Size: 240, Output: 0.06892618288523289\n",
      "Coin: ONDOUSDT, TP: 0.003, SL: -0.01, Sigma: 4, Window Size: 480, Output: 0.05290712429997335\n",
      "Coin: ONDOUSDT, TP: 0.003, SL: -0.01, Sigma: 4, Window Size: 720, Output: 0.06081177151524675\n",
      "Coin: ONDOUSDT, TP: 0.003, SL: -0.01, Sigma: 4, Window Size: 960, Output: 0.050895049468259845\n",
      "Coin: ONDOUSDT, TP: 0.003, SL: -0.01, Sigma: 4, Window Size: 1200, Output: 0.057987500963534444\n",
      "Coin: ONDOUSDT, TP: 0.003, SL: -0.01, Sigma: 4, Window Size: 1440, Output: 0.06183802972017838\n",
      "Coin: ONDOUSDT, TP: 0.003, SL: -0.01, Sigma: 5, Window Size: 240, Output: 0.020650030793142093\n",
      "Coin: ONDOUSDT, TP: 0.003, SL: -0.01, Sigma: 5, Window Size: 480, Output: 0.028275665167061814\n",
      "Coin: ONDOUSDT, TP: 0.003, SL: -0.01, Sigma: 5, Window Size: 720, Output: 0.0100307184293833\n",
      "Coin: ONDOUSDT, TP: 0.003, SL: -0.01, Sigma: 5, Window Size: 960, Output: 0.022592201826515\n",
      "Coin: ONDOUSDT, TP: 0.003, SL: -0.01, Sigma: 5, Window Size: 1200, Output: -0.003092126329835354\n",
      "Coin: ONDOUSDT, TP: 0.003, SL: -0.01, Sigma: 5, Window Size: 1440, Output: 0.026284483067622766\n",
      "Coin: ONDOUSDT, TP: 0.003, SL: -0.02, Sigma: 2, Window Size: 240, Output: 0.039086514892948565\n",
      "Coin: ONDOUSDT, TP: 0.003, SL: -0.02, Sigma: 2, Window Size: 480, Output: 0.01638069419393884\n",
      "Coin: ONDOUSDT, TP: 0.003, SL: -0.02, Sigma: 2, Window Size: 720, Output: 0.12277439337916096\n",
      "Coin: ONDOUSDT, TP: 0.003, SL: -0.02, Sigma: 2, Window Size: 960, Output: -0.008761414640556353\n",
      "Coin: ONDOUSDT, TP: 0.003, SL: -0.02, Sigma: 2, Window Size: 1200, Output: -0.08602217326922068\n",
      "Coin: ONDOUSDT, TP: 0.003, SL: -0.02, Sigma: 2, Window Size: 1440, Output: -0.15095115349158872\n",
      "Coin: ONDOUSDT, TP: 0.003, SL: -0.02, Sigma: 3, Window Size: 240, Output: 0.0893171421442085\n",
      "Coin: ONDOUSDT, TP: 0.003, SL: -0.02, Sigma: 3, Window Size: 480, Output: 0.2578056859054775\n",
      "Coin: ONDOUSDT, TP: 0.003, SL: -0.02, Sigma: 3, Window Size: 720, Output: 0.11467692992460354\n",
      "Coin: ONDOUSDT, TP: 0.003, SL: -0.02, Sigma: 3, Window Size: 960, Output: 0.21162704217513428\n",
      "Coin: ONDOUSDT, TP: 0.003, SL: -0.02, Sigma: 3, Window Size: 1200, Output: 0.04324181754386103\n",
      "Coin: ONDOUSDT, TP: 0.003, SL: -0.02, Sigma: 3, Window Size: 1440, Output: 0.12445004662707004\n",
      "Coin: ONDOUSDT, TP: 0.003, SL: -0.02, Sigma: 4, Window Size: 240, Output: 0.1482225438781799\n",
      "Coin: ONDOUSDT, TP: 0.003, SL: -0.02, Sigma: 4, Window Size: 480, Output: 0.11137366787466618\n",
      "Coin: ONDOUSDT, TP: 0.003, SL: -0.02, Sigma: 4, Window Size: 720, Output: 0.13946859512614662\n",
      "Coin: ONDOUSDT, TP: 0.003, SL: -0.02, Sigma: 4, Window Size: 960, Output: 0.08885926329891347\n",
      "Coin: ONDOUSDT, TP: 0.003, SL: -0.02, Sigma: 4, Window Size: 1200, Output: 0.07997411625661055\n",
      "Coin: ONDOUSDT, TP: 0.003, SL: -0.02, Sigma: 4, Window Size: 1440, Output: 0.05685755063510023\n",
      "Coin: ONDOUSDT, TP: 0.003, SL: -0.02, Sigma: 5, Window Size: 240, Output: 0.027864664181148524\n",
      "Coin: ONDOUSDT, TP: 0.003, SL: -0.02, Sigma: 5, Window Size: 480, Output: 0.03605213482634084\n",
      "Coin: ONDOUSDT, TP: 0.003, SL: -0.02, Sigma: 5, Window Size: 720, Output: 0.032607313748071465\n",
      "Coin: ONDOUSDT, TP: 0.003, SL: -0.02, Sigma: 5, Window Size: 960, Output: 0.045168797145203166\n",
      "Coin: ONDOUSDT, TP: 0.003, SL: -0.02, Sigma: 5, Window Size: 1200, Output: 0.03705205164199066\n",
      "Coin: ONDOUSDT, TP: 0.003, SL: -0.02, Sigma: 5, Window Size: 1440, Output: 0.04886107838631093\n",
      "Coin: ONDOUSDT, TP: 0.005, SL: -0.002, Sigma: 2, Window Size: 240, Output: 0.01765290546256737\n",
      "Coin: ONDOUSDT, TP: 0.005, SL: -0.002, Sigma: 2, Window Size: 480, Output: 0.02536174160040572\n",
      "Coin: ONDOUSDT, TP: 0.005, SL: -0.002, Sigma: 2, Window Size: 720, Output: 0.19205023148635236\n",
      "Coin: ONDOUSDT, TP: 0.005, SL: -0.002, Sigma: 2, Window Size: 960, Output: 0.17833564532762303\n",
      "Coin: ONDOUSDT, TP: 0.005, SL: -0.002, Sigma: 2, Window Size: 1200, Output: 0.13669724398285954\n",
      "Coin: ONDOUSDT, TP: 0.005, SL: -0.002, Sigma: 2, Window Size: 1440, Output: 0.08073431996528291\n",
      "Coin: ONDOUSDT, TP: 0.005, SL: -0.002, Sigma: 3, Window Size: 240, Output: 0.0061636363929536975\n",
      "Coin: ONDOUSDT, TP: 0.005, SL: -0.002, Sigma: 3, Window Size: 480, Output: 0.12479935818838661\n",
      "Coin: ONDOUSDT, TP: 0.005, SL: -0.002, Sigma: 3, Window Size: 720, Output: 0.13907516156902822\n",
      "Coin: ONDOUSDT, TP: 0.005, SL: -0.002, Sigma: 3, Window Size: 960, Output: 0.13168131414315498\n",
      "Coin: ONDOUSDT, TP: 0.005, SL: -0.002, Sigma: 3, Window Size: 1200, Output: 0.11005101823149255\n",
      "Coin: ONDOUSDT, TP: 0.005, SL: -0.002, Sigma: 3, Window Size: 1440, Output: 0.11555103324254479\n",
      "Coin: ONDOUSDT, TP: 0.005, SL: -0.002, Sigma: 4, Window Size: 240, Output: -0.0012425444625205895\n",
      "Coin: ONDOUSDT, TP: 0.005, SL: -0.002, Sigma: 4, Window Size: 480, Output: 0.07409246940869696\n",
      "Coin: ONDOUSDT, TP: 0.005, SL: -0.002, Sigma: 4, Window Size: 720, Output: 0.07719740881941872\n",
      "Coin: ONDOUSDT, TP: 0.005, SL: -0.002, Sigma: 4, Window Size: 960, Output: 0.11249200585791164\n",
      "Coin: ONDOUSDT, TP: 0.005, SL: -0.002, Sigma: 4, Window Size: 1200, Output: 0.08700375033682772\n",
      "Coin: ONDOUSDT, TP: 0.005, SL: -0.002, Sigma: 4, Window Size: 1440, Output: 0.07227973774671614\n",
      "Coin: ONDOUSDT, TP: 0.005, SL: -0.002, Sigma: 5, Window Size: 240, Output: 0.009765099259981036\n",
      "Coin: ONDOUSDT, TP: 0.005, SL: -0.002, Sigma: 5, Window Size: 480, Output: 0.019820802583668806\n",
      "Coin: ONDOUSDT, TP: 0.005, SL: -0.002, Sigma: 5, Window Size: 720, Output: 0.02170827366963335\n",
      "Coin: ONDOUSDT, TP: 0.005, SL: -0.002, Sigma: 5, Window Size: 960, Output: 0.022779803722209224\n",
      "Coin: ONDOUSDT, TP: 0.005, SL: -0.002, Sigma: 5, Window Size: 1200, Output: 0.009186882160287957\n",
      "Coin: ONDOUSDT, TP: 0.005, SL: -0.002, Sigma: 5, Window Size: 1440, Output: 0.05425847995491184\n",
      "Coin: ONDOUSDT, TP: 0.005, SL: -0.003, Sigma: 2, Window Size: 240, Output: 0.05798702414700374\n",
      "Coin: ONDOUSDT, TP: 0.005, SL: -0.003, Sigma: 2, Window Size: 480, Output: 0.021225247346204013\n",
      "Coin: ONDOUSDT, TP: 0.005, SL: -0.003, Sigma: 2, Window Size: 720, Output: 0.1991521170124526\n",
      "Coin: ONDOUSDT, TP: 0.005, SL: -0.003, Sigma: 2, Window Size: 960, Output: 0.21109049994117113\n",
      "Coin: ONDOUSDT, TP: 0.005, SL: -0.003, Sigma: 2, Window Size: 1200, Output: 0.1493344474497097\n",
      "Coin: ONDOUSDT, TP: 0.005, SL: -0.003, Sigma: 2, Window Size: 1440, Output: 0.08564400645761883\n",
      "Coin: ONDOUSDT, TP: 0.005, SL: -0.003, Sigma: 3, Window Size: 240, Output: 0.05219037598915721\n",
      "Coin: ONDOUSDT, TP: 0.005, SL: -0.003, Sigma: 3, Window Size: 480, Output: 0.13020629739161393\n",
      "Coin: ONDOUSDT, TP: 0.005, SL: -0.003, Sigma: 3, Window Size: 720, Output: 0.12860219905927517\n",
      "Coin: ONDOUSDT, TP: 0.005, SL: -0.003, Sigma: 3, Window Size: 960, Output: 0.13465598278878332\n",
      "Coin: ONDOUSDT, TP: 0.005, SL: -0.003, Sigma: 3, Window Size: 1200, Output: 0.11691969971683591\n",
      "Coin: ONDOUSDT, TP: 0.005, SL: -0.003, Sigma: 3, Window Size: 1440, Output: 0.1195806952910563\n",
      "Coin: ONDOUSDT, TP: 0.005, SL: -0.003, Sigma: 4, Window Size: 240, Output: 0.0514222343245172\n",
      "Coin: ONDOUSDT, TP: 0.005, SL: -0.003, Sigma: 4, Window Size: 480, Output: 0.09020364283323157\n",
      "Coin: ONDOUSDT, TP: 0.005, SL: -0.003, Sigma: 4, Window Size: 720, Output: 0.09462917864482501\n",
      "Coin: ONDOUSDT, TP: 0.005, SL: -0.003, Sigma: 4, Window Size: 960, Output: 0.086562754788296\n",
      "Coin: ONDOUSDT, TP: 0.005, SL: -0.003, Sigma: 4, Window Size: 1200, Output: 0.08664550942477334\n",
      "Coin: ONDOUSDT, TP: 0.005, SL: -0.003, Sigma: 4, Window Size: 1440, Output: 0.07072675370443471\n",
      "Coin: ONDOUSDT, TP: 0.005, SL: -0.003, Sigma: 5, Window Size: 240, Output: 0.036240870618702625\n",
      "Coin: ONDOUSDT, TP: 0.005, SL: -0.003, Sigma: 5, Window Size: 480, Output: 0.02687665832186681\n",
      "Coin: ONDOUSDT, TP: 0.005, SL: -0.003, Sigma: 5, Window Size: 720, Output: 0.03020713085083282\n",
      "Coin: ONDOUSDT, TP: 0.005, SL: -0.003, Sigma: 5, Window Size: 960, Output: 0.033384389944793535\n",
      "Coin: ONDOUSDT, TP: 0.005, SL: -0.003, Sigma: 5, Window Size: 1200, Output: 0.019791468382872268\n",
      "Coin: ONDOUSDT, TP: 0.005, SL: -0.003, Sigma: 5, Window Size: 1440, Output: 0.0232013010971015\n",
      "Coin: ONDOUSDT, TP: 0.005, SL: -0.005, Sigma: 2, Window Size: 240, Output: 0.10119149313179421\n",
      "Coin: ONDOUSDT, TP: 0.005, SL: -0.005, Sigma: 2, Window Size: 480, Output: 0.07612291407139937\n",
      "Coin: ONDOUSDT, TP: 0.005, SL: -0.005, Sigma: 2, Window Size: 720, Output: 0.22668143076382097\n",
      "Coin: ONDOUSDT, TP: 0.005, SL: -0.005, Sigma: 2, Window Size: 960, Output: 0.1885020119613825\n",
      "Coin: ONDOUSDT, TP: 0.005, SL: -0.005, Sigma: 2, Window Size: 1200, Output: 0.2422735419531331\n",
      "Coin: ONDOUSDT, TP: 0.005, SL: -0.005, Sigma: 2, Window Size: 1440, Output: 0.16208504555064251\n",
      "Coin: ONDOUSDT, TP: 0.005, SL: -0.005, Sigma: 3, Window Size: 240, Output: 0.1473395271210476\n",
      "Coin: ONDOUSDT, TP: 0.005, SL: -0.005, Sigma: 3, Window Size: 480, Output: 0.19600435338233824\n",
      "Coin: ONDOUSDT, TP: 0.005, SL: -0.005, Sigma: 3, Window Size: 720, Output: 0.22139966150332402\n",
      "Coin: ONDOUSDT, TP: 0.005, SL: -0.005, Sigma: 3, Window Size: 960, Output: 0.23986113963046118\n",
      "Coin: ONDOUSDT, TP: 0.005, SL: -0.005, Sigma: 3, Window Size: 1200, Output: 0.13874761378324962\n",
      "Coin: ONDOUSDT, TP: 0.005, SL: -0.005, Sigma: 3, Window Size: 1440, Output: 0.15584912087894742\n",
      "Coin: ONDOUSDT, TP: 0.005, SL: -0.005, Sigma: 4, Window Size: 240, Output: 0.12452112644346836\n",
      "Coin: ONDOUSDT, TP: 0.005, SL: -0.005, Sigma: 4, Window Size: 480, Output: 0.12036505749427395\n",
      "Coin: ONDOUSDT, TP: 0.005, SL: -0.005, Sigma: 4, Window Size: 720, Output: 0.12398632601800208\n",
      "Coin: ONDOUSDT, TP: 0.005, SL: -0.005, Sigma: 4, Window Size: 960, Output: 0.12511810452980943\n",
      "Coin: ONDOUSDT, TP: 0.005, SL: -0.005, Sigma: 4, Window Size: 1200, Output: 0.11654798787108223\n",
      "Coin: ONDOUSDT, TP: 0.005, SL: -0.005, Sigma: 4, Window Size: 1440, Output: 0.09654652360777138\n",
      "Coin: ONDOUSDT, TP: 0.005, SL: -0.005, Sigma: 5, Window Size: 240, Output: 0.05225661950150817\n",
      "Coin: ONDOUSDT, TP: 0.005, SL: -0.005, Sigma: 5, Window Size: 480, Output: 0.04131517354774017\n",
      "Coin: ONDOUSDT, TP: 0.005, SL: -0.005, Sigma: 5, Window Size: 720, Output: 0.05172808398341355\n",
      "Coin: ONDOUSDT, TP: 0.005, SL: -0.005, Sigma: 5, Window Size: 960, Output: 0.05371157159914475\n",
      "Coin: ONDOUSDT, TP: 0.005, SL: -0.005, Sigma: 5, Window Size: 1200, Output: 0.038592258305660376\n",
      "Coin: ONDOUSDT, TP: 0.005, SL: -0.005, Sigma: 5, Window Size: 1440, Output: 0.04352848275145271\n",
      "Coin: ONDOUSDT, TP: 0.005, SL: -0.01, Sigma: 2, Window Size: 240, Output: 0.22652895323816324\n",
      "Coin: ONDOUSDT, TP: 0.005, SL: -0.01, Sigma: 2, Window Size: 480, Output: 0.24473309462207748\n",
      "Coin: ONDOUSDT, TP: 0.005, SL: -0.01, Sigma: 2, Window Size: 720, Output: 0.25578056189706777\n",
      "Coin: ONDOUSDT, TP: 0.005, SL: -0.01, Sigma: 2, Window Size: 960, Output: 0.20018697013406805\n",
      "Coin: ONDOUSDT, TP: 0.005, SL: -0.01, Sigma: 2, Window Size: 1200, Output: 0.22821062693264926\n",
      "Coin: ONDOUSDT, TP: 0.005, SL: -0.01, Sigma: 2, Window Size: 1440, Output: 0.20335701969601816\n",
      "Coin: ONDOUSDT, TP: 0.005, SL: -0.01, Sigma: 3, Window Size: 240, Output: 0.12914164842840226\n",
      "Coin: ONDOUSDT, TP: 0.005, SL: -0.01, Sigma: 3, Window Size: 480, Output: 0.26345142489847473\n",
      "Coin: ONDOUSDT, TP: 0.005, SL: -0.01, Sigma: 3, Window Size: 720, Output: 0.25156326039079746\n",
      "Coin: ONDOUSDT, TP: 0.005, SL: -0.01, Sigma: 3, Window Size: 960, Output: 0.29109294981186873\n",
      "Coin: ONDOUSDT, TP: 0.005, SL: -0.01, Sigma: 3, Window Size: 1200, Output: 0.190615038233933\n",
      "Coin: ONDOUSDT, TP: 0.005, SL: -0.01, Sigma: 3, Window Size: 1440, Output: 0.18355961080817274\n",
      "Coin: ONDOUSDT, TP: 0.005, SL: -0.01, Sigma: 4, Window Size: 240, Output: 0.11950346943127055\n",
      "Coin: ONDOUSDT, TP: 0.005, SL: -0.01, Sigma: 4, Window Size: 480, Output: 0.1033832158011575\n",
      "Coin: ONDOUSDT, TP: 0.005, SL: -0.01, Sigma: 4, Window Size: 720, Output: 0.09976078045182091\n",
      "Coin: ONDOUSDT, TP: 0.005, SL: -0.01, Sigma: 4, Window Size: 960, Output: 0.10315282970847861\n",
      "Coin: ONDOUSDT, TP: 0.005, SL: -0.01, Sigma: 4, Window Size: 1200, Output: 0.10802367423113912\n",
      "Coin: ONDOUSDT, TP: 0.005, SL: -0.01, Sigma: 4, Window Size: 1440, Output: 0.11246597680891535\n",
      "Coin: ONDOUSDT, TP: 0.005, SL: -0.01, Sigma: 5, Window Size: 240, Output: 0.06014800545769128\n",
      "Coin: ONDOUSDT, TP: 0.005, SL: -0.01, Sigma: 5, Window Size: 480, Output: 0.044190321620068085\n",
      "Coin: ONDOUSDT, TP: 0.005, SL: -0.01, Sigma: 5, Window Size: 720, Output: 0.04531921008378037\n",
      "Coin: ONDOUSDT, TP: 0.005, SL: -0.01, Sigma: 5, Window Size: 960, Output: 0.03940215190340968\n",
      "Coin: ONDOUSDT, TP: 0.005, SL: -0.01, Sigma: 5, Window Size: 1200, Output: 0.026418718417556497\n",
      "Coin: ONDOUSDT, TP: 0.005, SL: -0.01, Sigma: 5, Window Size: 1440, Output: 0.040486209326078826\n",
      "Coin: ONDOUSDT, TP: 0.005, SL: -0.02, Sigma: 2, Window Size: 240, Output: 0.14019541701272475\n",
      "Coin: ONDOUSDT, TP: 0.005, SL: -0.02, Sigma: 2, Window Size: 480, Output: 0.19298930956987526\n",
      "Coin: ONDOUSDT, TP: 0.005, SL: -0.02, Sigma: 2, Window Size: 720, Output: 0.29374451564214565\n",
      "Coin: ONDOUSDT, TP: 0.005, SL: -0.02, Sigma: 2, Window Size: 960, Output: 0.13533765221941751\n",
      "Coin: ONDOUSDT, TP: 0.005, SL: -0.02, Sigma: 2, Window Size: 1200, Output: 0.1280137459023607\n",
      "Coin: ONDOUSDT, TP: 0.005, SL: -0.02, Sigma: 2, Window Size: 1440, Output: 0.08101044521490197\n",
      "Coin: ONDOUSDT, TP: 0.005, SL: -0.02, Sigma: 3, Window Size: 240, Output: 0.17783292291548336\n",
      "Coin: ONDOUSDT, TP: 0.005, SL: -0.02, Sigma: 3, Window Size: 480, Output: 0.3416331212859557\n",
      "Coin: ONDOUSDT, TP: 0.005, SL: -0.02, Sigma: 3, Window Size: 720, Output: 0.22919771836856517\n",
      "Coin: ONDOUSDT, TP: 0.005, SL: -0.02, Sigma: 3, Window Size: 960, Output: 0.29746196536769154\n",
      "Coin: ONDOUSDT, TP: 0.005, SL: -0.02, Sigma: 3, Window Size: 1200, Output: 0.1541462949335638\n",
      "Coin: ONDOUSDT, TP: 0.005, SL: -0.02, Sigma: 3, Window Size: 1440, Output: 0.26861852762336924\n",
      "Coin: ONDOUSDT, TP: 0.005, SL: -0.02, Sigma: 4, Window Size: 240, Output: 0.23810236866891354\n",
      "Coin: ONDOUSDT, TP: 0.005, SL: -0.02, Sigma: 4, Window Size: 480, Output: 0.200781391149494\n",
      "Coin: ONDOUSDT, TP: 0.005, SL: -0.02, Sigma: 4, Window Size: 720, Output: 0.2083075535484442\n",
      "Coin: ONDOUSDT, TP: 0.005, SL: -0.02, Sigma: 4, Window Size: 960, Output: 0.1793256095137883\n",
      "Coin: ONDOUSDT, TP: 0.005, SL: -0.02, Sigma: 4, Window Size: 1200, Output: 0.14333852694160365\n",
      "Coin: ONDOUSDT, TP: 0.005, SL: -0.02, Sigma: 4, Window Size: 1440, Output: 0.12081373514122562\n",
      "Coin: ONDOUSDT, TP: 0.005, SL: -0.02, Sigma: 5, Window Size: 240, Output: 0.0736495080028321\n",
      "Coin: ONDOUSDT, TP: 0.005, SL: -0.02, Sigma: 5, Window Size: 480, Output: 0.07791676147535509\n",
      "Coin: ONDOUSDT, TP: 0.005, SL: -0.02, Sigma: 5, Window Size: 720, Output: 0.07381176808855061\n",
      "Coin: ONDOUSDT, TP: 0.005, SL: -0.02, Sigma: 5, Window Size: 960, Output: 0.08792871741810582\n",
      "Coin: ONDOUSDT, TP: 0.005, SL: -0.02, Sigma: 5, Window Size: 1200, Output: 0.07247885907546459\n",
      "Coin: ONDOUSDT, TP: 0.005, SL: -0.02, Sigma: 5, Window Size: 1440, Output: 0.08901277484077497\n",
      "Coin: ONDOUSDT, TP: 0.01, SL: -0.002, Sigma: 2, Window Size: 240, Output: 0.10229018852762894\n",
      "Coin: ONDOUSDT, TP: 0.01, SL: -0.002, Sigma: 2, Window Size: 480, Output: 0.04692662246127621\n",
      "Coin: ONDOUSDT, TP: 0.01, SL: -0.002, Sigma: 2, Window Size: 720, Output: 0.11380944116293723\n",
      "Coin: ONDOUSDT, TP: 0.01, SL: -0.002, Sigma: 2, Window Size: 960, Output: 0.1174285752430888\n",
      "Coin: ONDOUSDT, TP: 0.01, SL: -0.002, Sigma: 2, Window Size: 1200, Output: 0.036291735739938935\n",
      "Coin: ONDOUSDT, TP: 0.01, SL: -0.002, Sigma: 2, Window Size: 1440, Output: 0.06353778037405478\n",
      "Coin: ONDOUSDT, TP: 0.01, SL: -0.002, Sigma: 3, Window Size: 240, Output: -0.02785922831189147\n",
      "Coin: ONDOUSDT, TP: 0.01, SL: -0.002, Sigma: 3, Window Size: 480, Output: 0.1387648627984046\n",
      "Coin: ONDOUSDT, TP: 0.01, SL: -0.002, Sigma: 3, Window Size: 720, Output: 0.15011166186517644\n",
      "Coin: ONDOUSDT, TP: 0.01, SL: -0.002, Sigma: 3, Window Size: 960, Output: 0.13375872471765982\n",
      "Coin: ONDOUSDT, TP: 0.01, SL: -0.002, Sigma: 3, Window Size: 1200, Output: 0.13925428390703554\n",
      "Coin: ONDOUSDT, TP: 0.01, SL: -0.002, Sigma: 3, Window Size: 1440, Output: 0.10263242262268679\n",
      "Coin: ONDOUSDT, TP: 0.01, SL: -0.002, Sigma: 4, Window Size: 240, Output: -0.05704567012601203\n",
      "Coin: ONDOUSDT, TP: 0.01, SL: -0.002, Sigma: 4, Window Size: 480, Output: 0.016513269454335178\n",
      "Coin: ONDOUSDT, TP: 0.01, SL: -0.002, Sigma: 4, Window Size: 720, Output: 0.02203607305386046\n",
      "Coin: ONDOUSDT, TP: 0.01, SL: -0.002, Sigma: 4, Window Size: 960, Output: 0.06488354018298781\n",
      "Coin: ONDOUSDT, TP: 0.01, SL: -0.002, Sigma: 4, Window Size: 1200, Output: 0.054011486686619814\n",
      "Coin: ONDOUSDT, TP: 0.01, SL: -0.002, Sigma: 4, Window Size: 1440, Output: 0.022135488004971116\n",
      "Coin: ONDOUSDT, TP: 0.01, SL: -0.002, Sigma: 5, Window Size: 240, Output: -0.010190749398687582\n",
      "Coin: ONDOUSDT, TP: 0.01, SL: -0.002, Sigma: 5, Window Size: 480, Output: -0.025677020021744434\n",
      "Coin: ONDOUSDT, TP: 0.01, SL: -0.002, Sigma: 5, Window Size: 720, Output: -0.012257665092694214\n",
      "Coin: ONDOUSDT, TP: 0.01, SL: -0.002, Sigma: 5, Window Size: 960, Output: -0.021654454599346895\n",
      "Coin: ONDOUSDT, TP: 0.01, SL: -0.002, Sigma: 5, Window Size: 1200, Output: -0.03672255202464003\n",
      "Coin: ONDOUSDT, TP: 0.01, SL: -0.002, Sigma: 5, Window Size: 1440, Output: 0.0074114376416667405\n",
      "Coin: ONDOUSDT, TP: 0.01, SL: -0.003, Sigma: 2, Window Size: 240, Output: 0.21623736703745988\n",
      "Coin: ONDOUSDT, TP: 0.01, SL: -0.003, Sigma: 2, Window Size: 480, Output: 0.05802179385569617\n",
      "Coin: ONDOUSDT, TP: 0.01, SL: -0.003, Sigma: 2, Window Size: 720, Output: 0.1579352688600607\n",
      "Coin: ONDOUSDT, TP: 0.01, SL: -0.003, Sigma: 2, Window Size: 960, Output: 0.15667153773241804\n",
      "Coin: ONDOUSDT, TP: 0.01, SL: -0.003, Sigma: 2, Window Size: 1200, Output: 0.09755341538901252\n",
      "Coin: ONDOUSDT, TP: 0.01, SL: -0.003, Sigma: 2, Window Size: 1440, Output: 0.09922472851998576\n",
      "Coin: ONDOUSDT, TP: 0.01, SL: -0.003, Sigma: 3, Window Size: 240, Output: 0.09759049729493718\n",
      "Coin: ONDOUSDT, TP: 0.01, SL: -0.003, Sigma: 3, Window Size: 480, Output: 0.2183740966312001\n",
      "Coin: ONDOUSDT, TP: 0.01, SL: -0.003, Sigma: 3, Window Size: 720, Output: 0.2112588668387405\n",
      "Coin: ONDOUSDT, TP: 0.01, SL: -0.003, Sigma: 3, Window Size: 960, Output: 0.1785457190417069\n",
      "Coin: ONDOUSDT, TP: 0.01, SL: -0.003, Sigma: 3, Window Size: 1200, Output: 0.18688667816785154\n",
      "Coin: ONDOUSDT, TP: 0.01, SL: -0.003, Sigma: 3, Window Size: 1440, Output: 0.14469765844505844\n",
      "Coin: ONDOUSDT, TP: 0.01, SL: -0.003, Sigma: 4, Window Size: 240, Output: -0.010848042801913982\n",
      "Coin: ONDOUSDT, TP: 0.01, SL: -0.003, Sigma: 4, Window Size: 480, Output: 0.04961060566614672\n",
      "Coin: ONDOUSDT, TP: 0.01, SL: -0.003, Sigma: 4, Window Size: 720, Output: 0.11131460269111881\n",
      "Coin: ONDOUSDT, TP: 0.01, SL: -0.003, Sigma: 4, Window Size: 960, Output: 0.10324817883458981\n",
      "Coin: ONDOUSDT, TP: 0.01, SL: -0.003, Sigma: 4, Window Size: 1200, Output: 0.08988712289840262\n",
      "Coin: ONDOUSDT, TP: 0.01, SL: -0.003, Sigma: 4, Window Size: 1440, Output: 0.05681638108652687\n",
      "Coin: ONDOUSDT, TP: 0.01, SL: -0.003, Sigma: 5, Window Size: 240, Output: 0.011116846568331562\n",
      "Coin: ONDOUSDT, TP: 0.01, SL: -0.003, Sigma: 5, Window Size: 480, Output: -0.029727146567723017\n",
      "Coin: ONDOUSDT, TP: 0.01, SL: -0.003, Sigma: 5, Window Size: 720, Output: -0.01616376626690863\n",
      "Coin: ONDOUSDT, TP: 0.01, SL: -0.003, Sigma: 5, Window Size: 960, Output: 0.0368657907230292\n",
      "Coin: ONDOUSDT, TP: 0.01, SL: -0.003, Sigma: 5, Window Size: 1200, Output: 0.038549637435458695\n",
      "Coin: ONDOUSDT, TP: 0.01, SL: -0.003, Sigma: 5, Window Size: 1440, Output: 0.03346899193073638\n",
      "Coin: ONDOUSDT, TP: 0.01, SL: -0.005, Sigma: 2, Window Size: 240, Output: 0.18568266282855894\n",
      "Coin: ONDOUSDT, TP: 0.01, SL: -0.005, Sigma: 2, Window Size: 480, Output: 0.15167337809590298\n",
      "Coin: ONDOUSDT, TP: 0.01, SL: -0.005, Sigma: 2, Window Size: 720, Output: 0.18856900772159435\n",
      "Coin: ONDOUSDT, TP: 0.01, SL: -0.005, Sigma: 2, Window Size: 960, Output: 0.17652956223414096\n",
      "Coin: ONDOUSDT, TP: 0.01, SL: -0.005, Sigma: 2, Window Size: 1200, Output: 0.10850644507634777\n",
      "Coin: ONDOUSDT, TP: 0.01, SL: -0.005, Sigma: 2, Window Size: 1440, Output: 0.10020523350913135\n",
      "Coin: ONDOUSDT, TP: 0.01, SL: -0.005, Sigma: 3, Window Size: 240, Output: 0.1155268644664511\n",
      "Coin: ONDOUSDT, TP: 0.01, SL: -0.005, Sigma: 3, Window Size: 480, Output: 0.20990843471667997\n",
      "Coin: ONDOUSDT, TP: 0.01, SL: -0.005, Sigma: 3, Window Size: 720, Output: 0.21947658958505423\n",
      "Coin: ONDOUSDT, TP: 0.01, SL: -0.005, Sigma: 3, Window Size: 960, Output: 0.22558747246319533\n",
      "Coin: ONDOUSDT, TP: 0.01, SL: -0.005, Sigma: 3, Window Size: 1200, Output: 0.21963138581997832\n",
      "Coin: ONDOUSDT, TP: 0.01, SL: -0.005, Sigma: 3, Window Size: 1440, Output: 0.21066218893843236\n",
      "Coin: ONDOUSDT, TP: 0.01, SL: -0.005, Sigma: 4, Window Size: 240, Output: 0.10498234561587372\n",
      "Coin: ONDOUSDT, TP: 0.01, SL: -0.005, Sigma: 4, Window Size: 480, Output: 0.06654354308636334\n",
      "Coin: ONDOUSDT, TP: 0.01, SL: -0.005, Sigma: 4, Window Size: 720, Output: 0.1562990469527029\n",
      "Coin: ONDOUSDT, TP: 0.01, SL: -0.005, Sigma: 4, Window Size: 960, Output: 0.1569096001730529\n",
      "Coin: ONDOUSDT, TP: 0.01, SL: -0.005, Sigma: 4, Window Size: 1200, Output: 0.12213969824052529\n",
      "Coin: ONDOUSDT, TP: 0.01, SL: -0.005, Sigma: 4, Window Size: 1440, Output: 0.08103127374512376\n",
      "Coin: ONDOUSDT, TP: 0.01, SL: -0.005, Sigma: 5, Window Size: 240, Output: 0.05987466948939868\n",
      "Coin: ONDOUSDT, TP: 0.01, SL: -0.005, Sigma: 5, Window Size: 480, Output: 0.0032046236772501624\n",
      "Coin: ONDOUSDT, TP: 0.01, SL: -0.005, Sigma: 5, Window Size: 720, Output: 0.031744506486313995\n",
      "Coin: ONDOUSDT, TP: 0.01, SL: -0.005, Sigma: 5, Window Size: 960, Output: 0.061772963798517044\n",
      "Coin: ONDOUSDT, TP: 0.01, SL: -0.005, Sigma: 5, Window Size: 1200, Output: 0.07004202873448606\n",
      "Coin: ONDOUSDT, TP: 0.01, SL: -0.005, Sigma: 5, Window Size: 1440, Output: 0.06376761175153423\n",
      "Coin: ONDOUSDT, TP: 0.01, SL: -0.01, Sigma: 2, Window Size: 240, Output: 0.22806526468082777\n",
      "Coin: ONDOUSDT, TP: 0.01, SL: -0.01, Sigma: 2, Window Size: 480, Output: 0.16444834336186065\n",
      "Coin: ONDOUSDT, TP: 0.01, SL: -0.01, Sigma: 2, Window Size: 720, Output: 0.1334885756734262\n",
      "Coin: ONDOUSDT, TP: 0.01, SL: -0.01, Sigma: 2, Window Size: 960, Output: -0.0051216305242477445\n",
      "Coin: ONDOUSDT, TP: 0.01, SL: -0.01, Sigma: 2, Window Size: 1200, Output: 0.0024122927599128374\n",
      "Coin: ONDOUSDT, TP: 0.01, SL: -0.01, Sigma: 2, Window Size: 1440, Output: 0.035893230796396614\n",
      "Coin: ONDOUSDT, TP: 0.01, SL: -0.01, Sigma: 3, Window Size: 240, Output: 0.11260754524980388\n",
      "Coin: ONDOUSDT, TP: 0.01, SL: -0.01, Sigma: 3, Window Size: 480, Output: 0.3240313977490892\n",
      "Coin: ONDOUSDT, TP: 0.01, SL: -0.01, Sigma: 3, Window Size: 720, Output: 0.28932805437693865\n",
      "Coin: ONDOUSDT, TP: 0.01, SL: -0.01, Sigma: 3, Window Size: 960, Output: 0.29567865870498633\n",
      "Coin: ONDOUSDT, TP: 0.01, SL: -0.01, Sigma: 3, Window Size: 1200, Output: 0.3163208728083512\n",
      "Coin: ONDOUSDT, TP: 0.01, SL: -0.01, Sigma: 3, Window Size: 1440, Output: 0.2588043691163704\n",
      "Coin: ONDOUSDT, TP: 0.01, SL: -0.01, Sigma: 4, Window Size: 240, Output: 0.07126192364610406\n",
      "Coin: ONDOUSDT, TP: 0.01, SL: -0.01, Sigma: 4, Window Size: 480, Output: 0.05289781329605692\n",
      "Coin: ONDOUSDT, TP: 0.01, SL: -0.01, Sigma: 4, Window Size: 720, Output: 0.14020580795758808\n",
      "Coin: ONDOUSDT, TP: 0.01, SL: -0.01, Sigma: 4, Window Size: 960, Output: 0.13958084749074917\n",
      "Coin: ONDOUSDT, TP: 0.01, SL: -0.01, Sigma: 4, Window Size: 1200, Output: 0.12006674037316478\n",
      "Coin: ONDOUSDT, TP: 0.01, SL: -0.01, Sigma: 4, Window Size: 1440, Output: 0.10865638042948822\n",
      "Coin: ONDOUSDT, TP: 0.01, SL: -0.01, Sigma: 5, Window Size: 240, Output: 0.07063262205555643\n",
      "Coin: ONDOUSDT, TP: 0.01, SL: -0.01, Sigma: 5, Window Size: 480, Output: 0.008775645228291218\n",
      "Coin: ONDOUSDT, TP: 0.01, SL: -0.01, Sigma: 5, Window Size: 720, Output: 0.01925095150297118\n",
      "Coin: ONDOUSDT, TP: 0.01, SL: -0.01, Sigma: 5, Window Size: 960, Output: 0.04137886301907234\n",
      "Coin: ONDOUSDT, TP: 0.01, SL: -0.01, Sigma: 5, Window Size: 1200, Output: 0.06717518431395764\n",
      "Coin: ONDOUSDT, TP: 0.01, SL: -0.01, Sigma: 5, Window Size: 1440, Output: 0.07498695996190852\n",
      "Coin: ONDOUSDT, TP: 0.01, SL: -0.02, Sigma: 2, Window Size: 240, Output: 0.1828710036004233\n",
      "Coin: ONDOUSDT, TP: 0.01, SL: -0.02, Sigma: 2, Window Size: 480, Output: 0.2999195764927449\n",
      "Coin: ONDOUSDT, TP: 0.01, SL: -0.02, Sigma: 2, Window Size: 720, Output: 0.48904611562585476\n",
      "Coin: ONDOUSDT, TP: 0.01, SL: -0.02, Sigma: 2, Window Size: 960, Output: 0.2599820481217523\n",
      "Coin: ONDOUSDT, TP: 0.01, SL: -0.02, Sigma: 2, Window Size: 1200, Output: 0.3122491307347389\n",
      "Coin: ONDOUSDT, TP: 0.01, SL: -0.02, Sigma: 2, Window Size: 1440, Output: 0.31674828137674993\n",
      "Coin: ONDOUSDT, TP: 0.01, SL: -0.02, Sigma: 3, Window Size: 240, Output: 0.08325793217034294\n",
      "Coin: ONDOUSDT, TP: 0.01, SL: -0.02, Sigma: 3, Window Size: 480, Output: 0.42544858181406153\n",
      "Coin: ONDOUSDT, TP: 0.01, SL: -0.02, Sigma: 3, Window Size: 720, Output: 0.28995127944099863\n",
      "Coin: ONDOUSDT, TP: 0.01, SL: -0.02, Sigma: 3, Window Size: 960, Output: 0.33469344793732925\n",
      "Coin: ONDOUSDT, TP: 0.01, SL: -0.02, Sigma: 3, Window Size: 1200, Output: 0.2802353862547736\n",
      "Coin: ONDOUSDT, TP: 0.01, SL: -0.02, Sigma: 3, Window Size: 1440, Output: 0.4712604990937801\n",
      "Coin: ONDOUSDT, TP: 0.01, SL: -0.02, Sigma: 4, Window Size: 240, Output: 0.1858833228645046\n",
      "Coin: ONDOUSDT, TP: 0.01, SL: -0.02, Sigma: 4, Window Size: 480, Output: 0.14701541627615056\n",
      "Coin: ONDOUSDT, TP: 0.01, SL: -0.02, Sigma: 4, Window Size: 720, Output: 0.22076851470568004\n",
      "Coin: ONDOUSDT, TP: 0.01, SL: -0.02, Sigma: 4, Window Size: 960, Output: 0.18206568618959285\n",
      "Coin: ONDOUSDT, TP: 0.01, SL: -0.02, Sigma: 4, Window Size: 1200, Output: 0.14266406424903755\n",
      "Coin: ONDOUSDT, TP: 0.01, SL: -0.02, Sigma: 4, Window Size: 1440, Output: 0.12355961754375355\n",
      "Coin: ONDOUSDT, TP: 0.01, SL: -0.02, Sigma: 5, Window Size: 240, Output: 0.09266842219394034\n",
      "Coin: ONDOUSDT, TP: 0.01, SL: -0.02, Sigma: 5, Window Size: 480, Output: 0.020553160285502137\n",
      "Coin: ONDOUSDT, TP: 0.01, SL: -0.02, Sigma: 5, Window Size: 720, Output: -0.012064367137696763\n",
      "Coin: ONDOUSDT, TP: 0.01, SL: -0.02, Sigma: 5, Window Size: 960, Output: 0.035948745188545184\n",
      "Coin: ONDOUSDT, TP: 0.01, SL: -0.02, Sigma: 5, Window Size: 1200, Output: 0.05027447433630683\n",
      "Coin: ONDOUSDT, TP: 0.01, SL: -0.02, Sigma: 5, Window Size: 1440, Output: 0.06006616238367246\n",
      "Coin: ONDOUSDT, TP: 0.02, SL: -0.002, Sigma: 2, Window Size: 240, Output: 0.09125352053369429\n",
      "Coin: ONDOUSDT, TP: 0.02, SL: -0.002, Sigma: 2, Window Size: 480, Output: 0.13883379485171998\n",
      "Coin: ONDOUSDT, TP: 0.02, SL: -0.002, Sigma: 2, Window Size: 720, Output: 0.19425528067792086\n",
      "Coin: ONDOUSDT, TP: 0.02, SL: -0.002, Sigma: 2, Window Size: 960, Output: 0.2135914507364849\n",
      "Coin: ONDOUSDT, TP: 0.02, SL: -0.002, Sigma: 2, Window Size: 1200, Output: 0.1340531880791903\n",
      "Coin: ONDOUSDT, TP: 0.02, SL: -0.002, Sigma: 2, Window Size: 1440, Output: 0.05749335911808173\n",
      "Coin: ONDOUSDT, TP: 0.02, SL: -0.002, Sigma: 3, Window Size: 240, Output: -0.002235125809669558\n",
      "Coin: ONDOUSDT, TP: 0.02, SL: -0.002, Sigma: 3, Window Size: 480, Output: 0.2390165674765411\n",
      "Coin: ONDOUSDT, TP: 0.02, SL: -0.002, Sigma: 3, Window Size: 720, Output: 0.13843296218053003\n",
      "Coin: ONDOUSDT, TP: 0.02, SL: -0.002, Sigma: 3, Window Size: 960, Output: 0.15279383393759294\n",
      "Coin: ONDOUSDT, TP: 0.02, SL: -0.002, Sigma: 3, Window Size: 1200, Output: 0.08666503275557824\n",
      "Coin: ONDOUSDT, TP: 0.02, SL: -0.002, Sigma: 3, Window Size: 1440, Output: 0.14056254142504532\n",
      "Coin: ONDOUSDT, TP: 0.02, SL: -0.002, Sigma: 4, Window Size: 240, Output: -0.07845933166169616\n",
      "Coin: ONDOUSDT, TP: 0.02, SL: -0.002, Sigma: 4, Window Size: 480, Output: -0.04969538723494271\n",
      "Coin: ONDOUSDT, TP: 0.02, SL: -0.002, Sigma: 4, Window Size: 720, Output: -0.03715196439505819\n",
      "Coin: ONDOUSDT, TP: 0.02, SL: -0.002, Sigma: 4, Window Size: 960, Output: 0.018067415226274308\n",
      "Coin: ONDOUSDT, TP: 0.02, SL: -0.002, Sigma: 4, Window Size: 1200, Output: -0.024769643798523866\n",
      "Coin: ONDOUSDT, TP: 0.02, SL: -0.002, Sigma: 4, Window Size: 1440, Output: -0.05922457702845374\n",
      "Coin: ONDOUSDT, TP: 0.02, SL: -0.002, Sigma: 5, Window Size: 240, Output: -0.04742258719585013\n",
      "Coin: ONDOUSDT, TP: 0.02, SL: -0.002, Sigma: 5, Window Size: 480, Output: -0.07327213190346515\n",
      "Coin: ONDOUSDT, TP: 0.02, SL: -0.002, Sigma: 5, Window Size: 720, Output: -0.07130574837568793\n",
      "Coin: ONDOUSDT, TP: 0.02, SL: -0.002, Sigma: 5, Window Size: 960, Output: -0.08070253788234061\n",
      "Coin: ONDOUSDT, TP: 0.02, SL: -0.002, Sigma: 5, Window Size: 1200, Output: -0.08941624305299745\n",
      "Coin: ONDOUSDT, TP: 0.02, SL: -0.002, Sigma: 5, Window Size: 1440, Output: -0.024593007767098607\n",
      "Coin: ONDOUSDT, TP: 0.02, SL: -0.003, Sigma: 2, Window Size: 240, Output: 0.23682608295296992\n",
      "Coin: ONDOUSDT, TP: 0.02, SL: -0.003, Sigma: 2, Window Size: 480, Output: 0.19380032655720136\n",
      "Coin: ONDOUSDT, TP: 0.02, SL: -0.003, Sigma: 2, Window Size: 720, Output: 0.28877594561114583\n",
      "Coin: ONDOUSDT, TP: 0.02, SL: -0.003, Sigma: 2, Window Size: 960, Output: 0.3130817833484124\n",
      "Coin: ONDOUSDT, TP: 0.02, SL: -0.003, Sigma: 2, Window Size: 1200, Output: 0.2756868475739468\n",
      "Coin: ONDOUSDT, TP: 0.02, SL: -0.003, Sigma: 2, Window Size: 1440, Output: 0.21503151385471753\n",
      "Coin: ONDOUSDT, TP: 0.02, SL: -0.003, Sigma: 3, Window Size: 240, Output: 0.1435872367489226\n",
      "Coin: ONDOUSDT, TP: 0.02, SL: -0.003, Sigma: 3, Window Size: 480, Output: 0.29688143693127933\n",
      "Coin: ONDOUSDT, TP: 0.02, SL: -0.003, Sigma: 3, Window Size: 720, Output: 0.16560731553749297\n",
      "Coin: ONDOUSDT, TP: 0.02, SL: -0.003, Sigma: 3, Window Size: 960, Output: 0.17409962600320028\n",
      "Coin: ONDOUSDT, TP: 0.02, SL: -0.003, Sigma: 3, Window Size: 1200, Output: 0.16282652441310264\n",
      "Coin: ONDOUSDT, TP: 0.02, SL: -0.003, Sigma: 3, Window Size: 1440, Output: 0.202512211338302\n",
      "Coin: ONDOUSDT, TP: 0.02, SL: -0.003, Sigma: 4, Window Size: 240, Output: 0.001301608013557054\n",
      "Coin: ONDOUSDT, TP: 0.02, SL: -0.003, Sigma: 4, Window Size: 480, Output: -0.012616262915791765\n",
      "Coin: ONDOUSDT, TP: 0.02, SL: -0.003, Sigma: 4, Window Size: 720, Output: 0.03324664920245868\n",
      "Coin: ONDOUSDT, TP: 0.02, SL: -0.003, Sigma: 4, Window Size: 960, Output: 0.03524092425488079\n",
      "Coin: ONDOUSDT, TP: 0.02, SL: -0.003, Sigma: 4, Window Size: 1200, Output: 0.015596445685330362\n",
      "Coin: ONDOUSDT, TP: 0.02, SL: -0.003, Sigma: 4, Window Size: 1440, Output: -0.02005323067482656\n",
      "Coin: ONDOUSDT, TP: 0.02, SL: -0.003, Sigma: 5, Window Size: 240, Output: -0.008964335549898506\n",
      "Coin: ONDOUSDT, TP: 0.02, SL: -0.003, Sigma: 5, Window Size: 480, Output: -0.07904819409725039\n",
      "Coin: ONDOUSDT, TP: 0.02, SL: -0.003, Sigma: 5, Window Size: 720, Output: -0.07730935629187774\n",
      "Coin: ONDOUSDT, TP: 0.02, SL: -0.003, Sigma: 5, Window Size: 960, Output: -0.017582691234968695\n",
      "Coin: ONDOUSDT, TP: 0.02, SL: -0.003, Sigma: 5, Window Size: 1200, Output: -0.02398958388096961\n",
      "Coin: ONDOUSDT, TP: 0.02, SL: -0.003, Sigma: 5, Window Size: 1440, Output: -0.015078091833071072\n",
      "Coin: ONDOUSDT, TP: 0.02, SL: -0.005, Sigma: 2, Window Size: 240, Output: 0.030054374158012043\n",
      "Coin: ONDOUSDT, TP: 0.02, SL: -0.005, Sigma: 2, Window Size: 480, Output: 0.01953114664458988\n",
      "Coin: ONDOUSDT, TP: 0.02, SL: -0.005, Sigma: 2, Window Size: 720, Output: 0.24616955954013242\n",
      "Coin: ONDOUSDT, TP: 0.02, SL: -0.005, Sigma: 2, Window Size: 960, Output: 0.22294578849522795\n",
      "Coin: ONDOUSDT, TP: 0.02, SL: -0.005, Sigma: 2, Window Size: 1200, Output: 0.16058881733630492\n",
      "Coin: ONDOUSDT, TP: 0.02, SL: -0.005, Sigma: 2, Window Size: 1440, Output: 0.030425236262671684\n",
      "Coin: ONDOUSDT, TP: 0.02, SL: -0.005, Sigma: 3, Window Size: 240, Output: 0.0685796565278407\n",
      "Coin: ONDOUSDT, TP: 0.02, SL: -0.005, Sigma: 3, Window Size: 480, Output: 0.28613805282945703\n",
      "Coin: ONDOUSDT, TP: 0.02, SL: -0.005, Sigma: 3, Window Size: 720, Output: 0.16910882309458963\n",
      "Coin: ONDOUSDT, TP: 0.02, SL: -0.005, Sigma: 3, Window Size: 960, Output: 0.1668011596258232\n",
      "Coin: ONDOUSDT, TP: 0.02, SL: -0.005, Sigma: 3, Window Size: 1200, Output: 0.13740349579754585\n",
      "Coin: ONDOUSDT, TP: 0.02, SL: -0.005, Sigma: 3, Window Size: 1440, Output: 0.16494649407011286\n",
      "Coin: ONDOUSDT, TP: 0.02, SL: -0.005, Sigma: 4, Window Size: 240, Output: 0.03554025240086034\n",
      "Coin: ONDOUSDT, TP: 0.02, SL: -0.005, Sigma: 4, Window Size: 480, Output: -0.03833693972971686\n",
      "Coin: ONDOUSDT, TP: 0.02, SL: -0.005, Sigma: 4, Window Size: 720, Output: 0.035741253954564955\n",
      "Coin: ONDOUSDT, TP: 0.02, SL: -0.005, Sigma: 4, Window Size: 960, Output: 0.05908666705020926\n",
      "Coin: ONDOUSDT, TP: 0.02, SL: -0.005, Sigma: 4, Window Size: 1200, Output: 0.038669379450490426\n",
      "Coin: ONDOUSDT, TP: 0.02, SL: -0.005, Sigma: 4, Window Size: 1440, Output: -0.018652684710126044\n",
      "Coin: ONDOUSDT, TP: 0.02, SL: -0.005, Sigma: 5, Window Size: 240, Output: 0.030976481210794105\n",
      "Coin: ONDOUSDT, TP: 0.02, SL: -0.005, Sigma: 5, Window Size: 480, Output: -0.03244811097459144\n",
      "Coin: ONDOUSDT, TP: 0.02, SL: -0.005, Sigma: 5, Window Size: 720, Output: -0.03171971902485071\n",
      "Coin: ONDOUSDT, TP: 0.02, SL: -0.005, Sigma: 5, Window Size: 960, Output: 0.02774273193876564\n",
      "Coin: ONDOUSDT, TP: 0.02, SL: -0.005, Sigma: 5, Window Size: 1200, Output: 0.027297215952809872\n",
      "Coin: ONDOUSDT, TP: 0.02, SL: -0.005, Sigma: 5, Window Size: 1440, Output: 0.03501493652247889\n",
      "Coin: ONDOUSDT, TP: 0.02, SL: -0.01, Sigma: 2, Window Size: 240, Output: 0.18218141563903267\n",
      "Coin: ONDOUSDT, TP: 0.02, SL: -0.01, Sigma: 2, Window Size: 480, Output: 0.19204609619230795\n",
      "Coin: ONDOUSDT, TP: 0.02, SL: -0.01, Sigma: 2, Window Size: 720, Output: 0.4294163169337636\n",
      "Coin: ONDOUSDT, TP: 0.02, SL: -0.01, Sigma: 2, Window Size: 960, Output: 0.15010498633958236\n",
      "Coin: ONDOUSDT, TP: 0.02, SL: -0.01, Sigma: 2, Window Size: 1200, Output: 0.23114162744888223\n",
      "Coin: ONDOUSDT, TP: 0.02, SL: -0.01, Sigma: 2, Window Size: 1440, Output: 0.11548699360692649\n",
      "Coin: ONDOUSDT, TP: 0.02, SL: -0.01, Sigma: 3, Window Size: 240, Output: -0.04079320105688389\n",
      "Coin: ONDOUSDT, TP: 0.02, SL: -0.01, Sigma: 3, Window Size: 480, Output: 0.3221390549091855\n",
      "Coin: ONDOUSDT, TP: 0.02, SL: -0.01, Sigma: 3, Window Size: 720, Output: 0.18173032016296342\n",
      "Coin: ONDOUSDT, TP: 0.02, SL: -0.01, Sigma: 3, Window Size: 960, Output: 0.20024559003014375\n",
      "Coin: ONDOUSDT, TP: 0.02, SL: -0.01, Sigma: 3, Window Size: 1200, Output: 0.1840196212013625\n",
      "Coin: ONDOUSDT, TP: 0.02, SL: -0.01, Sigma: 3, Window Size: 1440, Output: 0.1670710697301554\n",
      "Coin: ONDOUSDT, TP: 0.02, SL: -0.01, Sigma: 4, Window Size: 240, Output: -0.05768615585496961\n",
      "Coin: ONDOUSDT, TP: 0.02, SL: -0.01, Sigma: 4, Window Size: 480, Output: -0.07594992870413275\n",
      "Coin: ONDOUSDT, TP: 0.02, SL: -0.01, Sigma: 4, Window Size: 720, Output: -0.0337306579848794\n",
      "Coin: ONDOUSDT, TP: 0.02, SL: -0.01, Sigma: 4, Window Size: 960, Output: 0.04429098466157633\n",
      "Coin: ONDOUSDT, TP: 0.02, SL: -0.01, Sigma: 4, Window Size: 1200, Output: 0.037746738055803086\n",
      "Coin: ONDOUSDT, TP: 0.02, SL: -0.01, Sigma: 4, Window Size: 1440, Output: -0.010265989046727375\n",
      "Coin: ONDOUSDT, TP: 0.02, SL: -0.01, Sigma: 5, Window Size: 240, Output: 0.009181629040982409\n",
      "Coin: ONDOUSDT, TP: 0.02, SL: -0.01, Sigma: 5, Window Size: 480, Output: -0.059429894159519825\n",
      "Coin: ONDOUSDT, TP: 0.02, SL: -0.01, Sigma: 5, Window Size: 720, Output: -0.06408735346249683\n",
      "Coin: ONDOUSDT, TP: 0.02, SL: -0.01, Sigma: 5, Window Size: 960, Output: -0.07700219385426799\n",
      "Coin: ONDOUSDT, TP: 0.02, SL: -0.01, Sigma: 5, Window Size: 1200, Output: -0.030032098426788112\n",
      "Coin: ONDOUSDT, TP: 0.02, SL: -0.01, Sigma: 5, Window Size: 1440, Output: 0.05813334207589582\n",
      "Coin: ONDOUSDT, TP: 0.02, SL: -0.02, Sigma: 2, Window Size: 240, Output: 0.0975945649824379\n",
      "Coin: ONDOUSDT, TP: 0.02, SL: -0.02, Sigma: 2, Window Size: 480, Output: -0.07235677404121366\n",
      "Coin: ONDOUSDT, TP: 0.02, SL: -0.02, Sigma: 2, Window Size: 720, Output: 0.3047910631941998\n",
      "Coin: ONDOUSDT, TP: 0.02, SL: -0.02, Sigma: 2, Window Size: 960, Output: 0.03336945799944402\n",
      "Coin: ONDOUSDT, TP: 0.02, SL: -0.02, Sigma: 2, Window Size: 1200, Output: 0.10989462307541209\n",
      "Coin: ONDOUSDT, TP: 0.02, SL: -0.02, Sigma: 2, Window Size: 1440, Output: 0.034533254520816126\n",
      "Coin: ONDOUSDT, TP: 0.02, SL: -0.02, Sigma: 3, Window Size: 240, Output: 0.09116906513159995\n",
      "Coin: ONDOUSDT, TP: 0.02, SL: -0.02, Sigma: 3, Window Size: 480, Output: 0.26395383742729395\n",
      "Coin: ONDOUSDT, TP: 0.02, SL: -0.02, Sigma: 3, Window Size: 720, Output: 0.13609662047559667\n",
      "Coin: ONDOUSDT, TP: 0.02, SL: -0.02, Sigma: 3, Window Size: 960, Output: 0.20703809077796942\n",
      "Coin: ONDOUSDT, TP: 0.02, SL: -0.02, Sigma: 3, Window Size: 1200, Output: 0.1011165224432109\n",
      "Coin: ONDOUSDT, TP: 0.02, SL: -0.02, Sigma: 3, Window Size: 1440, Output: 0.16161089674857565\n",
      "Coin: ONDOUSDT, TP: 0.02, SL: -0.02, Sigma: 4, Window Size: 240, Output: 0.14838573812705724\n",
      "Coin: ONDOUSDT, TP: 0.02, SL: -0.02, Sigma: 4, Window Size: 480, Output: 0.0308741620425923\n",
      "Coin: ONDOUSDT, TP: 0.02, SL: -0.02, Sigma: 4, Window Size: 720, Output: 0.07278435229443558\n",
      "Coin: ONDOUSDT, TP: 0.02, SL: -0.02, Sigma: 4, Window Size: 960, Output: 0.011144324478286505\n",
      "Coin: ONDOUSDT, TP: 0.02, SL: -0.02, Sigma: 4, Window Size: 1200, Output: 0.03849152007813039\n",
      "Coin: ONDOUSDT, TP: 0.02, SL: -0.02, Sigma: 4, Window Size: 1440, Output: -0.0023161325648873854\n",
      "Coin: ONDOUSDT, TP: 0.02, SL: -0.02, Sigma: 5, Window Size: 240, Output: 0.10794529497430949\n",
      "Coin: ONDOUSDT, TP: 0.02, SL: -0.02, Sigma: 5, Window Size: 480, Output: -0.011580502947398763\n",
      "Coin: ONDOUSDT, TP: 0.02, SL: -0.02, Sigma: 5, Window Size: 720, Output: -0.0561649687378577\n",
      "Coin: ONDOUSDT, TP: 0.02, SL: -0.02, Sigma: 5, Window Size: 960, Output: 0.039204694261904316\n",
      "Coin: ONDOUSDT, TP: 0.02, SL: -0.02, Sigma: 5, Window Size: 1200, Output: 0.021604099712106417\n",
      "Coin: ONDOUSDT, TP: 0.02, SL: -0.02, Sigma: 5, Window Size: 1440, Output: 0.061022613159284145\n",
      "         Coin    TP     SL  Sigma  Window Size  Output\n",
      "458  ONDOUSDT 0.010 -0.020      2          720   0.489\n",
      "467  ONDOUSDT 0.010 -0.020      3         1440   0.471\n",
      "554  ONDOUSDT 0.020 -0.010      2          720   0.429\n",
      "463  ONDOUSDT 0.010 -0.020      3          480   0.425\n",
      "343  ONDOUSDT 0.005 -0.020      3          480   0.342\n",
      "..        ...   ...    ...    ...          ...     ...\n",
      "523  ONDOUSDT 0.020 -0.003      5          480  -0.079\n",
      "501  ONDOUSDT 0.020 -0.002      5          960  -0.081\n",
      "220  ONDOUSDT 0.003 -0.020      2         1200  -0.086\n",
      "502  ONDOUSDT 0.020 -0.002      5         1200  -0.089\n",
      "221  ONDOUSDT 0.003 -0.020      2         1440  -0.151\n",
      "\n",
      "[600 rows x 6 columns]\n"
     ]
    }
   ],
   "source": [
    "results = []\n",
    "\n",
    "for TP in TP_list:\n",
    "    for SL in SL_list:\n",
    "        for sigma in sigma_list:\n",
    "            for window_size in window_size_list:\n",
    "                output = backtestDEMO(df=df, sigma=sigma, window_size=window_size, TP=TP, SL=SL, plot=False)\n",
    "                \n",
    "                results.append({\n",
    "                    'Coin': coin,\n",
    "                    'TP': TP,\n",
    "                    'SL': SL,\n",
    "                    'Sigma': sigma,\n",
    "                    'Window Size': window_size,\n",
    "                    'Output': output\n",
    "                })\n",
    "                print(f'Coin: {coin}, TP: {TP}, SL: {SL}, Sigma: {sigma}, Window Size: {window_size}, Output: {output}')\n",
    "\n",
    "df_results = pd.DataFrame(results)\n",
    "\n",
    "df_sorted = df_results.sort_values(by='Output', ascending=False)\n",
    "\n",
    "df_sorted.to_csv(f'{coin}_backtest_results.csv', index=False)\n",
    "\n",
    "print(df_sorted)\n"
   ]
  },
  {
   "cell_type": "code",
   "execution_count": 103,
   "metadata": {},
   "outputs": [
    {
     "data": {
      "text/html": [
       "<div>\n",
       "<style scoped>\n",
       "    .dataframe tbody tr th:only-of-type {\n",
       "        vertical-align: middle;\n",
       "    }\n",
       "\n",
       "    .dataframe tbody tr th {\n",
       "        vertical-align: top;\n",
       "    }\n",
       "\n",
       "    .dataframe thead th {\n",
       "        text-align: right;\n",
       "    }\n",
       "</style>\n",
       "<table border=\"1\" class=\"dataframe\">\n",
       "  <thead>\n",
       "    <tr style=\"text-align: right;\">\n",
       "      <th></th>\n",
       "      <th>Coin</th>\n",
       "      <th>TP</th>\n",
       "      <th>SL</th>\n",
       "      <th>Sigma</th>\n",
       "      <th>Window Size</th>\n",
       "      <th>Output</th>\n",
       "    </tr>\n",
       "  </thead>\n",
       "  <tbody>\n",
       "    <tr>\n",
       "      <th>0</th>\n",
       "      <td>ONDOUSDT</td>\n",
       "      <td>0.010</td>\n",
       "      <td>-0.020</td>\n",
       "      <td>2</td>\n",
       "      <td>720</td>\n",
       "      <td>0.489</td>\n",
       "    </tr>\n",
       "    <tr>\n",
       "      <th>1</th>\n",
       "      <td>ONDOUSDT</td>\n",
       "      <td>0.010</td>\n",
       "      <td>-0.020</td>\n",
       "      <td>3</td>\n",
       "      <td>1440</td>\n",
       "      <td>0.471</td>\n",
       "    </tr>\n",
       "    <tr>\n",
       "      <th>2</th>\n",
       "      <td>ONDOUSDT</td>\n",
       "      <td>0.020</td>\n",
       "      <td>-0.010</td>\n",
       "      <td>2</td>\n",
       "      <td>720</td>\n",
       "      <td>0.429</td>\n",
       "    </tr>\n",
       "    <tr>\n",
       "      <th>3</th>\n",
       "      <td>ONDOUSDT</td>\n",
       "      <td>0.010</td>\n",
       "      <td>-0.020</td>\n",
       "      <td>3</td>\n",
       "      <td>480</td>\n",
       "      <td>0.425</td>\n",
       "    </tr>\n",
       "    <tr>\n",
       "      <th>4</th>\n",
       "      <td>ONDOUSDT</td>\n",
       "      <td>0.005</td>\n",
       "      <td>-0.020</td>\n",
       "      <td>3</td>\n",
       "      <td>480</td>\n",
       "      <td>0.342</td>\n",
       "    </tr>\n",
       "    <tr>\n",
       "      <th>...</th>\n",
       "      <td>...</td>\n",
       "      <td>...</td>\n",
       "      <td>...</td>\n",
       "      <td>...</td>\n",
       "      <td>...</td>\n",
       "      <td>...</td>\n",
       "    </tr>\n",
       "    <tr>\n",
       "      <th>595</th>\n",
       "      <td>ONDOUSDT</td>\n",
       "      <td>0.020</td>\n",
       "      <td>-0.003</td>\n",
       "      <td>5</td>\n",
       "      <td>480</td>\n",
       "      <td>-0.079</td>\n",
       "    </tr>\n",
       "    <tr>\n",
       "      <th>596</th>\n",
       "      <td>ONDOUSDT</td>\n",
       "      <td>0.020</td>\n",
       "      <td>-0.002</td>\n",
       "      <td>5</td>\n",
       "      <td>960</td>\n",
       "      <td>-0.081</td>\n",
       "    </tr>\n",
       "    <tr>\n",
       "      <th>597</th>\n",
       "      <td>ONDOUSDT</td>\n",
       "      <td>0.003</td>\n",
       "      <td>-0.020</td>\n",
       "      <td>2</td>\n",
       "      <td>1200</td>\n",
       "      <td>-0.086</td>\n",
       "    </tr>\n",
       "    <tr>\n",
       "      <th>598</th>\n",
       "      <td>ONDOUSDT</td>\n",
       "      <td>0.020</td>\n",
       "      <td>-0.002</td>\n",
       "      <td>5</td>\n",
       "      <td>1200</td>\n",
       "      <td>-0.089</td>\n",
       "    </tr>\n",
       "    <tr>\n",
       "      <th>599</th>\n",
       "      <td>ONDOUSDT</td>\n",
       "      <td>0.003</td>\n",
       "      <td>-0.020</td>\n",
       "      <td>2</td>\n",
       "      <td>1440</td>\n",
       "      <td>-0.151</td>\n",
       "    </tr>\n",
       "  </tbody>\n",
       "</table>\n",
       "<p>600 rows × 6 columns</p>\n",
       "</div>"
      ],
      "text/plain": [
       "         Coin    TP     SL  Sigma  Window Size  Output\n",
       "0    ONDOUSDT 0.010 -0.020      2          720   0.489\n",
       "1    ONDOUSDT 0.010 -0.020      3         1440   0.471\n",
       "2    ONDOUSDT 0.020 -0.010      2          720   0.429\n",
       "3    ONDOUSDT 0.010 -0.020      3          480   0.425\n",
       "4    ONDOUSDT 0.005 -0.020      3          480   0.342\n",
       "..        ...   ...    ...    ...          ...     ...\n",
       "595  ONDOUSDT 0.020 -0.003      5          480  -0.079\n",
       "596  ONDOUSDT 0.020 -0.002      5          960  -0.081\n",
       "597  ONDOUSDT 0.003 -0.020      2         1200  -0.086\n",
       "598  ONDOUSDT 0.020 -0.002      5         1200  -0.089\n",
       "599  ONDOUSDT 0.003 -0.020      2         1440  -0.151\n",
       "\n",
       "[600 rows x 6 columns]"
      ]
     },
     "execution_count": 103,
     "metadata": {},
     "output_type": "execute_result"
    }
   ],
   "source": [
    "pd.set_option('display.max_rows', 10)\n",
    "\n",
    "df1 = pd.read_csv('INJUSDT_backtest_results.csv')\n",
    "df2 = pd.read_csv('ONDOUSDT_backtest_results.csv')\n",
    "\n",
    "df2"
   ]
  },
  {
   "cell_type": "code",
   "execution_count": null,
   "metadata": {},
   "outputs": [],
   "source": [
    "import "
   ]
  },
  {
   "cell_type": "code",
   "execution_count": 108,
   "metadata": {},
   "outputs": [
    {
     "name": "stdout",
     "output_type": "stream",
     "text": [
      "Best parameters:\n",
      "TP              0.005\n",
      "SL             -0.010\n",
      "Sigma           2.000\n",
      "Window Size   240.000\n",
      "Output          0.213\n",
      "Name: 264, dtype: float64\n"
     ]
    },
    {
     "data": {
      "image/png": "[encoded data removed]",
      "text/plain": [
       "<Figure size 640x480 with 2 Axes>"
      ]
     },
     "metadata": {},
     "output_type": "display_data"
    },
    {
     "data": {
      "text/plain": [
       "'\\nEach cell in the heatmap represents a combination of TP and SL parameters.\\nThe color intensity of each cell corresponds to the average output value for that combination. Warmer colors (e.g., red) typically indicate higher average output values, while cooler colors (e.g., blue) indicate lower average output values.\\nThe annot parameter set to True in sns.heatmap adds numerical annotations to each cell, displaying the average output value.\\n'"
      ]
     },
     "execution_count": 108,
     "metadata": {},
     "output_type": "execute_result"
    }
   ],
   "source": [
    "import pandas as pd\n",
    "import seaborn as sns\n",
    "import matplotlib.pyplot as plt\n",
    "\n",
    "combined_df = pd.concat([df1, df2], ignore_index=True)\n",
    "\n",
    "# Group by parameters and calculate aggregate statistics\n",
    "grouped_df = df1.groupby(['TP', 'SL', 'Sigma', 'Window Size']).agg({'Output': 'mean'}).reset_index()\n",
    "\n",
    "# Visualize the performance using a heatmap\n",
    "heatmap_data = grouped_df.pivot_table(index='TP', columns='SL', values='Output')\n",
    "heatmap_data = heatmap_data.reindex(sorted(heatmap_data.columns), axis=1)\n",
    "heatmap_data = heatmap_data.sort_index(ascending=False)\n",
    "sns.heatmap(heatmap_data, annot=True, cmap='coolwarm')\n",
    "\n",
    "# Identify the best parameters\n",
    "best_params = grouped_df.loc[grouped_df['Output'].idxmax()]\n",
    "\n",
    "print(\"Best parameters:\")\n",
    "print(best_params)\n",
    "\n",
    "plt.show()  # Show the plot\n",
    "\n",
    "\n",
    "'''\n",
    "Each cell in the heatmap represents a combination of TP and SL parameters.\n",
    "The color intensity of each cell corresponds to the average output value for that combination. Warmer colors (e.g., red) typically indicate higher average output values, while cooler colors (e.g., blue) indicate lower average output values.\n",
    "The annot parameter set to True in sns.heatmap adds numerical annotations to each cell, displaying the average output value.\n",
    "'''\n"
   ]
  }
 ],
 "metadata": {
  "kernelspec": {
   "display_name": "base",
   "language": "python",
   "name": "python3"
  },
  "language_info": {
   "codemirror_mode": {
    "name": "ipython",
    "version": 3
   },
   "file_extension": ".py",
   "mimetype": "text/x-python",
   "name": "python",
   "nbconvert_exporter": "python",
   "pygments_lexer": "ipython3",
   "version": "3.9.13"
  },
  "orig_nbformat": 4,
  "vscode": {
   "interpreter": {
    "hash": "40d3a090f54c6569ab1632332b64b2c03c39dcf918b08424e98f38b5ae0af88f"
   }
  }
 },
 "nbformat": 4,
 "nbformat_minor": 2
}
